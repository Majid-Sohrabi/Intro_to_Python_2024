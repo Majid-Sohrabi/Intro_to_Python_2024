{
 "cells": [
  {
   "cell_type": "markdown",
   "metadata": {
    "id": "d8ShhvetFpA7"
   },
   "source": [
    "# Week 4: Tuple, In Operator, For (Nestead)\n",
    "\n",
    "Instructor: **Majid Sohrabi**"
   ]
  },
  {
   "cell_type": "markdown",
   "metadata": {},
   "source": [
    "# 1. Tuple"
   ]
  },
  {
   "cell_type": "markdown",
   "metadata": {},
   "source": [
    "There is another sequence type that is very similar to lists. The major difference is that we cannot change it after we've created one. Such sequence is called a **tuple**.\n",
    "\n",
    "We can create one using usual brackets instead of square ones."
   ]
  },
  {
   "cell_type": "code",
   "execution_count": null,
   "metadata": {},
   "outputs": [],
   "source": [
    "# Create an empty tuple\n",
    "<YOUR CODE>"
   ]
  },
  {
   "cell_type": "code",
   "execution_count": null,
   "metadata": {},
   "outputs": [],
   "source": [
    "tuple_1 = \"Oleg\",\n",
    "type(tuple_1)"
   ]
  },
  {
   "cell_type": "code",
   "execution_count": null,
   "metadata": {},
   "outputs": [],
   "source": [
    "tuple_2 = \"Oleg\", \"Maria\", \"Eva\"\n",
    "tuple_2"
   ]
  },
  {
   "cell_type": "code",
   "execution_count": null,
   "metadata": {},
   "outputs": [],
   "source": [
    "tuple_3 = (\"Oleg\", \"Maria\", \"Eva\")\n",
    "tuple_3"
   ]
  },
  {
   "cell_type": "code",
   "execution_count": null,
   "metadata": {},
   "outputs": [],
   "source": [
    "# Don't forget about the string\n",
    "temp = \"Oleg\"\n",
    "type(temp)"
   ]
  },
  {
   "cell_type": "code",
   "execution_count": null,
   "metadata": {},
   "outputs": [],
   "source": [
    "a = (1, 2, 3, 4, 5, 6)\n",
    "print(type(a))"
   ]
  },
  {
   "cell_type": "markdown",
   "metadata": {},
   "source": [
    "## 1.1 Mutable and immutable data types"
   ]
  },
  {
   "cell_type": "markdown",
   "metadata": {},
   "source": [
    "It was said that we cannot change a tuple. Let's find out what does it mean.\n",
    "\n",
    "Let's try to change an element withing a list."
   ]
  },
  {
   "cell_type": "code",
   "execution_count": null,
   "metadata": {},
   "outputs": [],
   "source": [
    "shopping_list = ['bread', 'milk', 'ice cream', 'cheese']\n",
    "\n",
    "shopping_list[2] = 'chocolate'\n",
    "\n",
    "print(shopping_list)"
   ]
  },
  {
   "cell_type": "code",
   "execution_count": null,
   "metadata": {},
   "outputs": [],
   "source": [
    "shopping_list.append(4)\n",
    "print(shopping_list)"
   ]
  },
  {
   "cell_type": "markdown",
   "metadata": {},
   "source": [
    "Now you see that we can assign a new element by a list index. Thus list is a **mutable data type**.\n",
    "\n",
    "But we cannot do the same with a tuple."
   ]
  },
  {
   "cell_type": "code",
   "execution_count": null,
   "metadata": {},
   "outputs": [],
   "source": [
    "shopping_tuple = ('bread', 'milk', 'ice cream', 'cheese')\n",
    "\n",
    "shopping_tuple[2] = 'chocolate'"
   ]
  },
  {
   "cell_type": "code",
   "execution_count": null,
   "metadata": {},
   "outputs": [],
   "source": [
    "shopping_tuple.append(4)"
   ]
  },
  {
   "cell_type": "markdown",
   "metadata": {},
   "source": [
    "Tuples are **immutable**. Another data type that is also immutable is string."
   ]
  },
  {
   "cell_type": "code",
   "execution_count": null,
   "metadata": {},
   "outputs": [],
   "source": [
    "# String is also immutable\n",
    "s = 'bread'\n",
    "s[0] = 'B'"
   ]
  },
  {
   "cell_type": "markdown",
   "metadata": {},
   "source": [
    "## 1.2 Deleting Tuple"
   ]
  },
  {
   "cell_type": "code",
   "execution_count": null,
   "metadata": {},
   "outputs": [],
   "source": [
    "del shopping_tuple[0] # Tuples are immutable which means we can't DELETE tuple items"
   ]
  },
  {
   "cell_type": "code",
   "execution_count": null,
   "metadata": {},
   "outputs": [],
   "source": [
    "del shopping_tuple # Deleting entire object is possible"
   ]
  },
  {
   "cell_type": "code",
   "execution_count": null,
   "metadata": {},
   "outputs": [],
   "source": [
    "shopping_tuple"
   ]
  },
  {
   "cell_type": "code",
   "execution_count": null,
   "metadata": {},
   "outputs": [],
   "source": [
    "shopping_tuple = ('bread', 'milk', 'ice cream', 'cheese')"
   ]
  },
  {
   "cell_type": "markdown",
   "metadata": {},
   "source": [
    "If we really want to change an element inside the tuple we can always convert it to a list, change element, and convert it back. This situation is rather exotic, but let's check how we can do something like this.\n",
    "\n",
    "`list()` function can transform a tuple to a list, and `tuple()` vice versa. It's similar to the convertion of a string `'2'` to an integer via `int()` function.\n",
    "\n",
    "Later we will see that we can use `tuple()` and `list()` to convert some data types into tuples and lists as well."
   ]
  },
  {
   "cell_type": "code",
   "execution_count": null,
   "metadata": {},
   "outputs": [],
   "source": [
    "shopping_tuple = ('bread', 'milk', 'ice cream', 'cheese')\n",
    "\n",
    "shopping_list = list(shopping_tuple) # converting tuple to list\n",
    "\n",
    "shopping_list[0] = 'pelmeni'  # replacing list's element\n",
    "\n",
    "shopping_tuple = tuple(shopping_list)   # converting list with a replaced element back to tuple\n",
    "\n",
    "print(shopping_tuple)"
   ]
  },
  {
   "cell_type": "markdown",
   "metadata": {},
   "source": [
    "So, today we have learned about **sequences**. We know two sequence-types: **list** and **tuple**. **String** is also a sequence-like data type.\n",
    "\n",
    "Also we've learned that data types can be **mutable** or **immutable**. So far we know the only **mutable** data type, it is list."
   ]
  },
  {
   "cell_type": "markdown",
   "metadata": {},
   "source": [
    "## 1.3 Unpacking: printing a sequence\n",
    "\n",
    "If we want to print a list without square brackets or a tuple without round ones we can use `*` operator within the `print()` function."
   ]
  },
  {
   "cell_type": "code",
   "execution_count": null,
   "metadata": {},
   "outputs": [],
   "source": [
    "shopping_list = ['bread', 'milk', 'ice cream', 'cheese']\n",
    "print(*shopping_list)"
   ]
  },
  {
   "cell_type": "markdown",
   "metadata": {},
   "source": [
    "Star operator before `shopping_list` makes Python see it not like a list but as several indepenedent elements. Something like `print(shopping_list[0], shopping_list[1], shopping_list[2], shopping_list[3])`.\n",
    "\n",
    "This operation is called *unpacking*. Later we will see that we can use unpacking in some other situations as well."
   ]
  },
  {
   "cell_type": "code",
   "execution_count": null,
   "metadata": {},
   "outputs": [],
   "source": [
    "shopping_list = ['bread', 'milk', 'ice cream', 'cheese']\n",
    "\n",
    "# printing our list nicely without unpacking\n",
    "print(shopping_list[0], shopping_list[1], shopping_list[2], shopping_list[3], sep=', ')\n",
    "\n",
    "# the same but shorter\n",
    "print(*shopping_list, sep=', ')"
   ]
  },
  {
   "cell_type": "markdown",
   "metadata": {},
   "source": [
    "Please note that such syntax will not work inside an f-string."
   ]
  },
  {
   "cell_type": "code",
   "execution_count": null,
   "metadata": {},
   "outputs": [],
   "source": [
    "print(f'Our shopping list {*shopping_list}')"
   ]
  },
  {
   "cell_type": "markdown",
   "metadata": {},
   "source": [
    "Same thing works with tuples as well."
   ]
  },
  {
   "cell_type": "code",
   "execution_count": null,
   "metadata": {},
   "outputs": [],
   "source": [
    "students = ('Asya', 'Masha', 'Zeinab')\n",
    "print(*students, sep='; ') # print our students separated by `;`"
   ]
  },
  {
   "cell_type": "code",
   "execution_count": null,
   "metadata": {},
   "outputs": [],
   "source": [
    "# Unpacking the string by tuple\n",
    "\n",
    "tuple(\"Linguistics\")"
   ]
  },
  {
   "cell_type": "code",
   "execution_count": null,
   "metadata": {},
   "outputs": [],
   "source": [
    "# How to unpack elements from a tuple?\n",
    "my_tuple = (1, 2, 3, 4, 5)\n",
    "\n",
    "a, b, c, d, e = my_tuple\n",
    "\n",
    "print(a, b, c, d, e)"
   ]
  },
  {
   "cell_type": "code",
   "execution_count": null,
   "metadata": {},
   "outputs": [],
   "source": [
    "# What if I don't know how many variables are inside a tuple\n",
    "# But we need first and the last elements\n",
    "\n",
    "a, *b, c = my_tuple\n",
    "\n",
    "print(a, b, c)\n",
    "print(type(b))"
   ]
  },
  {
   "cell_type": "markdown",
   "metadata": {},
   "source": [
    "## 1.4 Concatenation of lists and tuples"
   ]
  },
  {
   "cell_type": "markdown",
   "metadata": {},
   "source": [
    "Remember that Python allows us to glue strings together. In a smart way it is called *concatenation*."
   ]
  },
  {
   "cell_type": "code",
   "execution_count": null,
   "metadata": {},
   "outputs": [],
   "source": [
    "a = 'Cat'\n",
    "b = 'Dog'\n",
    "print(f'Just a feline canine little - {a+b}')"
   ]
  },
  {
   "cell_type": "markdown",
   "metadata": {},
   "source": [
    "In the same way we can concatenate two lists. Let's glue together two shopping lists."
   ]
  },
  {
   "cell_type": "code",
   "execution_count": null,
   "metadata": {},
   "outputs": [],
   "source": [
    "# groceries\n",
    "shopping_list_1 = ['bread', 'milk', 'pelmeni']\n",
    "# household goods\n",
    "shopping_list_2 = ['washing powder', 'soap']\n",
    "\n",
    "# all purchases\n",
    "shopping_list_all = shopping_list_1 + shopping_list_2\n",
    "\n",
    "print(*shopping_list_all, sep=', ')"
   ]
  },
  {
   "cell_type": "markdown",
   "metadata": {},
   "source": [
    "The same would work with tuples."
   ]
  },
  {
   "cell_type": "code",
   "execution_count": null,
   "metadata": {},
   "outputs": [],
   "source": [
    "# groceries\n",
    "shopping_tuple_1 = ('bread', 'milk', 'pelmeni')\n",
    "# household goods\n",
    "shopping_tuple_2 = ('washing powder', 'soap')\n",
    "\n",
    "# all purchases\n",
    "all_ = shopping_tuple_1 + shopping_tuple_2\n",
    "print(*all_, sep=', ')"
   ]
  },
  {
   "cell_type": "code",
   "execution_count": null,
   "metadata": {},
   "outputs": [],
   "source": [
    "# Another example\n",
    "my_tuple1 = 1, 2, 3, 4\n",
    "\n",
    "my_tuple2 = (\"Oleg\", \"Maria\", \"Olga\", \"Eva\")\n",
    "\n",
    "result = my_tuple1 + my_tuple2\n",
    "\n",
    "print(result)\n",
    "\n",
    "print(type(result))"
   ]
  },
  {
   "cell_type": "markdown",
   "metadata": {},
   "source": [
    "## 1.5 Nested Tuple in Tuple"
   ]
  },
  {
   "cell_type": "code",
   "execution_count": null,
   "metadata": {},
   "outputs": [],
   "source": [
    "print(my_tuple1)\n",
    "\n",
    "print(my_tuple2)\n",
    "\n",
    "my_tuple3 = (my_tuple1, my_tuple2)\n",
    "print(f\"\\n{my_tuple3}\")\n",
    "\n",
    "print(type(my_tuple3))"
   ]
  },
  {
   "cell_type": "markdown",
   "metadata": {},
   "source": [
    "## 1.6 Nested Tuple in List"
   ]
  },
  {
   "cell_type": "code",
   "execution_count": null,
   "metadata": {},
   "outputs": [],
   "source": [
    "my_list = [(1, 2), (3, 4)]\n",
    "\n",
    "print(my_list)"
   ]
  },
  {
   "cell_type": "code",
   "execution_count": null,
   "metadata": {},
   "outputs": [],
   "source": [
    "# For list it's possible to add element\n",
    "\n",
    "my_list.append((\"Oleg\", \"Maria\"))\n",
    "\n",
    "print(my_list)"
   ]
  },
  {
   "cell_type": "markdown",
   "metadata": {},
   "source": [
    "## 1.7 Nested Lists in Tuples "
   ]
  },
  {
   "cell_type": "code",
   "execution_count": null,
   "metadata": {},
   "outputs": [],
   "source": [
    "my_tuple = ([1, 2, 3], ['a', 'b', 'c'])\n",
    "print(my_tuple)"
   ]
  },
  {
   "cell_type": "code",
   "execution_count": null,
   "metadata": {},
   "outputs": [],
   "source": [
    "# We can't change the tuple data\n",
    "# But what about the list withing the tuple??!!\n",
    "\n",
    "my_tuple[0].append(5)\n",
    "\n",
    "print(my_tuple)"
   ]
  },
  {
   "cell_type": "code",
   "execution_count": null,
   "metadata": {},
   "outputs": [],
   "source": [
    "# What about removing element??!!\n",
    "my_tuple[0].remove(2)\n",
    "\n",
    "print(my_tuple)"
   ]
  },
  {
   "cell_type": "code",
   "execution_count": null,
   "metadata": {},
   "outputs": [],
   "source": [
    "my_tuple.append([9, 8, 7])\n",
    "print(my_tuple)"
   ]
  },
  {
   "cell_type": "code",
   "execution_count": null,
   "metadata": {},
   "outputs": [],
   "source": [
    "# How to repeat an element in a tuple??\n",
    "\n",
    "temp = (\"Linguistics\",) * 4\n",
    "print(temp)\n",
    "print(type(temp))"
   ]
  },
  {
   "cell_type": "code",
   "execution_count": null,
   "metadata": {},
   "outputs": [],
   "source": [
    "temp = (\"Linguistics\",)\n",
    "\n",
    "print(temp*6)"
   ]
  },
  {
   "cell_type": "code",
   "execution_count": null,
   "metadata": {},
   "outputs": [],
   "source": [
    "print(temp)"
   ]
  },
  {
   "cell_type": "markdown",
   "metadata": {},
   "source": [
    "## 1.8 Tuple Indexing"
   ]
  },
  {
   "cell_type": "code",
   "execution_count": null,
   "metadata": {},
   "outputs": [],
   "source": [
    "tup1 = () # Empty tuple\n",
    "\n",
    "tup2 = (10, 30, 60) # tuple of integers numbers\n",
    "\n",
    "tup3 = (10.77, 30.66, 60.89) # tuple of float numbers\n",
    "\n",
    "tup4 = ('one', 'two' , \"three\")# tuple of strings\n",
    "\n",
    "tup5 = ('Asif', 25 ,(50, 100), (150, 90)) # Nested tuples\n",
    "\n",
    "tup6 = (100, 'Asif', 17.765)\n",
    "\n",
    "tup7 = ('Asif', 25 ,[50, 100], [150, 90] , {'John' , 'David'} , (99, 22, 33))\n",
    "\n",
    "len(tup7) #Length of list"
   ]
  },
  {
   "cell_type": "code",
   "execution_count": null,
   "metadata": {},
   "outputs": [],
   "source": [
    "tup2[0] # Retreive first element of the tuple"
   ]
  },
  {
   "cell_type": "code",
   "execution_count": null,
   "metadata": {},
   "outputs": [],
   "source": [
    "tup4[0][0] # Nested indexing"
   ]
  },
  {
   "cell_type": "code",
   "execution_count": null,
   "metadata": {},
   "outputs": [],
   "source": [
    "tup4[-1] # Last item of the tuple"
   ]
  },
  {
   "cell_type": "markdown",
   "metadata": {},
   "source": [
    "## 1.9 Tuple Count"
   ]
  },
  {
   "cell_type": "code",
   "execution_count": null,
   "metadata": {},
   "outputs": [],
   "source": [
    "mytuple1 = ('one', 'two', 'three', 'four', 'one', 'one', 'two', 'three')"
   ]
  },
  {
   "cell_type": "code",
   "execution_count": null,
   "metadata": {},
   "outputs": [],
   "source": [
    "mytuple1.count('one') # Number of times item \"one\" occurred in the tuple."
   ]
  },
  {
   "cell_type": "code",
   "execution_count": null,
   "metadata": {},
   "outputs": [],
   "source": [
    "mytuple1.count('four') # Occurence of item 'four' in the tuple"
   ]
  },
  {
   "cell_type": "code",
   "execution_count": null,
   "metadata": {},
   "outputs": [],
   "source": [
    "len(mytuple1)"
   ]
  },
  {
   "cell_type": "markdown",
   "metadata": {},
   "source": [
    "### Exercise\n",
    "\n",
    "Given two sorted arrays `nums1` and `nums2` of size `m` and `n` respectively, return the median of the two sorted arrays.\n",
    "\n",
    "- Example 1:\n",
    "\n",
    "  > Input: nums1 = [1,3], nums2 = [2] \n",
    "  \n",
    "  > Output: 2.00000\n",
    "  \n",
    "  > Explanation: merged array = [1,2,3] and median is 2.\n",
    "  \n",
    "- Example 2:\n",
    "\n",
    "  > Input: nums1 = [1,2], nums2 = [3,4]\n",
    "  \n",
    "  > Output: 2.50000\n",
    "  \n",
    "  > Explanation: merged array = [1,2,3,4] and median is (2 + 3) / 2 = 2.5."
   ]
  },
  {
   "cell_type": "code",
   "execution_count": null,
   "metadata": {},
   "outputs": [],
   "source": [
    "<YOUR CODE>"
   ]
  },
  {
   "cell_type": "code",
   "execution_count": null,
   "metadata": {},
   "outputs": [],
   "source": []
  },
  {
   "cell_type": "markdown",
   "metadata": {},
   "source": [
    "### Exercise\n",
    "\n",
    "**Step 1**: Create a tuple of numners from 2 to 8\n",
    "\n",
    "`\n",
    "tp1 = 2  3  4  5  6  7  8\n",
    "`\n",
    "\n",
    "**Step 2**: Create `another` tuple by adding an element to *tp1*.\n",
    "\n",
    "`\n",
    "tp2 = 2  3  4  5  6  7  8  0\n",
    "`\n",
    "\n",
    "**Step 3**: Create `another` tuple by adding the reverse of the *tp1* to *tp2*.\n",
    "\n",
    "`\n",
    "tp3 = 2  3  4  5  6  7  8  0  8  7  6  5  4  3  2\n",
    "`"
   ]
  },
  {
   "cell_type": "code",
   "execution_count": null,
   "metadata": {},
   "outputs": [],
   "source": [
    "<YOUR CODE>"
   ]
  },
  {
   "cell_type": "code",
   "execution_count": null,
   "metadata": {},
   "outputs": [],
   "source": [
    "<YOUR CODE>"
   ]
  },
  {
   "cell_type": "code",
   "execution_count": null,
   "metadata": {},
   "outputs": [],
   "source": [
    "<YOUR CODE>"
   ]
  },
  {
   "cell_type": "code",
   "execution_count": null,
   "metadata": {},
   "outputs": [],
   "source": []
  },
  {
   "cell_type": "code",
   "execution_count": null,
   "metadata": {},
   "outputs": [],
   "source": []
  },
  {
   "cell_type": "markdown",
   "metadata": {},
   "source": [
    "## 2. `In` operator"
   ]
  },
  {
   "cell_type": "markdown",
   "metadata": {},
   "source": [
    "In Python we can check if something belongs to a sequence via special `in` operator. Later we will see that `in` works not only with sequences."
   ]
  },
  {
   "cell_type": "code",
   "execution_count": null,
   "metadata": {},
   "outputs": [],
   "source": [
    "backpack = ['wallet', 'headphones', 'ID', 'laptop', 'book']\n",
    "print('headphones' in backpack) # checking if string `headphones` belongs to a list `backpack`?"
   ]
  },
  {
   "cell_type": "markdown",
   "metadata": {},
   "source": [
    "`In` operator returns a boolean value depending on whether our condition is True or not. Here we are checking a condition that *something belongs to a list*.\n",
    "\n",
    "Also we can use `in` with a logical `not` to check a condition that *something does not belong to a list*."
   ]
  },
  {
   "cell_type": "code",
   "execution_count": null,
   "metadata": {},
   "outputs": [],
   "source": [
    "backpack = ['wallet', 'headphones', 'ID', 'laptop', 'book']\n",
    "print('headphones' not in backpack)   # gives us False, 'headpones' belongs to `backpack`\n",
    "print('trasportation card' not in backpack)  # gives us False, 'transportation card' is not in `backpack`"
   ]
  },
  {
   "cell_type": "markdown",
   "metadata": {},
   "source": [
    "Since `in` opeator gives us a logical variable, we can use it within an `if-statement`.\n",
    "\n",
    "A statement `if ... in` could be written like this:\n",
    "\n",
    "    if <item to check> in <list, tuple or string>:\n",
    "        <instructions if an item belongs to a sequence>"
   ]
  },
  {
   "cell_type": "markdown",
   "metadata": {},
   "source": [
    "Let's check an example. On our way to the university let's listen to music if we've packed headphones or read the book if we have not."
   ]
  },
  {
   "cell_type": "code",
   "execution_count": null,
   "metadata": {},
   "outputs": [],
   "source": [
    "backpack = ['wallet', 'headphones', 'ID', 'laptop', 'book']\n",
    "\n",
    "if 'headphones' in backpack:\n",
    "    print('Listen to music')\n",
    "else:\n",
    "    print('Read a book')"
   ]
  },
  {
   "cell_type": "markdown",
   "metadata": {},
   "source": [
    "A statement `if ... not in` works vice versa:\n",
    "\n",
    "    if <item to check> not in <list, tuple or string>:\n",
    "        <instructions if an item does not belong to a sequence>\n",
    "\n",
    "Remember our example with breakfast when we've been talking about `if statements`. Let's change it to use with lists. Now we will not ask for a number of eggs, but will check if there are eggs in our list."
   ]
  },
  {
   "cell_type": "code",
   "execution_count": null,
   "metadata": {},
   "outputs": [],
   "source": [
    "fridge = input('What do we have in the fridge?').split()\n",
    "print(fridge) # printing the things that we have\n",
    "\n",
    "if \"eggs\" not in fridge:\n",
    "    print('Going to the cafe')\n",
    "else:\n",
    "    print('Cooking at home')"
   ]
  },
  {
   "cell_type": "markdown",
   "metadata": {},
   "source": [
    "The same statements would work with tuples and strings. Let's check that an inputted word contains a particular letter."
   ]
  },
  {
   "cell_type": "code",
   "execution_count": null,
   "metadata": {},
   "outputs": [],
   "source": [
    "word = input('Input an word: ')\n",
    "letter = input('Input a letter: ')\n",
    "if letter not in word: # if a letter does not belong to a word\n",
    "    print(f'\"{word}\" does not contain \"{letter}\" letter')\n",
    "else:\n",
    "    print(f'\"{word}\" contains \"{letter}\" letter')"
   ]
  },
  {
   "cell_type": "markdown",
   "metadata": {},
   "source": [
    "Let's check that it works for tuples as well. Our program will check if the item is in the shopping list or not."
   ]
  },
  {
   "cell_type": "code",
   "execution_count": null,
   "metadata": {},
   "outputs": [],
   "source": [
    "shopping_tuple = ('bread', 'milk', 'pelmeni')\n",
    "thing = input('What to check? ')\n",
    "\n",
    "if thing in shopping_tuple: # if list contains this element\n",
    "    print('Didn\\'t forget!')\n",
    "else:\n",
    "    print('Forgot :(')"
   ]
  },
  {
   "cell_type": "markdown",
   "metadata": {},
   "source": [
    "Let's make it more complex. Now we will check several items until the user inputs an 'end' string."
   ]
  },
  {
   "cell_type": "code",
   "execution_count": null,
   "metadata": {},
   "outputs": [],
   "source": [
    "shopping_tuple = ('bread', 'milk', 'pelmeni')\n",
    "thing = input('What to check? ')\n",
    "while thing != 'end':  # our criteria to exit the loop\n",
    "    if thing in shopping_tuple:\n",
    "        print('Didn\\'t forget!')\n",
    "    else:\n",
    "        print('Forgot :(')\n",
    "    thing = input('What to check? ')"
   ]
  },
  {
   "cell_type": "code",
   "execution_count": null,
   "metadata": {},
   "outputs": [],
   "source": []
  },
  {
   "cell_type": "code",
   "execution_count": null,
   "metadata": {},
   "outputs": [],
   "source": []
  },
  {
   "cell_type": "markdown",
   "metadata": {},
   "source": [
    "## 3. `For` loop"
   ]
  },
  {
   "cell_type": "markdown",
   "metadata": {},
   "source": [
    "Let's go back to our shopping list."
   ]
  },
  {
   "cell_type": "code",
   "execution_count": null,
   "metadata": {},
   "outputs": [],
   "source": [
    "shopping_list = ['bread', 'milk', 'pelmeni']\n",
    "print('We need to buy:', *shopping_list) # Prints the elements of the list."
   ]
  },
  {
   "cell_type": "markdown",
   "metadata": {},
   "source": [
    "Ok, via `*` operator we can print elements in our list. But what if we want to perform the same instruction to all elements within a list? E.g. to print a string 'We need to buy <item>' for each item in our shopping list."
   ]
  },
  {
   "cell_type": "code",
   "execution_count": null,
   "metadata": {},
   "outputs": [],
   "source": [
    "print(f'We need to buy: {shopping_list[0]}')\n",
    "print(f'We need to buy: {shopping_list[1]}')\n",
    "print(f'We need to buy: {shopping_list[2]}')"
   ]
  },
  {
   "cell_type": "markdown",
   "metadata": {},
   "source": [
    "Even with three elements it looks like too much of work. But what if we have hundreds of elements?"
   ]
  },
  {
   "cell_type": "markdown",
   "metadata": {},
   "source": [
    "Like it is often a case in Python, there is a tool which will help us to deal with a situation like this. We can use `for` loop to go through list's elements:"
   ]
  },
  {
   "cell_type": "markdown",
   "metadata": {},
   "source": [
    "    for <item> in <list, tuple or string>:\n",
    "        <instructions to perform on item>"
   ]
  },
  {
   "cell_type": "code",
   "execution_count": null,
   "metadata": {},
   "outputs": [],
   "source": [
    "shopping_list = ['bread', 'milk', 'pelmeni']\n",
    "\n",
    "for thing in shopping_list:\n",
    "# go through `shopping_list` and copy each object to a `thing` variable:\n",
    "    print(thing) # print contents of `thing` variable"
   ]
  },
  {
   "cell_type": "markdown",
   "metadata": {},
   "source": [
    "`for` loop creates a variable (`thing` in our example). This variable may be called anything. This variable is created withing a loop but exists outside it as well. In our case `thing` will contain the last item that was assigned to it. Let's check it!"
   ]
  },
  {
   "cell_type": "code",
   "execution_count": null,
   "metadata": {},
   "outputs": [],
   "source": [
    "print(thing) # checking what is inside `thing` variable"
   ]
  },
  {
   "cell_type": "markdown",
   "metadata": {},
   "source": [
    "Don't be surprised if you see two `for` loops in a row where the variable is called the same. Usually it is a technical variable and there is no much use for it outside of a loop."
   ]
  },
  {
   "cell_type": "markdown",
   "metadata": {},
   "source": [
    "Of course we can do something more interesting then just printing things. Let's enumerate our shopping list."
   ]
  },
  {
   "cell_type": "code",
   "execution_count": null,
   "metadata": {},
   "outputs": [],
   "source": [
    "shopping_list = ['bread', 'milk', 'pelmeni']\n",
    "\n",
    "number = 1 # creating a variable with an index\n",
    "for thing in shopping_list:\n",
    "    print(number, thing) # printing an index and an item\n",
    "    number += 1 # updating an index by 1"
   ]
  },
  {
   "cell_type": "markdown",
   "metadata": {},
   "source": [
    "`For` loop works not only with lists. We can also use it for strings and tuples. And later we will learn about other data types where it can be also applied."
   ]
  },
  {
   "cell_type": "markdown",
   "metadata": {},
   "source": [
    "##  3.1 Loop through a tuple"
   ]
  },
  {
   "cell_type": "code",
   "execution_count": null,
   "metadata": {},
   "outputs": [],
   "source": [
    "mytuple = ('one' , 'two' , 'three' , 'four' , 'five' , 'six' , 'seven' , 'eight')\n",
    "mytuple"
   ]
  },
  {
   "cell_type": "code",
   "execution_count": null,
   "metadata": {},
   "outputs": [],
   "source": [
    "for i in mytuple:\n",
    "    print(i)"
   ]
  },
  {
   "cell_type": "code",
   "execution_count": null,
   "metadata": {},
   "outputs": [],
   "source": [
    "for i in enumerate(mytuple):\n",
    "    print(i)"
   ]
  },
  {
   "cell_type": "code",
   "execution_count": null,
   "metadata": {},
   "outputs": [],
   "source": [
    "for ind, val in enumerate(mytuple):\n",
    "    print(f'index is: {ind}')\n",
    "    print(f'value is: {val}\\n')"
   ]
  },
  {
   "cell_type": "markdown",
   "metadata": {},
   "source": [
    "## 3.2 Loop through a list"
   ]
  },
  {
   "cell_type": "code",
   "execution_count": null,
   "metadata": {},
   "outputs": [],
   "source": [
    "mylist = ['one', 'two', 'three']\n",
    "mylist"
   ]
  },
  {
   "cell_type": "code",
   "execution_count": null,
   "metadata": {},
   "outputs": [],
   "source": [
    "for i in mylist:\n",
    "    print(i)"
   ]
  },
  {
   "cell_type": "code",
   "execution_count": null,
   "metadata": {},
   "outputs": [],
   "source": [
    "for i in enumerate(mylist):\n",
    "    print(i)"
   ]
  },
  {
   "cell_type": "code",
   "execution_count": null,
   "metadata": {},
   "outputs": [],
   "source": [
    "for ind, val in enumerate(mylist):\n",
    "    print(f'index is: {ind}')\n",
    "    print(f'value is: {val}\\n')"
   ]
  },
  {
   "cell_type": "markdown",
   "metadata": {},
   "source": [
    "## 3.3 Loop through a string"
   ]
  },
  {
   "cell_type": "code",
   "execution_count": null,
   "metadata": {},
   "outputs": [],
   "source": [
    "mystring = 'Linguistics'\n",
    "mystring"
   ]
  },
  {
   "cell_type": "code",
   "execution_count": null,
   "metadata": {},
   "outputs": [],
   "source": [
    "for i in mystring:\n",
    "    print(i)"
   ]
  },
  {
   "cell_type": "code",
   "execution_count": null,
   "metadata": {},
   "outputs": [],
   "source": [
    "for i in enumerate(mystring):\n",
    "    print(i)"
   ]
  },
  {
   "cell_type": "code",
   "execution_count": null,
   "metadata": {},
   "outputs": [],
   "source": [
    "for ind, val in enumerate(mystring):\n",
    "    print(f'index is: {ind}')\n",
    "    print(f'value is: {val}\\n')"
   ]
  },
  {
   "cell_type": "code",
   "execution_count": null,
   "metadata": {},
   "outputs": [],
   "source": []
  },
  {
   "cell_type": "code",
   "execution_count": null,
   "metadata": {},
   "outputs": [],
   "source": []
  },
  {
   "cell_type": "markdown",
   "metadata": {
    "id": "H9pnqSUHKa6v"
   },
   "source": [
    "# 4. Nested `for` loops"
   ]
  },
  {
   "cell_type": "markdown",
   "metadata": {
    "id": "bAaLM_hKMcBF"
   },
   "source": [
    "Sometimes we need to go through two lists simultaneously. E.g. let's print a part of a multiplication table for number 2, 3 and 4.\n",
    "\n",
    "* We will first go through the list of [2, 3, 4]\n",
    "* For each of the number in our list we will multiply it by numbers from 1 to 9.\n"
   ]
  },
  {
   "cell_type": "code",
   "execution_count": null,
   "metadata": {},
   "outputs": [],
   "source": [
    "for a in [2,3,4]:\n",
    "    for b in range(1,10):\n",
    "        print(f'{a}*{b} = {a*b}')\n",
    "        \n",
    "    print('-'*10) # printing an end-line for the multiplications for the given number\n",
    "    \n",
    "    break   # Let's exit a loop for now after we finish multiplying by 2"
   ]
  },
  {
   "cell_type": "markdown",
   "metadata": {},
   "source": [
    "So, what has happened? Integer 2 was assigned to a variable `a`. Then we've started the second loop, where we had multiplied contents of `a` variable by all numbers in an interval from 1 to 9. Then we've printed ten dashes to indicate that we had finished with that number.\n",
    "\n",
    "If we were not to exit our loop via break, it would do the same for 3 and then for 4."
   ]
  },
  {
   "cell_type": "code",
   "execution_count": null,
   "metadata": {},
   "outputs": [],
   "source": [
    "for a in [2,3,4]:\n",
    "    for b in range(1,10):\n",
    "        print(f'{a}*{b} = {a*b}')\n",
    "    print('-'*10)"
   ]
  },
  {
   "cell_type": "markdown",
   "metadata": {
    "id": "q4QXl-UDOX6L"
   },
   "source": [
    "Nested loops might be useful not only in problems with numbers. Let's print a party invitation for several students."
   ]
  },
  {
   "cell_type": "code",
   "execution_count": null,
   "metadata": {},
   "outputs": [],
   "source": [
    "students = ('Anna', 'Dima', 'Shushanik', 'Yu Na') # tuple of our students\n",
    "date = input('Date: ')\n",
    "time = input('Time: ')\n",
    "\n",
    "for name in students: # for each student print the following invintation\n",
    "    print(f'\\n\\nHi, {name}!\\nYou are invited to a party on {date} at {time}. Waiting for you!')"
   ]
  },
  {
   "cell_type": "markdown",
   "metadata": {
    "id": "CxgH2rPJPbWv"
   },
   "source": [
    "Now imagine that we want print that invitation in Russian as well. Let's create a tuple with two invitation texts."
   ]
  },
  {
   "cell_type": "code",
   "execution_count": null,
   "metadata": {},
   "outputs": [],
   "source": [
    "students = ('Anna', 'Dima', 'Shushanik', 'Yu Na') # tuple of our students\n",
    "date = input('Date: ')\n",
    "time = input('Time: ')\n",
    "\n",
    "for name in students:\n",
    "    texts = (f'\\n\\nHi, {name}!\\nYou are invited to a party on {date} at {time}. Waiting for you!',\n",
    "             f'\\nПривет, {name}!\\nВечеринка пройдет {date} в {time}. Очень ждем!')\n",
    "    for text in texts: # for each student print each invitation\n",
    "        print(text)"
   ]
  },
  {
   "cell_type": "markdown",
   "metadata": {},
   "source": [
    "Sometimes there are also situations when we need `for in range()` to connect three sequences. Imagine that we want to print a receipt in a book store. We have a list of prices for the purchased books, titles for those books and, finally, quantities."
   ]
  },
  {
   "cell_type": "code",
   "execution_count": null,
   "metadata": {},
   "outputs": [],
   "source": [
    "prices = [422, 382, 3544]\n",
    "\n",
    "goods = ['Harry Potter and FOR Loop', 'X-Men against Doctor Tuple', 'Learning Python. Vol.1']\n",
    "\n",
    "amount = [1, 1, 3]\n",
    "\n",
    "for i in range(len(goods)):\n",
    "    \n",
    "    print(f\"Book name: {goods[i]}\\nAmount x price: {amount[i]} x {prices[i]}\")\n",
    "    print(f\"Total: {amount[i] * prices[i]} ₽\\n\")"
   ]
  },
  {
   "cell_type": "markdown",
   "metadata": {},
   "source": [
    "## 4.1 Break and continue in loop"
   ]
  },
  {
   "cell_type": "code",
   "execution_count": null,
   "metadata": {},
   "outputs": [],
   "source": [
    "my_listI = [2, 5, 6, 7, 4, 3]\n",
    "\n",
    "for item in my_listI:\n",
    "    if (item == 6):\n",
    "        break\n",
    "    print(item)"
   ]
  },
  {
   "cell_type": "code",
   "execution_count": null,
   "metadata": {},
   "outputs": [],
   "source": [
    "my_listI = [2, 5, 6, 7, 4, 3]\n",
    "\n",
    "for item in my_listI:\n",
    "    if (item == 6):\n",
    "        continue\n",
    "    print(item)"
   ]
  },
  {
   "cell_type": "code",
   "execution_count": null,
   "metadata": {},
   "outputs": [],
   "source": [
    "# From which loop we are breaking or continuing the loop?\n",
    "<YOUR CODE>"
   ]
  },
  {
   "cell_type": "code",
   "execution_count": null,
   "metadata": {},
   "outputs": [],
   "source": []
  }
 ],
 "metadata": {
  "colab": {
   "provenance": []
  },
  "kernelspec": {
   "display_name": "Python 3 (ipykernel)",
   "language": "python",
   "name": "python3"
  },
  "language_info": {
   "codemirror_mode": {
    "name": "ipython",
    "version": 3
   },
   "file_extension": ".py",
   "mimetype": "text/x-python",
   "name": "python",
   "nbconvert_exporter": "python",
   "pygments_lexer": "ipython3",
   "version": "3.10.9"
  }
 },
 "nbformat": 4,
 "nbformat_minor": 1
}
