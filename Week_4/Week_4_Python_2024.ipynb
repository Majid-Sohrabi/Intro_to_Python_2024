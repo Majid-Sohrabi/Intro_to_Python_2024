{
 "cells": [
  {
   "cell_type": "markdown",
   "metadata": {
    "id": "d8ShhvetFpA7"
   },
   "source": [
    "# Week 4: Tuple, In Operator, For (Nestead)\n",
    "\n",
    "Instructor: **Majid Sohrabi**"
   ]
  },
  {
   "cell_type": "markdown",
   "metadata": {},
   "source": [
    "# 1. Tuple"
   ]
  },
  {
   "cell_type": "markdown",
   "metadata": {},
   "source": [
    "There is another sequence type that is very similar to lists. The major difference is that we cannot change it after we've created one. Such sequence is called a **tuple**.\n",
    "\n",
    "We can create one using usual brackets instead of square ones."
   ]
  },
  {
   "cell_type": "code",
   "execution_count": 3,
   "metadata": {},
   "outputs": [
    {
     "data": {
      "text/plain": [
       "tuple"
      ]
     },
     "execution_count": 3,
     "metadata": {},
     "output_type": "execute_result"
    }
   ],
   "source": [
    "# Create an empty tuple\n",
    "tuple1 = tuple()\n",
    "type(tuple1)"
   ]
  },
  {
   "cell_type": "code",
   "execution_count": 4,
   "metadata": {},
   "outputs": [
    {
     "data": {
      "text/plain": [
       "tuple"
      ]
     },
     "execution_count": 4,
     "metadata": {},
     "output_type": "execute_result"
    }
   ],
   "source": [
    "tuple_1 = \"Oleg\",\n",
    "type(tuple_1)"
   ]
  },
  {
   "cell_type": "code",
   "execution_count": 5,
   "metadata": {},
   "outputs": [
    {
     "data": {
      "text/plain": [
       "('Oleg', 'Maria', 'Eva')"
      ]
     },
     "execution_count": 5,
     "metadata": {},
     "output_type": "execute_result"
    }
   ],
   "source": [
    "tuple_2 = \"Oleg\", \"Maria\", \"Eva\"\n",
    "tuple_2"
   ]
  },
  {
   "cell_type": "code",
   "execution_count": 6,
   "metadata": {},
   "outputs": [
    {
     "data": {
      "text/plain": [
       "('Oleg', 'Maria', 'Eva')"
      ]
     },
     "execution_count": 6,
     "metadata": {},
     "output_type": "execute_result"
    }
   ],
   "source": [
    "tuple_3 = (\"Oleg\", \"Maria\", \"Eva\")\n",
    "tuple_3"
   ]
  },
  {
   "cell_type": "code",
   "execution_count": 7,
   "metadata": {},
   "outputs": [
    {
     "data": {
      "text/plain": [
       "str"
      ]
     },
     "execution_count": 7,
     "metadata": {},
     "output_type": "execute_result"
    }
   ],
   "source": [
    "# Don't forget about the string\n",
    "temp = \"Oleg\"\n",
    "type(temp)"
   ]
  },
  {
   "cell_type": "code",
   "execution_count": 8,
   "metadata": {},
   "outputs": [
    {
     "name": "stdout",
     "output_type": "stream",
     "text": [
      "<class 'tuple'>\n"
     ]
    }
   ],
   "source": [
    "a = (1, 2, 3, 4, 5, 6)\n",
    "print(type(a))"
   ]
  },
  {
   "cell_type": "markdown",
   "metadata": {},
   "source": [
    "## 1.1 Mutable and immutable data types"
   ]
  },
  {
   "cell_type": "markdown",
   "metadata": {},
   "source": [
    "It was said that we cannot change a tuple. Let's find out what does it mean.\n",
    "\n",
    "Let's try to change an element withing a list."
   ]
  },
  {
   "cell_type": "code",
   "execution_count": 9,
   "metadata": {},
   "outputs": [
    {
     "name": "stdout",
     "output_type": "stream",
     "text": [
      "['bread', 'milk', 'chocolate', 'cheese']\n"
     ]
    }
   ],
   "source": [
    "shopping_list = ['bread', 'milk', 'ice cream', 'cheese']\n",
    "\n",
    "shopping_list[2] = 'chocolate'\n",
    "\n",
    "print(shopping_list)"
   ]
  },
  {
   "cell_type": "code",
   "execution_count": 10,
   "metadata": {},
   "outputs": [
    {
     "name": "stdout",
     "output_type": "stream",
     "text": [
      "['bread', 'milk', 'chocolate', 'cheese', 4]\n"
     ]
    }
   ],
   "source": [
    "shopping_list.append(4)\n",
    "print(shopping_list)"
   ]
  },
  {
   "cell_type": "markdown",
   "metadata": {},
   "source": [
    "Now you see that we can assign a new element by a list index. Thus list is a **mutable data type**.\n",
    "\n",
    "But we cannot do the same with a tuple."
   ]
  },
  {
   "cell_type": "code",
   "execution_count": 11,
   "metadata": {},
   "outputs": [
    {
     "ename": "TypeError",
     "evalue": "'tuple' object does not support item assignment",
     "output_type": "error",
     "traceback": [
      "\u001b[0;31m---------------------------------------------------------------------------\u001b[0m",
      "\u001b[0;31mTypeError\u001b[0m                                 Traceback (most recent call last)",
      "Cell \u001b[0;32mIn[11], line 3\u001b[0m\n\u001b[1;32m      1\u001b[0m shopping_tuple \u001b[38;5;241m=\u001b[39m (\u001b[38;5;124m'\u001b[39m\u001b[38;5;124mbread\u001b[39m\u001b[38;5;124m'\u001b[39m, \u001b[38;5;124m'\u001b[39m\u001b[38;5;124mmilk\u001b[39m\u001b[38;5;124m'\u001b[39m, \u001b[38;5;124m'\u001b[39m\u001b[38;5;124mice cream\u001b[39m\u001b[38;5;124m'\u001b[39m, \u001b[38;5;124m'\u001b[39m\u001b[38;5;124mcheese\u001b[39m\u001b[38;5;124m'\u001b[39m)\n\u001b[0;32m----> 3\u001b[0m shopping_tuple[\u001b[38;5;241m2\u001b[39m] \u001b[38;5;241m=\u001b[39m \u001b[38;5;124m'\u001b[39m\u001b[38;5;124mchocolate\u001b[39m\u001b[38;5;124m'\u001b[39m\n",
      "\u001b[0;31mTypeError\u001b[0m: 'tuple' object does not support item assignment"
     ]
    }
   ],
   "source": [
    "shopping_tuple = ('bread', 'milk', 'ice cream', 'cheese')\n",
    "\n",
    "shopping_tuple[2] = 'chocolate'"
   ]
  },
  {
   "cell_type": "code",
   "execution_count": 12,
   "metadata": {},
   "outputs": [
    {
     "ename": "AttributeError",
     "evalue": "'tuple' object has no attribute 'append'",
     "output_type": "error",
     "traceback": [
      "\u001b[0;31m---------------------------------------------------------------------------\u001b[0m",
      "\u001b[0;31mAttributeError\u001b[0m                            Traceback (most recent call last)",
      "Cell \u001b[0;32mIn[12], line 1\u001b[0m\n\u001b[0;32m----> 1\u001b[0m \u001b[43mshopping_tuple\u001b[49m\u001b[38;5;241;43m.\u001b[39;49m\u001b[43mappend\u001b[49m(\u001b[38;5;241m4\u001b[39m)\n",
      "\u001b[0;31mAttributeError\u001b[0m: 'tuple' object has no attribute 'append'"
     ]
    }
   ],
   "source": [
    "shopping_tuple.append(4)"
   ]
  },
  {
   "cell_type": "markdown",
   "metadata": {},
   "source": [
    "Tuples are **immutable**. Another data type that is also immutable is string."
   ]
  },
  {
   "cell_type": "code",
   "execution_count": 13,
   "metadata": {},
   "outputs": [
    {
     "ename": "TypeError",
     "evalue": "'str' object does not support item assignment",
     "output_type": "error",
     "traceback": [
      "\u001b[0;31m---------------------------------------------------------------------------\u001b[0m",
      "\u001b[0;31mTypeError\u001b[0m                                 Traceback (most recent call last)",
      "Cell \u001b[0;32mIn[13], line 3\u001b[0m\n\u001b[1;32m      1\u001b[0m \u001b[38;5;66;03m# String is also immutable\u001b[39;00m\n\u001b[1;32m      2\u001b[0m s \u001b[38;5;241m=\u001b[39m \u001b[38;5;124m'\u001b[39m\u001b[38;5;124mbread\u001b[39m\u001b[38;5;124m'\u001b[39m\n\u001b[0;32m----> 3\u001b[0m s[\u001b[38;5;241m0\u001b[39m] \u001b[38;5;241m=\u001b[39m \u001b[38;5;124m'\u001b[39m\u001b[38;5;124mB\u001b[39m\u001b[38;5;124m'\u001b[39m\n",
      "\u001b[0;31mTypeError\u001b[0m: 'str' object does not support item assignment"
     ]
    }
   ],
   "source": [
    "# String is also immutable\n",
    "s = 'bread'\n",
    "s[0] = 'B'"
   ]
  },
  {
   "cell_type": "markdown",
   "metadata": {},
   "source": [
    "## 1.2 Deleting Tuple"
   ]
  },
  {
   "cell_type": "code",
   "execution_count": 14,
   "metadata": {},
   "outputs": [
    {
     "ename": "TypeError",
     "evalue": "'tuple' object doesn't support item deletion",
     "output_type": "error",
     "traceback": [
      "\u001b[0;31m---------------------------------------------------------------------------\u001b[0m",
      "\u001b[0;31mTypeError\u001b[0m                                 Traceback (most recent call last)",
      "Cell \u001b[0;32mIn[14], line 1\u001b[0m\n\u001b[0;32m----> 1\u001b[0m \u001b[38;5;28;01mdel\u001b[39;00m shopping_tuple[\u001b[38;5;241m0\u001b[39m]\n",
      "\u001b[0;31mTypeError\u001b[0m: 'tuple' object doesn't support item deletion"
     ]
    }
   ],
   "source": [
    "del shopping_tuple[0] # Tuples are immutable which means we can't DELETE tuple items"
   ]
  },
  {
   "cell_type": "code",
   "execution_count": 15,
   "metadata": {},
   "outputs": [],
   "source": [
    "del shopping_tuple # Deleting entire object is possible"
   ]
  },
  {
   "cell_type": "code",
   "execution_count": 16,
   "metadata": {},
   "outputs": [
    {
     "ename": "NameError",
     "evalue": "name 'shopping_tuple' is not defined",
     "output_type": "error",
     "traceback": [
      "\u001b[0;31m---------------------------------------------------------------------------\u001b[0m",
      "\u001b[0;31mNameError\u001b[0m                                 Traceback (most recent call last)",
      "Cell \u001b[0;32mIn[16], line 1\u001b[0m\n\u001b[0;32m----> 1\u001b[0m \u001b[43mshopping_tuple\u001b[49m\n",
      "\u001b[0;31mNameError\u001b[0m: name 'shopping_tuple' is not defined"
     ]
    }
   ],
   "source": [
    "shopping_tuple"
   ]
  },
  {
   "cell_type": "code",
   "execution_count": 17,
   "metadata": {},
   "outputs": [],
   "source": [
    "shopping_tuple = ('bread', 'milk', 'ice cream', 'cheese')"
   ]
  },
  {
   "cell_type": "markdown",
   "metadata": {},
   "source": [
    "If we really want to change an element inside the tuple we can always convert it to a list, change element, and convert it back. This situation is rather exotic, but let's check how we can do something like this.\n",
    "\n",
    "`list()` function can transform a tuple to a list, and `tuple()` vice versa. It's similar to the convertion of a string `'2'` to an integer via `int()` function.\n",
    "\n",
    "Later we will see that we can use `tuple()` and `list()` to convert some data types into tuples and lists as well."
   ]
  },
  {
   "cell_type": "code",
   "execution_count": 18,
   "metadata": {},
   "outputs": [
    {
     "name": "stdout",
     "output_type": "stream",
     "text": [
      "('pelmeni', 'milk', 'ice cream', 'cheese')\n"
     ]
    }
   ],
   "source": [
    "shopping_tuple = ('bread', 'milk', 'ice cream', 'cheese')\n",
    "\n",
    "shopping_list = list(shopping_tuple) # converting tuple to list\n",
    "\n",
    "shopping_list[0] = 'pelmeni'  # replacing list's element\n",
    "\n",
    "shopping_tuple = tuple(shopping_list)   # converting list with a replaced element back to tuple\n",
    "\n",
    "print(shopping_tuple)"
   ]
  },
  {
   "cell_type": "markdown",
   "metadata": {},
   "source": [
    "So, today we have learned about **sequences**. We know two sequence-types: **list** and **tuple**. **String** is also a sequence-like data type.\n",
    "\n",
    "Also we've learned that data types can be **mutable** or **immutable**. So far we know the only **mutable** data type, it is list."
   ]
  },
  {
   "cell_type": "markdown",
   "metadata": {},
   "source": [
    "## 1.3 Unpacking: printing a sequence\n",
    "\n",
    "If we want to print a list without square brackets or a tuple without round ones we can use `*` operator within the `print()` function."
   ]
  },
  {
   "cell_type": "code",
   "execution_count": 19,
   "metadata": {},
   "outputs": [
    {
     "name": "stdout",
     "output_type": "stream",
     "text": [
      "bread milk ice cream cheese\n"
     ]
    }
   ],
   "source": [
    "shopping_list = ['bread', 'milk', 'ice cream', 'cheese']\n",
    "print(*shopping_list)"
   ]
  },
  {
   "cell_type": "markdown",
   "metadata": {},
   "source": [
    "Star operator before `shopping_list` makes Python see it not like a list but as several indepenedent elements. Something like `print(shopping_list[0], shopping_list[1], shopping_list[2], shopping_list[3])`.\n",
    "\n",
    "This operation is called *unpacking*. Later we will see that we can use unpacking in some other situations as well."
   ]
  },
  {
   "cell_type": "code",
   "execution_count": 20,
   "metadata": {},
   "outputs": [
    {
     "name": "stdout",
     "output_type": "stream",
     "text": [
      "bread, milk, ice cream, cheese\n",
      "bread, milk, ice cream, cheese\n"
     ]
    }
   ],
   "source": [
    "shopping_list = ['bread', 'milk', 'ice cream', 'cheese']\n",
    "\n",
    "# printing our list nicely without unpacking\n",
    "print(shopping_list[0], shopping_list[1], shopping_list[2], shopping_list[3], sep=', ')\n",
    "\n",
    "# the same but shorter\n",
    "print(*shopping_list, sep=', ')"
   ]
  },
  {
   "cell_type": "markdown",
   "metadata": {},
   "source": [
    "Please note that such syntax will not work inside an f-string."
   ]
  },
  {
   "cell_type": "code",
   "execution_count": 21,
   "metadata": {},
   "outputs": [
    {
     "ename": "SyntaxError",
     "evalue": "f-string: cannot use starred expression here (3481984258.py, line 1)",
     "output_type": "error",
     "traceback": [
      "\u001b[0;36m  Cell \u001b[0;32mIn[21], line 1\u001b[0;36m\u001b[0m\n\u001b[0;31m    print(f'Our shopping list {*shopping_list}')\u001b[0m\n\u001b[0m     ^\u001b[0m\n\u001b[0;31mSyntaxError\u001b[0m\u001b[0;31m:\u001b[0m f-string: cannot use starred expression here\n"
     ]
    }
   ],
   "source": [
    "print(f'Our shopping list {*shopping_list}')"
   ]
  },
  {
   "cell_type": "markdown",
   "metadata": {},
   "source": [
    "Same thing works with tuples as well."
   ]
  },
  {
   "cell_type": "code",
   "execution_count": 22,
   "metadata": {},
   "outputs": [
    {
     "name": "stdout",
     "output_type": "stream",
     "text": [
      "Asya; Masha; Zeinab\n"
     ]
    }
   ],
   "source": [
    "students = ('Asya', 'Masha', 'Zeinab')\n",
    "print(*students, sep='; ') # print our students separated by `;`"
   ]
  },
  {
   "cell_type": "code",
   "execution_count": 23,
   "metadata": {},
   "outputs": [
    {
     "data": {
      "text/plain": [
       "('L', 'i', 'n', 'g', 'u', 'i', 's', 't', 'i', 'c', 's')"
      ]
     },
     "execution_count": 23,
     "metadata": {},
     "output_type": "execute_result"
    }
   ],
   "source": [
    "# Unpacking the string by tuple\n",
    "\n",
    "tuple(\"Linguistics\")"
   ]
  },
  {
   "cell_type": "code",
   "execution_count": 33,
   "metadata": {},
   "outputs": [
    {
     "name": "stdout",
     "output_type": "stream",
     "text": [
      "1 2 3 4 5\n"
     ]
    }
   ],
   "source": [
    "# How to unpack elements from a tuple?\n",
    "my_tuple = (1, 2, 3, 4, 5)\n",
    "\n",
    "a, b, c, d, e = my_tuple\n",
    "\n",
    "print(a, b, c, d, e)"
   ]
  },
  {
   "cell_type": "code",
   "execution_count": 25,
   "metadata": {},
   "outputs": [
    {
     "name": "stdout",
     "output_type": "stream",
     "text": [
      "1 [2, 3, 4] 5\n",
      "<class 'list'>\n"
     ]
    }
   ],
   "source": [
    "# What if I don't know how many variables are inside a tuple\n",
    "# But we need first and the last elements\n",
    "\n",
    "a, *b, c = my_tuple\n",
    "\n",
    "print(a, b, c)\n",
    "print(type(b))"
   ]
  },
  {
   "cell_type": "markdown",
   "metadata": {},
   "source": [
    "## 1.4 Concatenation of lists and tuples"
   ]
  },
  {
   "cell_type": "markdown",
   "metadata": {},
   "source": [
    "Remember that Python allows us to glue strings together. In a smart way it is called *concatenation*."
   ]
  },
  {
   "cell_type": "code",
   "execution_count": 34,
   "metadata": {},
   "outputs": [
    {
     "name": "stdout",
     "output_type": "stream",
     "text": [
      "Just a feline canine little - CatDog\n"
     ]
    }
   ],
   "source": [
    "a = 'Cat'\n",
    "b = 'Dog'\n",
    "print(f'Just a feline canine little - {a+b}')"
   ]
  },
  {
   "cell_type": "markdown",
   "metadata": {},
   "source": [
    "In the same way we can concatenate two lists. Let's glue together two shopping lists."
   ]
  },
  {
   "cell_type": "code",
   "execution_count": 35,
   "metadata": {},
   "outputs": [
    {
     "name": "stdout",
     "output_type": "stream",
     "text": [
      "bread, milk, pelmeni, washing powder, soap\n"
     ]
    }
   ],
   "source": [
    "# groceries\n",
    "shopping_list_1 = ['bread', 'milk', 'pelmeni']\n",
    "# household goods\n",
    "shopping_list_2 = ['washing powder', 'soap']\n",
    "\n",
    "# all purchases\n",
    "shopping_list_all = shopping_list_1 + shopping_list_2\n",
    "\n",
    "print(*shopping_list_all, sep=', ')"
   ]
  },
  {
   "cell_type": "markdown",
   "metadata": {},
   "source": [
    "The same would work with tuples."
   ]
  },
  {
   "cell_type": "code",
   "execution_count": 36,
   "metadata": {},
   "outputs": [
    {
     "name": "stdout",
     "output_type": "stream",
     "text": [
      "bread, milk, pelmeni, washing powder, soap\n"
     ]
    }
   ],
   "source": [
    "# groceries\n",
    "shopping_tuple_1 = ('bread', 'milk', 'pelmeni')\n",
    "# household goods\n",
    "shopping_tuple_2 = ('washing powder', 'soap')\n",
    "\n",
    "# all purchases\n",
    "all_ = shopping_tuple_1 + shopping_tuple_2\n",
    "print(*all_, sep=', ')"
   ]
  },
  {
   "cell_type": "code",
   "execution_count": 37,
   "metadata": {},
   "outputs": [
    {
     "name": "stdout",
     "output_type": "stream",
     "text": [
      "(1, 2, 3, 4, 'Oleg', 'Maria', 'Olga', 'Eva')\n",
      "<class 'tuple'>\n"
     ]
    }
   ],
   "source": [
    "# Another example\n",
    "my_tuple1 = 1, 2, 3, 4\n",
    "\n",
    "my_tuple2 = (\"Oleg\", \"Maria\", \"Olga\", \"Eva\")\n",
    "\n",
    "result = my_tuple1 + my_tuple2\n",
    "\n",
    "print(result)\n",
    "\n",
    "print(type(result))"
   ]
  },
  {
   "cell_type": "markdown",
   "metadata": {},
   "source": [
    "## 1.5 Nested Tuple in Tuple"
   ]
  },
  {
   "cell_type": "code",
   "execution_count": 58,
   "metadata": {},
   "outputs": [
    {
     "name": "stdout",
     "output_type": "stream",
     "text": [
      "(1, 2, 3, 4)\n",
      "('Oleg', 'Maria', 'Olga', 'Eva')\n",
      "\n",
      "((1, 2, 3, 4), ('Oleg', 'Maria', 'Olga', 'Eva'))\n",
      "<class 'tuple'>\n"
     ]
    }
   ],
   "source": [
    "print(my_tuple1)\n",
    "\n",
    "print(my_tuple2)\n",
    "\n",
    "my_tuple3 = (my_tuple1, my_tuple2)\n",
    "print(f\"\\n{my_tuple3}\")\n",
    "\n",
    "print(type(my_tuple3))"
   ]
  },
  {
   "cell_type": "markdown",
   "metadata": {},
   "source": [
    "## 1.6 Nested Tuple in List"
   ]
  },
  {
   "cell_type": "code",
   "execution_count": 50,
   "metadata": {},
   "outputs": [
    {
     "name": "stdout",
     "output_type": "stream",
     "text": [
      "[(1, 2), (3, 4)]\n"
     ]
    }
   ],
   "source": [
    "my_list = [(1, 2), (3, 4)]\n",
    "\n",
    "print(my_list)"
   ]
  },
  {
   "cell_type": "code",
   "execution_count": 55,
   "metadata": {},
   "outputs": [
    {
     "name": "stdout",
     "output_type": "stream",
     "text": [
      "[(1, 2), (3, 4), ('Oleg', 'Maria')]\n"
     ]
    }
   ],
   "source": [
    "# For list it's possible to add element\n",
    "\n",
    "my_list.append((\"Oleg\", \"Maria\"))\n",
    "\n",
    "print(my_list)"
   ]
  },
  {
   "cell_type": "markdown",
   "metadata": {},
   "source": [
    "## 1.7 Nested Lists in Tuples "
   ]
  },
  {
   "cell_type": "code",
   "execution_count": 64,
   "metadata": {},
   "outputs": [
    {
     "name": "stdout",
     "output_type": "stream",
     "text": [
      "([1, 2, 3], ['a', 'b', 'c'])\n"
     ]
    }
   ],
   "source": [
    "my_tuple = ([1, 2, 3], ['a', 'b', 'c'])\n",
    "print(my_tuple)"
   ]
  },
  {
   "cell_type": "code",
   "execution_count": 65,
   "metadata": {},
   "outputs": [
    {
     "name": "stdout",
     "output_type": "stream",
     "text": [
      "([1, 2, 3, 5], ['a', 'b', 'c'])\n"
     ]
    }
   ],
   "source": [
    "# We can't change the tuple data\n",
    "# But what about the list withing the tuple??!!\n",
    "\n",
    "my_tuple[0].append(5)\n",
    "\n",
    "print(my_tuple)"
   ]
  },
  {
   "cell_type": "code",
   "execution_count": 66,
   "metadata": {},
   "outputs": [
    {
     "name": "stdout",
     "output_type": "stream",
     "text": [
      "([1, 3, 5], ['a', 'b', 'c'])\n"
     ]
    }
   ],
   "source": [
    "# What about removing element??!!\n",
    "my_tuple[0].remove(2)\n",
    "\n",
    "print(my_tuple)"
   ]
  },
  {
   "cell_type": "code",
   "execution_count": 67,
   "metadata": {},
   "outputs": [
    {
     "ename": "AttributeError",
     "evalue": "'tuple' object has no attribute 'append'",
     "output_type": "error",
     "traceback": [
      "\u001b[0;31m---------------------------------------------------------------------------\u001b[0m",
      "\u001b[0;31mAttributeError\u001b[0m                            Traceback (most recent call last)",
      "Cell \u001b[0;32mIn[67], line 1\u001b[0m\n\u001b[0;32m----> 1\u001b[0m \u001b[43mmy_tuple\u001b[49m\u001b[38;5;241;43m.\u001b[39;49m\u001b[43mappend\u001b[49m([\u001b[38;5;241m9\u001b[39m, \u001b[38;5;241m8\u001b[39m, \u001b[38;5;241m7\u001b[39m])\n\u001b[1;32m      2\u001b[0m \u001b[38;5;28mprint\u001b[39m(my_tuple)\n",
      "\u001b[0;31mAttributeError\u001b[0m: 'tuple' object has no attribute 'append'"
     ]
    }
   ],
   "source": [
    "my_tuple.append([9, 8, 7])\n",
    "print(my_tuple)"
   ]
  },
  {
   "cell_type": "code",
   "execution_count": 69,
   "metadata": {},
   "outputs": [
    {
     "name": "stdout",
     "output_type": "stream",
     "text": [
      "('Linguistics', 'Linguistics', 'Linguistics', 'Linguistics')\n",
      "<class 'tuple'>\n"
     ]
    }
   ],
   "source": [
    "# How to repeat an element in a tuple??\n",
    "\n",
    "temp = (\"Linguistics\",) * 4\n",
    "print(temp)\n",
    "print(type(temp))"
   ]
  },
  {
   "cell_type": "code",
   "execution_count": 70,
   "metadata": {},
   "outputs": [
    {
     "name": "stdout",
     "output_type": "stream",
     "text": [
      "('Linguistics', 'Linguistics', 'Linguistics', 'Linguistics', 'Linguistics', 'Linguistics')\n"
     ]
    }
   ],
   "source": [
    "temp = (\"Linguistics\",)\n",
    "\n",
    "print(temp*6)"
   ]
  },
  {
   "cell_type": "code",
   "execution_count": 71,
   "metadata": {},
   "outputs": [
    {
     "name": "stdout",
     "output_type": "stream",
     "text": [
      "('Linguistics',)\n"
     ]
    }
   ],
   "source": [
    "print(temp)"
   ]
  },
  {
   "cell_type": "markdown",
   "metadata": {},
   "source": [
    "## 1.8 Tuple Indexing"
   ]
  },
  {
   "cell_type": "code",
   "execution_count": 72,
   "metadata": {},
   "outputs": [
    {
     "data": {
      "text/plain": [
       "6"
      ]
     },
     "execution_count": 72,
     "metadata": {},
     "output_type": "execute_result"
    }
   ],
   "source": [
    "tup1 = () # Empty tuple\n",
    "\n",
    "tup2 = (10, 30, 60) # tuple of integers numbers\n",
    "\n",
    "tup3 = (10.77, 30.66, 60.89) # tuple of float numbers\n",
    "\n",
    "tup4 = ('one', 'two' , \"three\")# tuple of strings\n",
    "\n",
    "tup5 = ('Asif', 25 ,(50, 100), (150, 90)) # Nested tuples\n",
    "\n",
    "tup6 = (100, 'Asif', 17.765)\n",
    "\n",
    "tup7 = ('Asif', 25 ,[50, 100], [150, 90] , {'John' , 'David'} , (99, 22, 33))\n",
    "\n",
    "len(tup7) #Length of list"
   ]
  },
  {
   "cell_type": "code",
   "execution_count": 73,
   "metadata": {},
   "outputs": [
    {
     "data": {
      "text/plain": [
       "10"
      ]
     },
     "execution_count": 73,
     "metadata": {},
     "output_type": "execute_result"
    }
   ],
   "source": [
    "tup2[0] # Retreive first element of the tuple"
   ]
  },
  {
   "cell_type": "code",
   "execution_count": 74,
   "metadata": {},
   "outputs": [
    {
     "data": {
      "text/plain": [
       "'o'"
      ]
     },
     "execution_count": 74,
     "metadata": {},
     "output_type": "execute_result"
    }
   ],
   "source": [
    "tup4[0][0] # Nested indexing"
   ]
  },
  {
   "cell_type": "code",
   "execution_count": 75,
   "metadata": {},
   "outputs": [
    {
     "data": {
      "text/plain": [
       "'three'"
      ]
     },
     "execution_count": 75,
     "metadata": {},
     "output_type": "execute_result"
    }
   ],
   "source": [
    "tup4[-1] # Last item of the tuple"
   ]
  },
  {
   "cell_type": "markdown",
   "metadata": {},
   "source": [
    "## 1.9 Tuple Count"
   ]
  },
  {
   "cell_type": "code",
   "execution_count": 76,
   "metadata": {},
   "outputs": [],
   "source": [
    "mytuple1 = ('one', 'two', 'three', 'four', 'one', 'one', 'two', 'three')"
   ]
  },
  {
   "cell_type": "code",
   "execution_count": 77,
   "metadata": {},
   "outputs": [
    {
     "data": {
      "text/plain": [
       "3"
      ]
     },
     "execution_count": 77,
     "metadata": {},
     "output_type": "execute_result"
    }
   ],
   "source": [
    "mytuple1.count('one') # Number of times item \"one\" occurred in the tuple."
   ]
  },
  {
   "cell_type": "code",
   "execution_count": 78,
   "metadata": {},
   "outputs": [
    {
     "data": {
      "text/plain": [
       "1"
      ]
     },
     "execution_count": 78,
     "metadata": {},
     "output_type": "execute_result"
    }
   ],
   "source": [
    "mytuple1.count('four') # Occurence of item 'four' in the tuple"
   ]
  },
  {
   "cell_type": "code",
   "execution_count": 79,
   "metadata": {},
   "outputs": [
    {
     "data": {
      "text/plain": [
       "8"
      ]
     },
     "execution_count": 79,
     "metadata": {},
     "output_type": "execute_result"
    }
   ],
   "source": [
    "len(mytuple1)"
   ]
  },
  {
   "cell_type": "markdown",
   "metadata": {},
   "source": [
    "### Exercise\n",
    "\n",
    "Given two sorted arrays `nums1` and `nums2` of size `m` and `n` respectively, return the median of the two sorted arrays.\n",
    "\n",
    "- Example 1:\n",
    "\n",
    "  > Input: nums1 = [1,3], nums2 = [2] \n",
    "  \n",
    "  > Output: 2.00000\n",
    "  \n",
    "  > Explanation: merged array = [1,2,3] and median is 2.\n",
    "  \n",
    "- Example 2:\n",
    "\n",
    "  > Input: nums1 = [1,2], nums2 = [3,4]\n",
    "  \n",
    "  > Output: 2.50000\n",
    "  \n",
    "  > Explanation: merged array = [1,2,3,4] and median is (2 + 3) / 2 = 2.5."
   ]
  },
  {
   "cell_type": "code",
   "execution_count": null,
   "metadata": {},
   "outputs": [],
   "source": [
    "<YOUR CODE>"
   ]
  },
  {
   "cell_type": "code",
   "execution_count": null,
   "metadata": {},
   "outputs": [],
   "source": []
  },
  {
   "cell_type": "markdown",
   "metadata": {},
   "source": [
    "### Exercise\n",
    "\n",
    "**Step 1**: Create a tuple of numners from 2 to 8\n",
    "\n",
    "`\n",
    "tp1 = 2  3  4  5  6  7  8\n",
    "`\n",
    "\n",
    "**Step 2**: Create `another` tuple by adding an element to *tp1*.\n",
    "\n",
    "`\n",
    "tp2 = 2  3  4  5  6  7  8  0\n",
    "`\n",
    "\n",
    "**Step 3**: Create `another` tuple by adding the reverse of the *tp1* to *tp2*.\n",
    "\n",
    "`\n",
    "tp3 = 2  3  4  5  6  7  8  0  8  7  6  5  4  3  2\n",
    "`"
   ]
  },
  {
   "cell_type": "code",
   "execution_count": 80,
   "metadata": {},
   "outputs": [
    {
     "name": "stdout",
     "output_type": "stream",
     "text": [
      "(2, 3, 4, 5, 6, 7, 8)\n"
     ]
    }
   ],
   "source": [
    "tp1= (2,3,4,5,6,7,8)\n",
    "print(tp1)"
   ]
  },
  {
   "cell_type": "code",
   "execution_count": 86,
   "metadata": {},
   "outputs": [
    {
     "name": "stdout",
     "output_type": "stream",
     "text": [
      "(2, 3, 4, 5, 6, 7, 8, 0)\n"
     ]
    }
   ],
   "source": [
    "tp2 = tp1 + (0,)\n",
    "print(tp2)"
   ]
  },
  {
   "cell_type": "code",
   "execution_count": 87,
   "metadata": {},
   "outputs": [
    {
     "name": "stdout",
     "output_type": "stream",
     "text": [
      "(2, 3, 4, 5, 6, 7, 8, 0, 8, 7, 6, 5, 4, 3, 2)\n"
     ]
    }
   ],
   "source": [
    "tp3 = tp1 + tp2[::-1]\n",
    "print(tp3)"
   ]
  },
  {
   "cell_type": "code",
   "execution_count": null,
   "metadata": {},
   "outputs": [],
   "source": []
  },
  {
   "cell_type": "code",
   "execution_count": null,
   "metadata": {},
   "outputs": [],
   "source": []
  },
  {
   "cell_type": "markdown",
   "metadata": {},
   "source": [
    "## 2. `In` operator"
   ]
  },
  {
   "cell_type": "markdown",
   "metadata": {},
   "source": [
    "In Python we can check if something belongs to a sequence via special `in` operator. Later we will see that `in` works not only with sequences."
   ]
  },
  {
   "cell_type": "code",
   "execution_count": 88,
   "metadata": {},
   "outputs": [
    {
     "name": "stdout",
     "output_type": "stream",
     "text": [
      "True\n"
     ]
    }
   ],
   "source": [
    "backpack = ['wallet', 'headphones', 'ID', 'laptop', 'book']\n",
    "print('headphones' in backpack) # checking if string `headphones` belongs to a list `backpack`?"
   ]
  },
  {
   "cell_type": "markdown",
   "metadata": {},
   "source": [
    "`In` operator returns a boolean value depending on whether our condition is True or not. Here we are checking a condition that *something belongs to a list*.\n",
    "\n",
    "Also we can use `in` with a logical `not` to check a condition that *something does not belong to a list*."
   ]
  },
  {
   "cell_type": "code",
   "execution_count": 89,
   "metadata": {},
   "outputs": [
    {
     "name": "stdout",
     "output_type": "stream",
     "text": [
      "False\n",
      "True\n"
     ]
    }
   ],
   "source": [
    "backpack = ['wallet', 'headphones', 'ID', 'laptop', 'book']\n",
    "print('headphones' not in backpack)   # gives us False, 'headpones' belongs to `backpack`\n",
    "print('trasportation card' not in backpack)  # gives us False, 'transportation card' is not in `backpack`"
   ]
  },
  {
   "cell_type": "markdown",
   "metadata": {},
   "source": [
    "Since `in` opeator gives us a logical variable, we can use it within an `if-statement`.\n",
    "\n",
    "A statement `if ... in` could be written like this:\n",
    "\n",
    "    if <item to check> in <list, tuple or string>:\n",
    "        <instructions if an item belongs to a sequence>"
   ]
  },
  {
   "cell_type": "markdown",
   "metadata": {},
   "source": [
    "Let's check an example. On our way to the university let's listen to music if we've packed headphones or read the book if we have not."
   ]
  },
  {
   "cell_type": "code",
   "execution_count": 90,
   "metadata": {},
   "outputs": [
    {
     "name": "stdout",
     "output_type": "stream",
     "text": [
      "Listen to music\n"
     ]
    }
   ],
   "source": [
    "backpack = ['wallet', 'headphones', 'ID', 'laptop', 'book']\n",
    "\n",
    "if 'headphones' in backpack:\n",
    "    print('Listen to music')\n",
    "else:\n",
    "    print('Read a book')"
   ]
  },
  {
   "cell_type": "markdown",
   "metadata": {},
   "source": [
    "A statement `if ... not in` works vice versa:\n",
    "\n",
    "    if <item to check> not in <list, tuple or string>:\n",
    "        <instructions if an item does not belong to a sequence>\n",
    "\n",
    "Remember our example with breakfast when we've been talking about `if statements`. Let's change it to use with lists. Now we will not ask for a number of eggs, but will check if there are eggs in our list."
   ]
  },
  {
   "cell_type": "code",
   "execution_count": 91,
   "metadata": {},
   "outputs": [
    {
     "name": "stdout",
     "output_type": "stream",
     "text": [
      "What do we have in the fridge?eggs milk bread\n",
      "['eggs', 'milk', 'bread']\n",
      "Cooking at home\n"
     ]
    }
   ],
   "source": [
    "fridge = input('What do we have in the fridge?').split()\n",
    "print(fridge) # printing the things that we have\n",
    "\n",
    "if \"eggs\" not in fridge:\n",
    "    print('Going to the cafe')\n",
    "else:\n",
    "    print('Cooking at home')"
   ]
  },
  {
   "cell_type": "markdown",
   "metadata": {},
   "source": [
    "The same statements would work with tuples and strings. Let's check that an inputted word contains a particular letter."
   ]
  },
  {
   "cell_type": "code",
   "execution_count": 92,
   "metadata": {},
   "outputs": [
    {
     "name": "stdout",
     "output_type": "stream",
     "text": [
      "Input an word: Oleg\n",
      "Input a letter: O\n",
      "\"Oleg\" contains \"O\" letter\n"
     ]
    }
   ],
   "source": [
    "word = input('Input an word: ')\n",
    "letter = input('Input a letter: ')\n",
    "if letter not in word: # if a letter does not belong to a word\n",
    "    print(f'\"{word}\" does not contain \"{letter}\" letter')\n",
    "else:\n",
    "    print(f'\"{word}\" contains \"{letter}\" letter')"
   ]
  },
  {
   "cell_type": "markdown",
   "metadata": {},
   "source": [
    "Let's check that it works for tuples as well. Our program will check if the item is in the shopping list or not."
   ]
  },
  {
   "cell_type": "code",
   "execution_count": 93,
   "metadata": {},
   "outputs": [
    {
     "name": "stdout",
     "output_type": "stream",
     "text": [
      "What to check? bread\n",
      "Didn't forget!\n"
     ]
    }
   ],
   "source": [
    "shopping_tuple = ('bread', 'milk', 'pelmeni')\n",
    "thing = input('What to check? ')\n",
    "\n",
    "if thing in shopping_tuple: # if list contains this element\n",
    "    print('Didn\\'t forget!')\n",
    "else:\n",
    "    print('Forgot :(')"
   ]
  },
  {
   "cell_type": "markdown",
   "metadata": {},
   "source": [
    "Let's make it more complex. Now we will check several items until the user inputs an 'end' string."
   ]
  },
  {
   "cell_type": "code",
   "execution_count": 94,
   "metadata": {},
   "outputs": [
    {
     "name": "stdout",
     "output_type": "stream",
     "text": [
      "What to check? bread\n",
      "Didn't forget!\n",
      "What to check? milk\n",
      "Didn't forget!\n",
      "What to check? cola\n",
      "Forgot :(\n",
      "What to check? end\n"
     ]
    }
   ],
   "source": [
    "shopping_tuple = ('bread', 'milk', 'pelmeni')\n",
    "thing = input('What to check? ')\n",
    "while thing != 'end':  # our criteria to exit the loop\n",
    "    if thing in shopping_tuple:\n",
    "        print('Didn\\'t forget!')\n",
    "    else:\n",
    "        print('Forgot :(')\n",
    "    thing = input('What to check? ')"
   ]
  },
  {
   "cell_type": "code",
   "execution_count": null,
   "metadata": {},
   "outputs": [],
   "source": []
  },
  {
   "cell_type": "code",
   "execution_count": null,
   "metadata": {},
   "outputs": [],
   "source": []
  },
  {
   "cell_type": "markdown",
   "metadata": {},
   "source": [
    "## 3. `For` loop"
   ]
  },
  {
   "cell_type": "markdown",
   "metadata": {},
   "source": [
    "Let's go back to our shopping list."
   ]
  },
  {
   "cell_type": "code",
   "execution_count": 95,
   "metadata": {},
   "outputs": [
    {
     "name": "stdout",
     "output_type": "stream",
     "text": [
      "We need to buy: bread milk pelmeni\n"
     ]
    }
   ],
   "source": [
    "shopping_list = ['bread', 'milk', 'pelmeni']\n",
    "print('We need to buy:', *shopping_list) # Prints the elements of the list."
   ]
  },
  {
   "cell_type": "markdown",
   "metadata": {},
   "source": [
    "Ok, via `*` operator we can print elements in our list. But what if we want to perform the same instruction to all elements within a list? E.g. to print a string 'We need to buy <item>' for each item in our shopping list."
   ]
  },
  {
   "cell_type": "code",
   "execution_count": 96,
   "metadata": {},
   "outputs": [
    {
     "name": "stdout",
     "output_type": "stream",
     "text": [
      "We need to buy: bread\n",
      "We need to buy: milk\n",
      "We need to buy: pelmeni\n"
     ]
    }
   ],
   "source": [
    "print(f'We need to buy: {shopping_list[0]}')\n",
    "print(f'We need to buy: {shopping_list[1]}')\n",
    "print(f'We need to buy: {shopping_list[2]}')"
   ]
  },
  {
   "cell_type": "markdown",
   "metadata": {},
   "source": [
    "Even with three elements it looks like too much of work. But what if we have hundreds of elements?"
   ]
  },
  {
   "cell_type": "markdown",
   "metadata": {},
   "source": [
    "Like it is often a case in Python, there is a tool which will help us to deal with a situation like this. We can use `for` loop to go through list's elements:"
   ]
  },
  {
   "cell_type": "markdown",
   "metadata": {},
   "source": [
    "    for <item> in <list, tuple or string>:\n",
    "        <instructions to perform on item>"
   ]
  },
  {
   "cell_type": "code",
   "execution_count": 97,
   "metadata": {},
   "outputs": [
    {
     "name": "stdout",
     "output_type": "stream",
     "text": [
      "bread\n",
      "milk\n",
      "pelmeni\n"
     ]
    }
   ],
   "source": [
    "shopping_list = ['bread', 'milk', 'pelmeni']\n",
    "\n",
    "for thing in shopping_list:\n",
    "# go through `shopping_list` and copy each object to a `thing` variable:\n",
    "    print(thing) # print contents of `thing` variable"
   ]
  },
  {
   "cell_type": "markdown",
   "metadata": {},
   "source": [
    "`for` loop creates a variable (`thing` in our example). This variable may be called anything. This variable is created withing a loop but exists outside it as well. In our case `thing` will contain the last item that was assigned to it. Let's check it!"
   ]
  },
  {
   "cell_type": "code",
   "execution_count": 98,
   "metadata": {},
   "outputs": [
    {
     "name": "stdout",
     "output_type": "stream",
     "text": [
      "pelmeni\n"
     ]
    }
   ],
   "source": [
    "print(thing) # checking what is inside `thing` variable"
   ]
  },
  {
   "cell_type": "markdown",
   "metadata": {},
   "source": [
    "Don't be surprised if you see two `for` loops in a row where the variable is called the same. Usually it is a technical variable and there is no much use for it outside of a loop."
   ]
  },
  {
   "cell_type": "markdown",
   "metadata": {},
   "source": [
    "Of course we can do something more interesting then just printing things. Let's enumerate our shopping list."
   ]
  },
  {
   "cell_type": "code",
   "execution_count": 99,
   "metadata": {},
   "outputs": [
    {
     "name": "stdout",
     "output_type": "stream",
     "text": [
      "1 bread\n",
      "2 milk\n",
      "3 pelmeni\n"
     ]
    }
   ],
   "source": [
    "shopping_list = ['bread', 'milk', 'pelmeni']\n",
    "\n",
    "number = 1 # creating a variable with an index\n",
    "for thing in shopping_list:\n",
    "    print(number, thing) # printing an index and an item\n",
    "    number += 1 # updating an index by 1"
   ]
  },
  {
   "cell_type": "markdown",
   "metadata": {},
   "source": [
    "`For` loop works not only with lists. We can also use it for strings and tuples. And later we will learn about other data types where it can be also applied."
   ]
  },
  {
   "cell_type": "markdown",
   "metadata": {},
   "source": [
    "##  3.1 Loop through a tuple"
   ]
  },
  {
   "cell_type": "code",
   "execution_count": 101,
   "metadata": {},
   "outputs": [
    {
     "data": {
      "text/plain": [
       "('one', 'two', 'three', 'four', 'five', 'six', 'seven', 'eight')"
      ]
     },
     "execution_count": 101,
     "metadata": {},
     "output_type": "execute_result"
    }
   ],
   "source": [
    "mytuple = ('one' , 'two' , 'three' , 'four' , 'five' , 'six' , 'seven' , 'eight')\n",
    "mytuple"
   ]
  },
  {
   "cell_type": "code",
   "execution_count": 102,
   "metadata": {},
   "outputs": [
    {
     "name": "stdout",
     "output_type": "stream",
     "text": [
      "one\n",
      "two\n",
      "three\n",
      "four\n",
      "five\n",
      "six\n",
      "seven\n",
      "eight\n"
     ]
    }
   ],
   "source": [
    "for i in mytuple:\n",
    "    print(i)"
   ]
  },
  {
   "cell_type": "code",
   "execution_count": 103,
   "metadata": {},
   "outputs": [
    {
     "name": "stdout",
     "output_type": "stream",
     "text": [
      "(0, 'one')\n",
      "(1, 'two')\n",
      "(2, 'three')\n",
      "(3, 'four')\n",
      "(4, 'five')\n",
      "(5, 'six')\n",
      "(6, 'seven')\n",
      "(7, 'eight')\n"
     ]
    }
   ],
   "source": [
    "for i in enumerate(mytuple):\n",
    "    print(i)"
   ]
  },
  {
   "cell_type": "code",
   "execution_count": 104,
   "metadata": {},
   "outputs": [
    {
     "name": "stdout",
     "output_type": "stream",
     "text": [
      "index is: 0\n",
      "value is: one\n",
      "\n",
      "index is: 1\n",
      "value is: two\n",
      "\n",
      "index is: 2\n",
      "value is: three\n",
      "\n",
      "index is: 3\n",
      "value is: four\n",
      "\n",
      "index is: 4\n",
      "value is: five\n",
      "\n",
      "index is: 5\n",
      "value is: six\n",
      "\n",
      "index is: 6\n",
      "value is: seven\n",
      "\n",
      "index is: 7\n",
      "value is: eight\n",
      "\n"
     ]
    }
   ],
   "source": [
    "for ind, val in enumerate(mytuple):\n",
    "    print(f'index is: {ind}')\n",
    "    print(f'value is: {val}\\n')"
   ]
  },
  {
   "cell_type": "markdown",
   "metadata": {},
   "source": [
    "## 3.2 Loop through a list"
   ]
  },
  {
   "cell_type": "code",
   "execution_count": 105,
   "metadata": {},
   "outputs": [
    {
     "data": {
      "text/plain": [
       "['one', 'two', 'three']"
      ]
     },
     "execution_count": 105,
     "metadata": {},
     "output_type": "execute_result"
    }
   ],
   "source": [
    "mylist = ['one', 'two', 'three']\n",
    "mylist"
   ]
  },
  {
   "cell_type": "code",
   "execution_count": 106,
   "metadata": {},
   "outputs": [
    {
     "name": "stdout",
     "output_type": "stream",
     "text": [
      "one\n",
      "two\n",
      "three\n"
     ]
    }
   ],
   "source": [
    "for i in mylist:\n",
    "    print(i)"
   ]
  },
  {
   "cell_type": "code",
   "execution_count": 107,
   "metadata": {},
   "outputs": [
    {
     "name": "stdout",
     "output_type": "stream",
     "text": [
      "(0, 'one')\n",
      "(1, 'two')\n",
      "(2, 'three')\n"
     ]
    }
   ],
   "source": [
    "for i in enumerate(mylist):\n",
    "    print(i)"
   ]
  },
  {
   "cell_type": "code",
   "execution_count": 108,
   "metadata": {},
   "outputs": [
    {
     "name": "stdout",
     "output_type": "stream",
     "text": [
      "index is: 0\n",
      "value is: one\n",
      "\n",
      "index is: 1\n",
      "value is: two\n",
      "\n",
      "index is: 2\n",
      "value is: three\n",
      "\n"
     ]
    }
   ],
   "source": [
    "for ind, val in enumerate(mylist):\n",
    "    print(f'index is: {ind}')\n",
    "    print(f'value is: {val}\\n')"
   ]
  },
  {
   "cell_type": "markdown",
   "metadata": {},
   "source": [
    "## 3.3 Loop through a string"
   ]
  },
  {
   "cell_type": "code",
   "execution_count": 109,
   "metadata": {},
   "outputs": [
    {
     "data": {
      "text/plain": [
       "'Linguistics'"
      ]
     },
     "execution_count": 109,
     "metadata": {},
     "output_type": "execute_result"
    }
   ],
   "source": [
    "mystring = 'Linguistics'\n",
    "mystring"
   ]
  },
  {
   "cell_type": "code",
   "execution_count": 110,
   "metadata": {},
   "outputs": [
    {
     "name": "stdout",
     "output_type": "stream",
     "text": [
      "L\n",
      "i\n",
      "n\n",
      "g\n",
      "u\n",
      "i\n",
      "s\n",
      "t\n",
      "i\n",
      "c\n",
      "s\n"
     ]
    }
   ],
   "source": [
    "for i in mystring:\n",
    "    print(i)"
   ]
  },
  {
   "cell_type": "code",
   "execution_count": 111,
   "metadata": {},
   "outputs": [
    {
     "name": "stdout",
     "output_type": "stream",
     "text": [
      "(0, 'L')\n",
      "(1, 'i')\n",
      "(2, 'n')\n",
      "(3, 'g')\n",
      "(4, 'u')\n",
      "(5, 'i')\n",
      "(6, 's')\n",
      "(7, 't')\n",
      "(8, 'i')\n",
      "(9, 'c')\n",
      "(10, 's')\n"
     ]
    }
   ],
   "source": [
    "for i in enumerate(mystring):\n",
    "    print(i)"
   ]
  },
  {
   "cell_type": "code",
   "execution_count": 112,
   "metadata": {},
   "outputs": [
    {
     "name": "stdout",
     "output_type": "stream",
     "text": [
      "index is: 0\n",
      "value is: L\n",
      "\n",
      "index is: 1\n",
      "value is: i\n",
      "\n",
      "index is: 2\n",
      "value is: n\n",
      "\n",
      "index is: 3\n",
      "value is: g\n",
      "\n",
      "index is: 4\n",
      "value is: u\n",
      "\n",
      "index is: 5\n",
      "value is: i\n",
      "\n",
      "index is: 6\n",
      "value is: s\n",
      "\n",
      "index is: 7\n",
      "value is: t\n",
      "\n",
      "index is: 8\n",
      "value is: i\n",
      "\n",
      "index is: 9\n",
      "value is: c\n",
      "\n",
      "index is: 10\n",
      "value is: s\n",
      "\n"
     ]
    }
   ],
   "source": [
    "for ind, val in enumerate(mystring):\n",
    "    print(f'index is: {ind}')\n",
    "    print(f'value is: {val}\\n')"
   ]
  },
  {
   "cell_type": "code",
   "execution_count": null,
   "metadata": {},
   "outputs": [],
   "source": []
  },
  {
   "cell_type": "code",
   "execution_count": null,
   "metadata": {},
   "outputs": [],
   "source": []
  },
  {
   "cell_type": "markdown",
   "metadata": {
    "id": "H9pnqSUHKa6v"
   },
   "source": [
    "# 4. Nested `for` loops"
   ]
  },
  {
   "cell_type": "markdown",
   "metadata": {
    "id": "bAaLM_hKMcBF"
   },
   "source": [
    "Sometimes we need to go through two lists simultaneously. E.g. let's print a part of a multiplication table for number 2, 3 and 4.\n",
    "\n",
    "* We will first go through the list of [2, 3, 4]\n",
    "* For each of the number in our list we will multiply it by numbers from 1 to 9.\n"
   ]
  },
  {
   "cell_type": "code",
   "execution_count": 123,
   "metadata": {},
   "outputs": [
    {
     "name": "stdout",
     "output_type": "stream",
     "text": [
      "2\n",
      "3\n",
      "4\n"
     ]
    }
   ],
   "source": [
    "for a in [2,3,4]:\n",
    "    print(a)"
   ]
  },
  {
   "cell_type": "code",
   "execution_count": 122,
   "metadata": {},
   "outputs": [
    {
     "name": "stdout",
     "output_type": "stream",
     "text": [
      "1\n",
      "2\n",
      "3\n",
      "4\n",
      "5\n",
      "6\n",
      "7\n",
      "8\n",
      "9\n"
     ]
    }
   ],
   "source": [
    "for i in range(1,10):\n",
    "    print(i)"
   ]
  },
  {
   "cell_type": "code",
   "execution_count": 115,
   "metadata": {},
   "outputs": [
    {
     "name": "stdout",
     "output_type": "stream",
     "text": [
      "2*1 = 2\n",
      "2*2 = 4\n",
      "2*3 = 6\n",
      "2*4 = 8\n",
      "2*5 = 10\n",
      "2*6 = 12\n",
      "2*7 = 14\n",
      "2*8 = 16\n",
      "2*9 = 18\n",
      "----------\n"
     ]
    }
   ],
   "source": [
    "for a in [2,3,4]:\n",
    "    for b in range(1,10):\n",
    "        print(f'{a}*{b} = {a*b}')\n",
    "        \n",
    "    print('-'*10) # printing an end-line for the multiplications for the given number\n",
    "    \n",
    "    break   # Let's exit a loop for now after we finish multiplying by 2"
   ]
  },
  {
   "cell_type": "markdown",
   "metadata": {},
   "source": [
    "So, what has happened? Integer 2 was assigned to a variable `a`. Then we've started the second loop, where we had multiplied contents of `a` variable by all numbers in an interval from 1 to 9. Then we've printed ten dashes to indicate that we had finished with that number.\n",
    "\n",
    "If we were not to exit our loop via break, it would do the same for 3 and then for 4."
   ]
  },
  {
   "cell_type": "code",
   "execution_count": 116,
   "metadata": {},
   "outputs": [
    {
     "name": "stdout",
     "output_type": "stream",
     "text": [
      "2*1 = 2\n",
      "2*2 = 4\n",
      "2*3 = 6\n",
      "2*4 = 8\n",
      "2*5 = 10\n",
      "2*6 = 12\n",
      "2*7 = 14\n",
      "2*8 = 16\n",
      "2*9 = 18\n",
      "----------\n",
      "3*1 = 3\n",
      "3*2 = 6\n",
      "3*3 = 9\n",
      "3*4 = 12\n",
      "3*5 = 15\n",
      "3*6 = 18\n",
      "3*7 = 21\n",
      "3*8 = 24\n",
      "3*9 = 27\n",
      "----------\n",
      "4*1 = 4\n",
      "4*2 = 8\n",
      "4*3 = 12\n",
      "4*4 = 16\n",
      "4*5 = 20\n",
      "4*6 = 24\n",
      "4*7 = 28\n",
      "4*8 = 32\n",
      "4*9 = 36\n",
      "----------\n"
     ]
    }
   ],
   "source": [
    "for a in [2,3,4]:\n",
    "    for b in range(1,10):\n",
    "        print(f'{a}*{b} = {a*b}')\n",
    "    print('-'*10)"
   ]
  },
  {
   "cell_type": "markdown",
   "metadata": {
    "id": "q4QXl-UDOX6L"
   },
   "source": [
    "Nested loops might be useful not only in problems with numbers. Let's print a party invitation for several students."
   ]
  },
  {
   "cell_type": "code",
   "execution_count": 117,
   "metadata": {},
   "outputs": [
    {
     "name": "stdout",
     "output_type": "stream",
     "text": [
      "Date: Thursday\n",
      "Time: 13.00 am\n",
      "\n",
      "\n",
      "Hi, Anna!\n",
      "You are invited to a party on Thursday at 13.00 am. Waiting for you!\n",
      "\n",
      "\n",
      "Hi, Dima!\n",
      "You are invited to a party on Thursday at 13.00 am. Waiting for you!\n",
      "\n",
      "\n",
      "Hi, Shushanik!\n",
      "You are invited to a party on Thursday at 13.00 am. Waiting for you!\n",
      "\n",
      "\n",
      "Hi, Yu Na!\n",
      "You are invited to a party on Thursday at 13.00 am. Waiting for you!\n"
     ]
    }
   ],
   "source": [
    "students = ('Anna', 'Dima', 'Shushanik', 'Yu Na') # tuple of our students\n",
    "date = input('Date: ')\n",
    "time = input('Time: ')\n",
    "\n",
    "for name in students: # for each student print the following invintation\n",
    "    print(f'\\n\\nHi, {name}!\\nYou are invited to a party on {date} at {time}. Waiting for you!')"
   ]
  },
  {
   "cell_type": "markdown",
   "metadata": {
    "id": "CxgH2rPJPbWv"
   },
   "source": [
    "Now imagine that we want print that invitation in Russian as well. Let's create a tuple with two invitation texts."
   ]
  },
  {
   "cell_type": "code",
   "execution_count": 118,
   "metadata": {},
   "outputs": [
    {
     "name": "stdout",
     "output_type": "stream",
     "text": [
      "Date: Thursday\n",
      "Time: 13.00 am\n",
      "\n",
      "\n",
      "Hi, Anna!\n",
      "You are invited to a party on Thursday at 13.00 am. Waiting for you!\n",
      "\n",
      "Привет, Anna!\n",
      "Вечеринка пройдет Thursday в 13.00 am. Очень ждем!\n",
      "\n",
      "\n",
      "Hi, Dima!\n",
      "You are invited to a party on Thursday at 13.00 am. Waiting for you!\n",
      "\n",
      "Привет, Dima!\n",
      "Вечеринка пройдет Thursday в 13.00 am. Очень ждем!\n",
      "\n",
      "\n",
      "Hi, Shushanik!\n",
      "You are invited to a party on Thursday at 13.00 am. Waiting for you!\n",
      "\n",
      "Привет, Shushanik!\n",
      "Вечеринка пройдет Thursday в 13.00 am. Очень ждем!\n",
      "\n",
      "\n",
      "Hi, Yu Na!\n",
      "You are invited to a party on Thursday at 13.00 am. Waiting for you!\n",
      "\n",
      "Привет, Yu Na!\n",
      "Вечеринка пройдет Thursday в 13.00 am. Очень ждем!\n"
     ]
    }
   ],
   "source": [
    "students = ('Anna', 'Dima', 'Shushanik', 'Yu Na') # tuple of our students\n",
    "date = input('Date: ')\n",
    "time = input('Time: ')\n",
    "\n",
    "for name in students:\n",
    "    texts = (f'\\n\\nHi, {name}!\\nYou are invited to a party on {date} at {time}. Waiting for you!',\n",
    "             f'\\nПривет, {name}!\\nВечеринка пройдет {date} в {time}. Очень ждем!')\n",
    "    for text in texts: # for each student print each invitation\n",
    "        print(text)"
   ]
  },
  {
   "cell_type": "markdown",
   "metadata": {},
   "source": [
    "Sometimes there are also situations when we need `for in range()` to connect three sequences. Imagine that we want to print a receipt in a book store. We have a list of prices for the purchased books, titles for those books and, finally, quantities."
   ]
  },
  {
   "cell_type": "code",
   "execution_count": 119,
   "metadata": {},
   "outputs": [
    {
     "name": "stdout",
     "output_type": "stream",
     "text": [
      "Book name: Harry Potter and FOR Loop\n",
      "Amount x price: 1 x 422\n",
      "Total: 422 ₽\n",
      "\n",
      "Book name: X-Men against Doctor Tuple\n",
      "Amount x price: 1 x 382\n",
      "Total: 382 ₽\n",
      "\n",
      "Book name: Learning Python. Vol.1\n",
      "Amount x price: 3 x 3544\n",
      "Total: 10632 ₽\n",
      "\n"
     ]
    }
   ],
   "source": [
    "prices = [422, 382, 3544]\n",
    "\n",
    "goods = ['Harry Potter and FOR Loop', 'X-Men against Doctor Tuple', 'Learning Python. Vol.1']\n",
    "\n",
    "amount = [1, 1, 3]\n",
    "\n",
    "for i in range(len(goods)):\n",
    "    \n",
    "    print(f\"Book name: {goods[i]}\\nAmount x price: {amount[i]} x {prices[i]}\")\n",
    "    print(f\"Total: {amount[i] * prices[i]} ₽\\n\")"
   ]
  },
  {
   "cell_type": "markdown",
   "metadata": {},
   "source": [
    "## 4.1 Break and continue in loop"
   ]
  },
  {
   "cell_type": "code",
   "execution_count": 120,
   "metadata": {},
   "outputs": [
    {
     "name": "stdout",
     "output_type": "stream",
     "text": [
      "2\n",
      "5\n"
     ]
    }
   ],
   "source": [
    "my_listI = [2, 5, 6, 7, 4, 3]\n",
    "\n",
    "for item in my_listI:\n",
    "    if (item == 6):\n",
    "        break\n",
    "    print(item)"
   ]
  },
  {
   "cell_type": "code",
   "execution_count": 121,
   "metadata": {},
   "outputs": [
    {
     "name": "stdout",
     "output_type": "stream",
     "text": [
      "2\n",
      "5\n",
      "7\n",
      "4\n",
      "3\n"
     ]
    }
   ],
   "source": [
    "my_listI = [2, 5, 6, 7, 4, 3]\n",
    "\n",
    "for item in my_listI:\n",
    "    if (item == 6):\n",
    "        continue\n",
    "    print(item)"
   ]
  },
  {
   "cell_type": "code",
   "execution_count": null,
   "metadata": {},
   "outputs": [],
   "source": [
    "# From which loop we are breaking or continuing the loop?\n",
    "<YOUR CODE>"
   ]
  },
  {
   "cell_type": "code",
   "execution_count": null,
   "metadata": {},
   "outputs": [],
   "source": []
  }
 ],
 "metadata": {
  "colab": {
   "provenance": []
  },
  "kernelspec": {
   "display_name": "Python 3 (ipykernel)",
   "language": "python",
   "name": "python3"
  },
  "language_info": {
   "codemirror_mode": {
    "name": "ipython",
    "version": 3
   },
   "file_extension": ".py",
   "mimetype": "text/x-python",
   "name": "python",
   "nbconvert_exporter": "python",
   "pygments_lexer": "ipython3",
   "version": "3.10.9"
  }
 },
 "nbformat": 4,
 "nbformat_minor": 1
}
