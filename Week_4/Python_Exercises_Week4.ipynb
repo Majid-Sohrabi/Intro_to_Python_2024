{
 "cells": [
  {
   "cell_type": "markdown",
   "metadata": {},
   "source": [
    "# Exercise 1"
   ]
  },
  {
   "cell_type": "markdown",
   "metadata": {},
   "source": [
    "Write a Python program to test whether a number is within 100 of 1000 or 2000."
   ]
  },
  {
   "cell_type": "code",
   "execution_count": 3,
   "metadata": {},
   "outputs": [
    {
     "name": "stdout",
     "output_type": "stream",
     "text": [
      "Insert an integer (positive) number? 10\n",
      "No!\n"
     ]
    }
   ],
   "source": [
    "number = int(input('Insert an integer (positive) number? '))\n",
    "\n",
    "if (abs(number - 1000) <= 100) or (abs(number - 2000) <= 100):\n",
    "    print('Yes.')\n",
    "else:\n",
    "    print('No!')"
   ]
  },
  {
   "cell_type": "code",
   "execution_count": null,
   "metadata": {},
   "outputs": [],
   "source": []
  },
  {
   "cell_type": "code",
   "execution_count": null,
   "metadata": {},
   "outputs": [],
   "source": []
  },
  {
   "cell_type": "markdown",
   "metadata": {},
   "source": [
    "# Exercise 2:\n",
    "\n",
    "Write a Python program to calculate the difference between a given positive number and 17.\n",
    "\n",
    "If the number is greater than 17, return twice the absolute difference."
   ]
  },
  {
   "cell_type": "code",
   "execution_count": 5,
   "metadata": {},
   "outputs": [
    {
     "name": "stdout",
     "output_type": "stream",
     "text": [
      "Insert an positive (integer) number: 19\n",
      "4\n"
     ]
    }
   ],
   "source": [
    "number = int(input(\"Insert an positive (integer) number: \"))\n",
    "\n",
    "if number <= 17:\n",
    "    print(17 - number)\n",
    "else:\n",
    "    print((number - 17)*2)"
   ]
  },
  {
   "cell_type": "code",
   "execution_count": null,
   "metadata": {},
   "outputs": [],
   "source": []
  },
  {
   "cell_type": "code",
   "execution_count": null,
   "metadata": {},
   "outputs": [],
   "source": []
  },
  {
   "cell_type": "markdown",
   "metadata": {},
   "source": [
    "# Exercise 3:\n",
    "\n",
    "Write a Python program to calculate the sum of three given numbers.\n",
    "\n",
    "If the given numbers are equal, return three times their sum."
   ]
  },
  {
   "cell_type": "code",
   "execution_count": 22,
   "metadata": {},
   "outputs": [
    {
     "name": "stdout",
     "output_type": "stream",
     "text": [
      "1: 1\n",
      "2: 2\n",
      "3: 3\n",
      "The result is 6\n"
     ]
    }
   ],
   "source": [
    "number1 = int(input('1: '))\n",
    "number2 = int(input('2: '))\n",
    "number3 = int(input('3: '))\n",
    "\n",
    "sum_ = number1 + number2 + number3\n",
    "\n",
    "if number1 == number2 == number3:\n",
    "    print(f'The numbers are equal so the result will be {sum_*3}')\n",
    "else:\n",
    "    print(f'The result is {sum_}')"
   ]
  },
  {
   "cell_type": "code",
   "execution_count": null,
   "metadata": {},
   "outputs": [],
   "source": []
  },
  {
   "cell_type": "code",
   "execution_count": null,
   "metadata": {},
   "outputs": [],
   "source": []
  },
  {
   "cell_type": "markdown",
   "metadata": {},
   "source": [
    "# Exercise 4:\n",
    "\n",
    "Write a Python program which checks a text, if the length of the text is greater or equal to two, and the first two letters are \"Is\" just return the text.\n",
    "\n",
    "If not, add \"Is\" infront of the string and return the result."
   ]
  },
  {
   "cell_type": "code",
   "execution_count": 28,
   "metadata": {},
   "outputs": [
    {
     "name": "stdout",
     "output_type": "stream",
     "text": [
      "Insert a text: book\n",
      "Is book\n"
     ]
    }
   ],
   "source": [
    "text = input('Insert a text: ')\n",
    "\n",
    "if text[:2]=='Is' and len(text) >= 2:\n",
    "    print(text)\n",
    "else:\n",
    "    print('Is ' + text)"
   ]
  },
  {
   "cell_type": "code",
   "execution_count": null,
   "metadata": {},
   "outputs": [],
   "source": []
  },
  {
   "cell_type": "code",
   "execution_count": null,
   "metadata": {},
   "outputs": [],
   "source": []
  },
  {
   "cell_type": "markdown",
   "metadata": {},
   "source": [
    "# Exercise 5:\n",
    "\n",
    "Write a Python program that returns a string that is n (non-negative integer) copies of a given str."
   ]
  },
  {
   "cell_type": "code",
   "execution_count": 30,
   "metadata": {},
   "outputs": [
    {
     "name": "stdout",
     "output_type": "stream",
     "text": [
      "Insert a string: Cola\n",
      "How many times to repeat: 4\n",
      "ColaColaColaCola\n"
     ]
    }
   ],
   "source": [
    "my_str = input('Insert a string: ')\n",
    "n = int(input('How many times to repeat: '))\n",
    "\n",
    "print(my_str*n)"
   ]
  },
  {
   "cell_type": "code",
   "execution_count": null,
   "metadata": {},
   "outputs": [],
   "source": []
  },
  {
   "cell_type": "code",
   "execution_count": null,
   "metadata": {},
   "outputs": [],
   "source": []
  },
  {
   "cell_type": "markdown",
   "metadata": {},
   "source": [
    "# Exercise 6:\n",
    "\n",
    "Write a Python program that determines whether a given number (accepted from the user) is even or odd, and prints an appropriate message to the user."
   ]
  },
  {
   "cell_type": "code",
   "execution_count": 32,
   "metadata": {},
   "outputs": [
    {
     "name": "stdout",
     "output_type": "stream",
     "text": [
      "Insert an non-negative integer number: 5\n",
      "The number is odd.\n"
     ]
    }
   ],
   "source": [
    "n = int(input('Insert an non-negative integer number: '))\n",
    "\n",
    "if n%2 == 0:\n",
    "    print('The number is even.')\n",
    "else:\n",
    "    print('The number is odd.')"
   ]
  },
  {
   "cell_type": "code",
   "execution_count": null,
   "metadata": {},
   "outputs": [],
   "source": []
  },
  {
   "cell_type": "code",
   "execution_count": null,
   "metadata": {},
   "outputs": [],
   "source": []
  },
  {
   "cell_type": "markdown",
   "metadata": {},
   "source": [
    "# Exercise 7:\n",
    "\n",
    "Write a Python program to count the number 5 in a given list."
   ]
  },
  {
   "cell_type": "code",
   "execution_count": 38,
   "metadata": {},
   "outputs": [
    {
     "data": {
      "text/plain": [
       "5"
      ]
     },
     "execution_count": 38,
     "metadata": {},
     "output_type": "execute_result"
    }
   ],
   "source": [
    "# Method 1\n",
    "nums = [1, 2, 3, 4, 5, 5, 6, 5, 7, 8, 5, 4, 5]\n",
    "\n",
    "nums.count(5)"
   ]
  },
  {
   "cell_type": "code",
   "execution_count": 39,
   "metadata": {},
   "outputs": [
    {
     "name": "stdout",
     "output_type": "stream",
     "text": [
      "5\n"
     ]
    }
   ],
   "source": [
    "# Method 2\n",
    "\n",
    "counter = 0\n",
    "\n",
    "for i in nums:\n",
    "    if i == 5:\n",
    "        counter+= 1\n",
    "\n",
    "print(counter)"
   ]
  },
  {
   "cell_type": "code",
   "execution_count": 44,
   "metadata": {},
   "outputs": [
    {
     "name": "stdout",
     "output_type": "stream",
     "text": [
      "5\n"
     ]
    }
   ],
   "source": [
    "# Method 3\n",
    "\n",
    "counter = 0\n",
    "\n",
    "for i in range(len(nums)):\n",
    "    if nums[i] == 5:\n",
    "        counter += 1\n",
    "print(counter)"
   ]
  },
  {
   "cell_type": "code",
   "execution_count": null,
   "metadata": {},
   "outputs": [],
   "source": []
  },
  {
   "cell_type": "code",
   "execution_count": null,
   "metadata": {},
   "outputs": [],
   "source": []
  },
  {
   "cell_type": "markdown",
   "metadata": {},
   "source": [
    "# Exercise 8:\n",
    "\n",
    "Write a Python program to find the median of three values."
   ]
  },
  {
   "cell_type": "code",
   "execution_count": null,
   "metadata": {},
   "outputs": [],
   "source": [
    "# Write your code without numpy built in function\n",
    "# The same exercise and explenation in seminar week 4\n",
    "<YOUR CODE>"
   ]
  },
  {
   "cell_type": "code",
   "execution_count": 62,
   "metadata": {},
   "outputs": [
    {
     "data": {
      "text/plain": [
       "4.0"
      ]
     },
     "execution_count": 62,
     "metadata": {},
     "output_type": "execute_result"
    }
   ],
   "source": [
    "import numpy as np\n",
    "\n",
    "a = [4, 2, 6]\n",
    "np.median(a)"
   ]
  },
  {
   "cell_type": "code",
   "execution_count": null,
   "metadata": {},
   "outputs": [],
   "source": []
  },
  {
   "cell_type": "code",
   "execution_count": null,
   "metadata": {},
   "outputs": [],
   "source": []
  },
  {
   "cell_type": "markdown",
   "metadata": {},
   "source": [
    "# Exercise 9:\n",
    "\n",
    "Write a Python program to calculate the sum and average of n integer numbers (input from the user).\n",
    "\n",
    "Input 0 to finish."
   ]
  },
  {
   "cell_type": "code",
   "execution_count": 67,
   "metadata": {},
   "outputs": [
    {
     "name": "stdout",
     "output_type": "stream",
     "text": [
      "Insert some numbers (0 to stop)\n",
      "Insert the number: 2\n",
      "Insert the number: 3\n",
      "Insert the number: 4\n",
      "Insert the number: 0\n",
      "The sum is 9, \n",
      "The average is 3.0\n"
     ]
    }
   ],
   "source": [
    "print('Insert some numbers (0 to stop)')\n",
    "\n",
    "l = []\n",
    "counter = 0\n",
    "\n",
    "while True:\n",
    "    a = input('Insert the number: ')\n",
    "    \n",
    "    if a == '0':\n",
    "        break\n",
    "    \n",
    "    l.append(int(a))\n",
    "    counter += 1\n",
    "\n",
    "print(f'The sum is {sum(l)}\\nThe average is {sum(l)/counter}')"
   ]
  },
  {
   "cell_type": "code",
   "execution_count": 74,
   "metadata": {},
   "outputs": [
    {
     "name": "stdout",
     "output_type": "stream",
     "text": [
      "Insert some numbers (0 to stop)\n",
      "Insert the number: 2\n",
      "Insert the number: 3\n",
      "Insert the number: 4\n",
      "Insert the number: 0\n",
      "The sum is 9\n",
      "The average is 3.0\n"
     ]
    }
   ],
   "source": [
    "print('Insert some numbers (0 to stop)')\n",
    "\n",
    "a = input('Insert the number: ')\n",
    "\n",
    "l = []\n",
    "counter = 0\n",
    "\n",
    "while a != '0':\n",
    "    \n",
    "    l.append(int(a))\n",
    "    counter += 1\n",
    "    \n",
    "    a = input('Insert the number: ')\n",
    "\n",
    "if len(l) > 0: \n",
    "    print(f'The sum is {sum(l)}\\nThe average is {sum(l)/counter}')"
   ]
  },
  {
   "cell_type": "code",
   "execution_count": null,
   "metadata": {},
   "outputs": [],
   "source": []
  }
 ],
 "metadata": {
  "colab": {
   "provenance": []
  },
  "kernelspec": {
   "display_name": "Python 3 (ipykernel)",
   "language": "python",
   "name": "python3"
  },
  "language_info": {
   "codemirror_mode": {
    "name": "ipython",
    "version": 3
   },
   "file_extension": ".py",
   "mimetype": "text/x-python",
   "name": "python",
   "nbconvert_exporter": "python",
   "pygments_lexer": "ipython3",
   "version": "3.10.9"
  }
 },
 "nbformat": 4,
 "nbformat_minor": 1
}
