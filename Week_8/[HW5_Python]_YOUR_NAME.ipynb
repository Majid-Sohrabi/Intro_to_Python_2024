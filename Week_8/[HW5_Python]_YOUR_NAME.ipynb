{
 "cells": [
  {
   "cell_type": "markdown",
   "id": "8f868eb6",
   "metadata": {
    "id": "8f868eb6"
   },
   "source": [
    "# Homework 5 - Python\n",
    "\n",
    "First Name:\n",
    "\n",
    "Last Name:\n",
    "\n",
    "Group:\n",
    "\n",
    "### After the assigment is done, please, push it to your [private GitHub repository](https://docs.github.com/en/github/administering-a-repository/managing-repository-settings/setting-repository-visibility) and invite [Majid-Sohrabi](https://github.com/Majid-Sohrabi)  as [collaborator](https://docs.github.com/en/account-and-profile/setting-up-and-managing-your-github-user-account/managing-access-to-your-personal-repositories/inviting-collaborators-to-a-personal-repository)."
   ]
  },
  {
   "cell_type": "markdown",
   "id": "f47683d8",
   "metadata": {
    "id": "f47683d8"
   },
   "source": [
    "## Task 1 - Time & Calendar (1.5 Points)\n",
    "\n",
    "1.   Develop a Python program to print calendar from **April 2023 to March 2024**.\n",
    "\n",
    "\n",
    "\n",
    "> Sample Output ( But your calendar should be print as given range in program)\n",
    "\n",
    "\n",
    "\n",
    "![image.png](data:image/png;base64,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)\n",
    "\n",
    "\n",
    "\n",
    "\n",
    "2.   Develop a Python program  to find the starting day of the given **Month,Year**. Your program should be run for any given input of Month & Year(togather). Also, it should be run by Month in numericals (02,2010) or Char ( February, 2024) in input.\n",
    "\n",
    "  ```\n",
    "  *Examples*\n",
    "  Input : March,2010    Input : November,2023     Input : 08,2022\n",
    "  Output : Monday       Output : Wednesday       Output : Saturday\n",
    "  ```\n",
    "\n",
    "3.   Write a Python program that displays the time for every 15 minute interval from 12:00 am to 11:45 pm.\n",
    "Your solution should produce the following output:\n",
    "\n",
    "  ```\n",
    "    12:00 am\n",
    "    12:15 am\n",
    "    12:30 am\n",
    "    12:45 am\n",
    "    1:00 am\n",
    "    1:15 am\n",
    "    --continue--\n",
    "    11:30 pm\n",
    "    11:45 pm\n",
    "  ```\n",
    "There are 96 lines in the full output"
   ]
  },
  {
   "cell_type": "code",
   "execution_count": null,
   "id": "2d62ba3d",
   "metadata": {
    "id": "2d62ba3d"
   },
   "outputs": [],
   "source": [
    "<YOUR CODE>"
   ]
  },
  {
   "cell_type": "markdown",
   "id": "d03af2f7",
   "metadata": {
    "id": "d03af2f7"
   },
   "source": [
    "## Task 2 - CAPTCHA Generator (0.5 point)\n",
    "\n",
    "Write a Python program to generate CAPTCHA strings. CAPTCHA is used to determine whether the user is a human or a robot. Your task is to generate a random CAPTCHA string consisting of 8 to 12 characters each time the program is run. The CAPTCHA string must contain a mix of uppercase letters, lowercase letters, numbers, and special (: ~!@#$%^&*()_+) characters. (All must need to come in single CAPTCHA at a time)"
   ]
  },
  {
   "cell_type": "code",
   "execution_count": null,
   "id": "53894434",
   "metadata": {
    "id": "53894434"
   },
   "outputs": [],
   "source": [
    "<YOUR CODE>"
   ]
  },
  {
   "cell_type": "markdown",
   "id": "89040ea7",
   "metadata": {
    "id": "89040ea7"
   },
   "source": [
    "## Task 3 - Text to Emoji (1 point)\n",
    "\n",
    "Write a Python program that takes input text containing emotions and converts them into corresponding emojis. Your program should replace specific text representations of emotions with appropriate emoji symbols. (Do mapping of all emojis, also you can use demoji library) Your code should work for any text input\n",
    "\n",
    "\n",
    "\n",
    "  ```\n",
    "      **Sample Input Text:**\n",
    "      # My heart swells with happiness as I bask in the warmth of your presence, grateful for every moment shared together. Yet, a twinge of sadness tugs at my soul. Despite the challenges, I'm excited for the future, determined to overcome any obstacles that come our way.\n",
    "\n",
    "\n",
    "      **Output Example:**\n",
    "      My ❤️ swells with happiness as I bask in the warmth of your presence, grateful for every moment shared together. Yet, a twinge of 😞 tugs at my soul. Despite the challenges, I'm 😃 for the future, determined to overcome any obstacles that come our way.\n",
    "  ```\n",
    "\n",
    "\n"
   ]
  },
  {
   "cell_type": "code",
   "execution_count": null,
   "id": "782170f2",
   "metadata": {
    "id": "782170f2"
   },
   "outputs": [],
   "source": [
    "<YOUR CODE>"
   ]
  },
  {
   "cell_type": "markdown",
   "id": "9f0f0213",
   "metadata": {
    "id": "9f0f0213"
   },
   "source": [
    "## Task 4 - Validate Card (1 point)\n",
    "\n",
    "You have started an IT Company and your company recieved first project of credit cards validation from BIC Bank. You wants to verify whether this credit card numbers are valid or not.\n",
    "\n",
    "A valid credit card from BIC Bank has the following characteristics:\n",
    "\n",
    "```\n",
    "► It must start with a 4, 5 or 6 .\n",
    "► It must contain exactly 16 digits.\n",
    "► It must only consist of digits (0-9).\n",
    "► It may have digits in groups of 4, separated by one hyphen \"-\".\n",
    "► It must NOT use any other separator like ' ' , '_', etc.\n",
    "► It must NOT have 4 or more consecutive repeated digits.\n",
    "```\n",
    "\n",
    "Your program should run for any user input value of credit card no. (Below is just for reference)\n",
    "\n",
    "```\n",
    "# Sample Input\n",
    "4123456789123456\n",
    "5123-4567-8912-3456\n",
    "61234-567-8912-3456\n",
    "4123356789123456\n",
    "5133-3367-8912-3456\n",
    "5123 - 3567 - 8912 - 3456\n",
    "\n",
    "# Output\n",
    "Valid\n",
    "Valid\n",
    "Invalid\n",
    "Valid\n",
    "Invalid\n",
    "Invalid\n",
    "\n",
    "```\n"
   ]
  },
  {
   "cell_type": "code",
   "execution_count": null,
   "id": "c79ed191",
   "metadata": {
    "id": "c79ed191"
   },
   "outputs": [],
   "source": [
    "<YOUR CODE>"
   ]
  },
  {
   "cell_type": "markdown",
   "id": "8a0edbe2",
   "metadata": {
    "id": "8a0edbe2"
   },
   "source": [
    "## Task 5 - Book Dataset (1 point)\n",
    "\n",
    "Using, Python and various libraries read the .txt files containing the books, the ratings, and the user data that you can find at the [urls](https://github.com/MrBhimani/Datasets) defined below.\n",
    "\n",
    "1. Concatenate all three files into a single .txt file (Your task is to combine the information from three separate text files into a single cohesive dataset).\n",
    "The resulting dataset should contain all relevant information from each file, merged together appropriately. save the newly generated file as ***YOURNAME_BOOKS_DATA.txt***. (use comma seprated value)\n",
    "\n",
    "2. Find out which book has the highest number of reviews and which has lowest number of reviews? (just print it in your code cell).\n",
    "\n",
    "3. Find out which book has the highest average rating - but include only books that have at least 100 reviews!\n",
    "\n",
    "4. From the YOURNAME_BOOKS_DATA.txt generate a list of all the countries present in the dataset. Then, find the highest rated book in each one of those countries. (Each book/Country) and simply print it"
   ]
  },
  {
   "cell_type": "markdown",
   "id": "_bNurs_p14Vg",
   "metadata": {
    "id": "_bNurs_p14Vg"
   },
   "source": [
    "Full Datasets available on this: [Dataset URL](https://github.com/MrBhimani/Datasets) or you can use below code cell to call dataset\n",
    "\n",
    "1.   **users.txt**: Contains information about users, including their *user ID, age, and country*.\n",
    "2.   **ratings.txt**: Contains information about book ratings given by users, including the *user ID, ISBN of the book, and the rating* given.\n",
    "3.   **books.txt**: Contains information about books, including the *ISBN, title, and author*."
   ]
  },
  {
   "cell_type": "code",
   "execution_count": null,
   "id": "5414b2cf",
   "metadata": {
    "id": "5414b2cf"
   },
   "outputs": [],
   "source": [
    "users_url = \"https://github.com/MrBhimani/Datasets/blob/main/users.txt\"\n",
    "ratings_url = \"https://github.com/MrBhimani/Datasets/blob/main/ratings.txt\"\n",
    "books_url = \"https://github.com/MrBhimani/Datasets/blob/main/books.txt\""
   ]
  },
  {
   "cell_type": "code",
   "execution_count": null,
   "id": "9nOBYyMTWMVY",
   "metadata": {
    "id": "9nOBYyMTWMVY"
   },
   "outputs": [],
   "source": [
    "<YOUR CODE>"
   ]
  }
 ],
 "metadata": {
  "colab": {
   "provenance": []
  },
  "kernelspec": {
   "display_name": "Python 3 (ipykernel)",
   "language": "python",
   "name": "python3"
  },
  "language_info": {
   "codemirror_mode": {
    "name": "ipython",
    "version": 3
   },
   "file_extension": ".py",
   "mimetype": "text/x-python",
   "name": "python",
   "nbconvert_exporter": "python",
   "pygments_lexer": "ipython3",
   "version": "3.10.9"
  }
 },
 "nbformat": 4,
 "nbformat_minor": 5
}
