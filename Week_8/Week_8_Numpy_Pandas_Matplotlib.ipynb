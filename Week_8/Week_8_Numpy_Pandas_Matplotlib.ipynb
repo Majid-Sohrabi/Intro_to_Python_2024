{
 "cells": [
  {
   "cell_type": "markdown",
   "metadata": {
    "id": "kfTLEuqJw80j"
   },
   "source": [
    "# Week 8: Numpy, Pandas, Matplotlib"
   ]
  },
  {
   "cell_type": "markdown",
   "metadata": {
    "id": "Y4oZIhZDyvs7"
   },
   "source": [
    "During our course, we will work in Google Colab. When we work with data in Python, we will need additional modules and libraries. In this seminar we will use two of them: **Numpy** and **Pandas**."
   ]
  },
  {
   "cell_type": "markdown",
   "metadata": {
    "id": "OYBcnD0LxZCF"
   },
   "source": [
    "## 1. Introduction to `NumPy`"
   ]
  },
  {
   "cell_type": "markdown",
   "metadata": {
    "id": "iFR1_-m81K85"
   },
   "source": [
    "Today we will get acquainted with the `NumPy` library (short for *Numeric Python*), which is often used in tasks related to data science. We won't use it often, but it has the required data type that will be needed for other libraries and tasks. The library is preinstalled in the Google Colab, we only need to import it. Let's check it by importing the library with a shortened name `np`. It is convenient because we don't need to use the full name everywhere. `np` is a common and generally accepted name for the `NumPy` library. It can often be seen in documentation or official tutorials.\n",
    "\n",
    "\n",
    "\n",
    "*   Here you can find documentation: https://numpy.org/doc/stable/\n",
    "*   NumPy: the basics: https://numpy.org/doc/stable/user/absolute_beginners.html\n",
    "\n"
   ]
  },
  {
   "cell_type": "code",
   "execution_count": null,
   "metadata": {
    "id": "Mvu-4uQyxYXs"
   },
   "outputs": [],
   "source": [
    "import numpy as np # importing the library with the shortened name"
   ]
  },
  {
   "cell_type": "markdown",
   "metadata": {
    "id": "SruVjtjH7aEH"
   },
   "source": [
    "Let's remind what lists in Python are."
   ]
  },
  {
   "cell_type": "code",
   "execution_count": null,
   "metadata": {
    "colab": {
     "base_uri": "https://localhost:8080/"
    },
    "id": "0ElDsLua7Rj4",
    "outputId": "d9a08009-d631-4428-9991-50621f0ab6c6"
   },
   "outputs": [],
   "source": [
    "x = [2, 4, 5] # x and y are lists with integers\n",
    "y = [10, 4, 2]\n",
    "print(x + y)"
   ]
  },
  {
   "cell_type": "markdown",
   "metadata": {
    "id": "TOVsOZOo8RCC"
   },
   "source": [
    "If we try to add up these two lists, there is no error but the result is not what we expected. In this case, the `+` operator is to concatenate two lists.\n",
    "\n",
    "Suppose that x is the first column in our table, and y is the second one. And we need to create a new variable that contains the sum of two columns. It is difficult to do this operation with lists so here we need a new type of data - `NumPy array`.\n",
    "\n"
   ]
  },
  {
   "cell_type": "code",
   "execution_count": null,
   "metadata": {
    "id": "LsP96R1b7SeM"
   },
   "outputs": [],
   "source": [
    "x_np = np.array(x) # we can initialize NumPy arrays from Python lists\n",
    "y_np = np.array(y)"
   ]
  },
  {
   "cell_type": "code",
   "execution_count": null,
   "metadata": {
    "colab": {
     "base_uri": "https://localhost:8080/"
    },
    "id": "IQB2jPVo7Sky",
    "outputId": "fbde0c7b-e160-446d-a49f-76f06c341342"
   },
   "outputs": [],
   "source": [
    "print(x_np) # looks like a list but it is a NumPy array"
   ]
  },
  {
   "cell_type": "code",
   "execution_count": null,
   "metadata": {
    "colab": {
     "base_uri": "https://localhost:8080/"
    },
    "id": "DLQ4qbB4SGKR",
    "outputId": "302816ef-66f0-42e8-83e9-1774c0de0481"
   },
   "outputs": [],
   "source": [
    "print(type(x_np))"
   ]
  },
  {
   "cell_type": "markdown",
   "metadata": {
    "id": "oeU33-4mRlLz"
   },
   "source": [
    "The main NumPy object is `Ndarray` - it is an n-dimensional array."
   ]
  },
  {
   "cell_type": "code",
   "execution_count": null,
   "metadata": {
    "colab": {
     "base_uri": "https://localhost:8080/"
    },
    "id": "vhmqzYU0SYw7",
    "outputId": "72a8b4fe-e0aa-4736-8369-f3b8e26bef82"
   },
   "outputs": [],
   "source": [
    "print(x_np + y_np) # adding up to arrays"
   ]
  },
  {
   "cell_type": "markdown",
   "metadata": {
    "id": "YKgWdEWIS3O1"
   },
   "source": [
    "So now we get the third column of our data that contain the sum of two previous columns. This data type allows us to perform **element-wise** operations."
   ]
  },
  {
   "cell_type": "code",
   "execution_count": null,
   "metadata": {
    "colab": {
     "base_uri": "https://localhost:8080/"
    },
    "id": "QoGZPhaSSY1L",
    "outputId": "2d005556-9e8d-4924-9ff3-51c640a77bd2"
   },
   "outputs": [],
   "source": [
    "print(x_np * 2) # we can apply different operations like addition, multiplication, division and so on.\n",
    "print(x_np ** 2)"
   ]
  },
  {
   "cell_type": "markdown",
   "metadata": {
    "id": "HwuVDvw7T5Sn"
   },
   "source": [
    "We could have gotten the same result by looping through the list and adding up the elements of another list, but using the library makes it **faster**."
   ]
  },
  {
   "cell_type": "markdown",
   "metadata": {
    "id": "TDBcy6JNVQ2d"
   },
   "source": [
    "Assume that we have a list with different types of data: string, integer, floating number and boolean. Then we're trying to convert the list to `NumPy array`."
   ]
  },
  {
   "cell_type": "code",
   "execution_count": null,
   "metadata": {
    "colab": {
     "base_uri": "https://localhost:8080/"
    },
    "id": "mZlb0BKRSY5j",
    "outputId": "b3e4102f-d9ba-433f-8023-fed676413a9b"
   },
   "outputs": [],
   "source": [
    "z = ['cat', 1, 2.4, True]\n",
    "print(z)\n",
    "\n",
    "z_np = np.array(z)\n",
    "print(z_np) # all elements become strings\n",
    "print(type(z_np))\n",
    "print(z_np.dtype)\n",
    "\n",
    "print(type(z_np[2])) # just like with lists, we can refer to an element"
   ]
  },
  {
   "cell_type": "markdown",
   "metadata": {
    "id": "cWT6_S7gWxbb"
   },
   "source": [
    "If types of objects in an array are different, then they will be converted to the same data type. If there is a string in an array, so all other objects will be strings."
   ]
  },
  {
   "cell_type": "code",
   "execution_count": null,
   "metadata": {
    "colab": {
     "base_uri": "https://localhost:8080/"
    },
    "id": "tS3CWc-YSY-x",
    "outputId": "ba36427e-bfa0-4d76-b257-f3d25d9dde64"
   },
   "outputs": [],
   "source": [
    "z_np = np.array([1, 2.4, True]) # if we delete a string, so all objects are floating point numbers\n",
    "print(z_np)\n",
    "print(z_np.dtype)"
   ]
  },
  {
   "cell_type": "code",
   "execution_count": null,
   "metadata": {
    "colab": {
     "base_uri": "https://localhost:8080/"
    },
    "id": "pFlj_PYsXg1M",
    "outputId": "1858ac94-3ff9-4b37-e545-8753143f5e07"
   },
   "outputs": [],
   "source": [
    "z_np = np.array([1, True]) # if we delete a floating-point number, so all objects are integers\n",
    "print(z_np)\n",
    "print(z_np.dtype)"
   ]
  },
  {
   "cell_type": "markdown",
   "metadata": {
    "id": "gwBGs9AASaGg"
   },
   "source": [
    "So, `NumPy array` is a data structure that allows you to store a set of elements of **the same type**: either only integers, or floating-point numbers, or strings, or boolean values."
   ]
  },
  {
   "cell_type": "markdown",
   "metadata": {
    "id": "1ousm_P_YSNn"
   },
   "source": [
    "NumPy array is different from a Python list.\n",
    "\n",
    "\n",
    "*   If we add up two arrays, we get an elementwise addition, not a concatenation.\n",
    "*   We can apply various operations to arrays: addition, exponentiation, and so on.\n",
    "*   Unlike a list, which can contain different types of variables and store them, a NumPy array can only contain objects of one type.\n",
    "\n"
   ]
  },
  {
   "cell_type": "markdown",
   "metadata": {
    "id": "6cN4_tI1DKk9"
   },
   "source": [
    "### Filtering data"
   ]
  },
  {
   "cell_type": "markdown",
   "metadata": {
    "id": "wVlUa0FyktBa"
   },
   "source": [
    "Imagine that the `age` variable contains the age of respondents and we need to determine who of the respondents are older than 18 years old."
   ]
  },
  {
   "cell_type": "code",
   "execution_count": null,
   "metadata": {
    "id": "gxdvhMzVYGSi"
   },
   "outputs": [],
   "source": [
    "age = np.array([18, 20, 43, 23, 14, 52, 12])"
   ]
  },
  {
   "cell_type": "code",
   "execution_count": null,
   "metadata": {
    "colab": {
     "base_uri": "https://localhost:8080/"
    },
    "id": "Olxn7uvQYAaj",
    "outputId": "47af72e6-1ad4-420c-b578-de31499d88c3"
   },
   "outputs": [],
   "source": [
    "print(age >= 18)"
   ]
  },
  {
   "cell_type": "markdown",
   "metadata": {
    "id": "VGYbtI_OleUe"
   },
   "source": [
    "Using the comparison sign we get the NumPy array that describes our data. Comparison operations are also carried out on an elemental basis."
   ]
  },
  {
   "cell_type": "markdown",
   "metadata": {
    "id": "s8yB1zqFmIRn"
   },
   "source": [
    "If we need to check for two conditions, then we use the logical OR. For example, we need to identify who of the respondents are younger than 18 or older than 35.  "
   ]
  },
  {
   "cell_type": "code",
   "execution_count": null,
   "metadata": {
    "colab": {
     "base_uri": "https://localhost:8080/",
     "height": 164
    },
    "id": "EZ7RdIajSZ6y",
    "outputId": "2c0701e9-a1af-41e3-f1f1-b695fd3814a4"
   },
   "outputs": [],
   "source": [
    "print(age < 18 or age >=35)"
   ]
  },
  {
   "cell_type": "markdown",
   "metadata": {
    "id": "NRi6kqhUl1mu"
   },
   "source": [
    "We've got an error here because the standard logical operations in Python (`or`, `and`) do not work. Therefore, we use the operations that are used to intersect sets: union `|` (used as OR) and intersection `&` (used as AND)."
   ]
  },
  {
   "cell_type": "code",
   "execution_count": null,
   "metadata": {
    "colab": {
     "base_uri": "https://localhost:8080/",
     "height": 164
    },
    "id": "8umwfkn4nU5u",
    "outputId": "53634316-19b7-491c-feb1-19d954a45838"
   },
   "outputs": [],
   "source": [
    "print(age < 18 | age >=35) # union of sets"
   ]
  },
  {
   "cell_type": "markdown",
   "metadata": {
    "id": "k7298tujnYGz"
   },
   "source": [
    "We run into an error again because Python is trying to concatenate `18` and `age`. Thus, we need to enclose the comparison operations in round brackets."
   ]
  },
  {
   "cell_type": "code",
   "execution_count": null,
   "metadata": {
    "colab": {
     "base_uri": "https://localhost:8080/"
    },
    "id": "TMcVpefY7SvW",
    "outputId": "8d6eb088-fc2e-4b37-eb73-5329b23bcec8"
   },
   "outputs": [],
   "source": [
    "print((age < 18) | (age >=35)) # union of sets"
   ]
  },
  {
   "cell_type": "markdown",
   "metadata": {
    "id": "pMwD4GC4nzj1"
   },
   "source": [
    "Now it works! We got an array with boolean variables."
   ]
  },
  {
   "cell_type": "code",
   "execution_count": null,
   "metadata": {
    "colab": {
     "base_uri": "https://localhost:8080/"
    },
    "id": "7lAwMrnzaifQ",
    "outputId": "0eb112a7-8666-4190-b156-db66e653e53f"
   },
   "outputs": [],
   "source": [
    "age[(age < 18) | (age >=35)] # filtering our array by condition"
   ]
  },
  {
   "cell_type": "markdown",
   "metadata": {
    "id": "tzaiSX_maeWa"
   },
   "source": [
    "We can use conditions for filtering data in an array. Then it will be helpful for filtering tables."
   ]
  },
  {
   "cell_type": "code",
   "execution_count": null,
   "metadata": {},
   "outputs": [],
   "source": [
    "# To make negation (not) of a boolean statement in Python use \"~\" symbol\n",
    "\n",
    "print((age < 18) | (age >=35)) # union of sets\n",
    "\n",
    "print(~((age < 18) | (age >=35))) # not of the union of sets"
   ]
  },
  {
   "cell_type": "markdown",
   "metadata": {
    "id": "yCdvWkZuuCgf"
   },
   "source": [
    "### Important function - `np.where`"
   ]
  },
  {
   "cell_type": "code",
   "execution_count": null,
   "metadata": {
    "colab": {
     "base_uri": "https://localhost:8080/"
    },
    "id": "cuvOKD6rcGXn",
    "outputId": "890a8695-d51e-4dbf-a23b-5188724ba35c"
   },
   "outputs": [],
   "source": [
    "a = np.array([2, 4, 5])\n",
    "np.where(a > 3) # tell me where in a, entries are > 3"
   ]
  },
  {
   "cell_type": "markdown",
   "metadata": {
    "id": "87UNHefJJuCO"
   },
   "source": [
    "We get indexes of elements that are >3."
   ]
  },
  {
   "cell_type": "code",
   "execution_count": null,
   "metadata": {
    "colab": {
     "base_uri": "https://localhost:8080/"
    },
    "id": "aebbekfMcGdb",
    "outputId": "42a47053-b8f5-4afe-e063-f6bd4ae51f00"
   },
   "outputs": [],
   "source": [
    "a[np.where(a > 3)]"
   ]
  },
  {
   "cell_type": "markdown",
   "metadata": {
    "id": "xGdQY_UaJ1D7"
   },
   "source": [
    "Now we get the elements that are >3."
   ]
  },
  {
   "cell_type": "markdown",
   "metadata": {
    "id": "o3cdbLn0pKPw"
   },
   "source": [
    "### N-dimensional array"
   ]
  },
  {
   "cell_type": "markdown",
   "metadata": {
    "id": "uGJfn_3iaSRI"
   },
   "source": [
    "We have worked with one-dimensional objects. But an array can also be a multi-dimensional object. In this course, we will work with 2D arrays.\n",
    "\n",
    "A vector is an array with a one dimension (there’s no difference between row and column vectors), while a matrix refers to an array with two dimensions.\n",
    "\n",
    "A table is a two-dimensional object, it consists of columns and rows."
   ]
  },
  {
   "cell_type": "code",
   "execution_count": null,
   "metadata": {
    "colab": {
     "base_uri": "https://localhost:8080/"
    },
    "id": "uWEaOPUzaShc",
    "outputId": "d7876b27-3270-4748-f18c-cc8cd9aef434"
   },
   "outputs": [],
   "source": [
    "A = np.array([[2, 4, 5], [10, 4, 2]]) # an array with two lists\n",
    "print(A)"
   ]
  },
  {
   "cell_type": "code",
   "execution_count": null,
   "metadata": {
    "colab": {
     "base_uri": "https://localhost:8080/"
    },
    "id": "rdvOQoUrqndH",
    "outputId": "f31878ba-388d-4d29-baec-5a5704f746ac"
   },
   "outputs": [],
   "source": [
    "print(type(A))"
   ]
  },
  {
   "cell_type": "markdown",
   "metadata": {
    "id": "BU24S2gdqgOa"
   },
   "source": [
    "`A` is a two-dimensional matrix. The type is still a NumPy array."
   ]
  },
  {
   "cell_type": "markdown",
   "metadata": {
    "id": "55Wv1FimvvQq"
   },
   "source": [
    "We will most often work with two-dimensional arrays. A two-dimensional array can be thought of as a matrix or a table."
   ]
  },
  {
   "cell_type": "markdown",
   "metadata": {
    "id": "Bh3nWq1KwdYS"
   },
   "source": [
    "### Array characteristics"
   ]
  },
  {
   "cell_type": "markdown",
   "metadata": {
    "id": "dNYcUxPVq-Au"
   },
   "source": [
    "We can look at the attributes of the matrix."
   ]
  },
  {
   "cell_type": "markdown",
   "metadata": {
    "id": "zLqvw49SrnFN"
   },
   "source": [
    "`ndarray.shape` will display a tuple of integers that indicate the number of elements stored along each dimension of the array. If, for example, you have a 2-D array with 2 rows and 3 columns, the shape of your array is (2, 3).\n",
    "\n",
    "`ndarray.ndim` will tell you the number of axes, or dimensions, of the array.\n",
    "\n",
    "`ndarray.size` will tell you the total number of elements of the array. This is the product of the elements of the array’s shape.\n",
    "\n"
   ]
  },
  {
   "cell_type": "markdown",
   "metadata": {
    "id": "Kp7UR1vKsA7s"
   },
   "source": [
    "They are used without round brackets because they are not methods, but attributes, object's characteristics."
   ]
  },
  {
   "cell_type": "code",
   "execution_count": null,
   "metadata": {
    "colab": {
     "base_uri": "https://localhost:8080/"
    },
    "id": "fVRCG_84aSx0",
    "outputId": "556521e4-9bf3-45b0-c548-a8836d64a13d"
   },
   "outputs": [],
   "source": [
    "print(A.shape)"
   ]
  },
  {
   "cell_type": "code",
   "execution_count": null,
   "metadata": {
    "colab": {
     "base_uri": "https://localhost:8080/"
    },
    "id": "ur3b1iEbaS30",
    "outputId": "725c8451-3e68-4b8c-8695-d830feadf981"
   },
   "outputs": [],
   "source": [
    "print(A.ndim)"
   ]
  },
  {
   "cell_type": "code",
   "execution_count": null,
   "metadata": {
    "colab": {
     "base_uri": "https://localhost:8080/"
    },
    "id": "_hlQnn7-aS9t",
    "outputId": "c6dfe8b9-832d-4385-d22b-463228b18e47"
   },
   "outputs": [],
   "source": [
    "print(A.size)"
   ]
  },
  {
   "cell_type": "markdown",
   "metadata": {
    "id": "jimSjr8TskkF"
   },
   "source": [
    "### Working with array elements"
   ]
  },
  {
   "cell_type": "markdown",
   "metadata": {
    "id": "1meVxkZiwq1p"
   },
   "source": [
    "If we need to refer to the elements of an array, then this operation will be similar to working with nested lists."
   ]
  },
  {
   "cell_type": "code",
   "execution_count": null,
   "metadata": {
    "colab": {
     "base_uri": "https://localhost:8080/"
    },
    "id": "OBk3Gauow84G",
    "outputId": "97900072-57cc-4102-91ac-f75dcd21cd98"
   },
   "outputs": [],
   "source": [
    "A"
   ]
  },
  {
   "cell_type": "code",
   "execution_count": null,
   "metadata": {
    "colab": {
     "base_uri": "https://localhost:8080/"
    },
    "id": "H9rKGCRhwtEi",
    "outputId": "40e7406c-0b5a-4b0f-9877-1bb1cfb8c9eb"
   },
   "outputs": [],
   "source": [
    "A[0] # the first array in A"
   ]
  },
  {
   "cell_type": "markdown",
   "metadata": {
    "id": "9H2SenG7s2Qy"
   },
   "source": [
    "For instance, we need to take the element which is the first by row, the second by column."
   ]
  },
  {
   "cell_type": "code",
   "execution_count": null,
   "metadata": {
    "colab": {
     "base_uri": "https://localhost:8080/"
    },
    "id": "5d8DarlbxE8_",
    "outputId": "555eef96-9f9c-4ac3-8323-881172ccd1db"
   },
   "outputs": [],
   "source": [
    "A[0][1] # the second element in the first list"
   ]
  },
  {
   "cell_type": "code",
   "execution_count": null,
   "metadata": {
    "colab": {
     "base_uri": "https://localhost:8080/"
    },
    "id": "eJI94jdaaTBA",
    "outputId": "8de90c1f-45d6-467a-93a1-960aeb15a667"
   },
   "outputs": [],
   "source": [
    "print(A[0][1]) # double indexing\n",
    "print(A[0,1]) # same"
   ]
  },
  {
   "cell_type": "markdown",
   "metadata": {
    "id": "2iC9XKPgSNcp"
   },
   "source": [
    "The second method does not work with lists, but it is quite convenient to use it for matrices."
   ]
  },
  {
   "cell_type": "markdown",
   "metadata": {
    "id": "0aNlm7Zwv86f"
   },
   "source": [
    "The number of rows is indicated first, then the number of columns."
   ]
  },
  {
   "cell_type": "markdown",
   "metadata": {
    "id": "Gni2HrP_tW3V"
   },
   "source": [
    "The colon `:` is commonly used for slicing. This is how we can get all numbers (slicing of a row) in the first column:"
   ]
  },
  {
   "cell_type": "code",
   "execution_count": null,
   "metadata": {
    "colab": {
     "base_uri": "https://localhost:8080/"
    },
    "id": "L7dtvMZ-tTKh",
    "outputId": "b15d74d0-67c6-40b2-99c2-4703dc3d96f7"
   },
   "outputs": [],
   "source": [
    "print(A[:,0]) # only the first element from each row"
   ]
  },
  {
   "cell_type": "code",
   "execution_count": null,
   "metadata": {},
   "outputs": [],
   "source": []
  },
  {
   "cell_type": "code",
   "execution_count": null,
   "metadata": {},
   "outputs": [],
   "source": []
  },
  {
   "cell_type": "code",
   "execution_count": null,
   "metadata": {},
   "outputs": [],
   "source": []
  },
  {
   "cell_type": "markdown",
   "metadata": {
    "id": "_cnF37_cl8XX"
   },
   "source": [
    "## 2. Introduction to `Pandas`"
   ]
  },
  {
   "cell_type": "markdown",
   "metadata": {
    "id": "RHrpCybomHrE"
   },
   "source": [
    "Pandas is a library for working with table data in Python. Pandas stands for *Python Data Analysis Library*. Or according to some sources, the name is derived from the term *Panel data*. Pandas offers data structures and operations for manipulating numerical tables and time series. It can replace Excel or Google Sheets.\n",
    "\n",
    "*   Documentation: https://pandas.pydata.org/\n",
    "*   10 minutes intro: https://pandas.pydata.org/pandas-docs/stable/getting_started/10min.html\n",
    "*   Pandas Cheat-Sheet: https://pandas.pydata.org/Pandas_Cheat_Sheet.pdf\n"
   ]
  },
  {
   "cell_type": "code",
   "execution_count": null,
   "metadata": {
    "id": "TP-foxdNl8XZ"
   },
   "outputs": [],
   "source": [
    "import pandas as pd # importing the library with a shortened name"
   ]
  },
  {
   "cell_type": "code",
   "execution_count": null,
   "metadata": {
    "id": "zTdiQJaNmLPt"
   },
   "outputs": [],
   "source": [
    "df = pd.DataFrame() # creating an empty dataframe as df"
   ]
  },
  {
   "cell_type": "code",
   "execution_count": null,
   "metadata": {
    "colab": {
     "base_uri": "https://localhost:8080/",
     "height": 32
    },
    "id": "w0YsWEbPl8Xa",
    "outputId": "48678257-97a3-4a43-b3e6-f03c1d64bb5b"
   },
   "outputs": [],
   "source": [
    "df # this is a created dataframe"
   ]
  },
  {
   "cell_type": "code",
   "execution_count": null,
   "metadata": {},
   "outputs": [],
   "source": [
    "type(df)"
   ]
  },
  {
   "cell_type": "markdown",
   "metadata": {
    "id": "QJqdNLTAmROp"
   },
   "source": [
    "Data Frame object is a data table. It is a 2-dimensional data structure that can store data of different types (including characters, integers, floating-point values, categorical data and more). It is similar to a spreadsheet or a table.\n",
    "\n",
    "The data structure contains labeled axes (rows and columns)"
   ]
  },
  {
   "cell_type": "markdown",
   "metadata": {
    "id": "5KOhqMbNo_k-"
   },
   "source": [
    "![picture](https://pandas.pydata.org/docs/_images/01_table_dataframe.svg)"
   ]
  },
  {
   "cell_type": "markdown",
   "metadata": {
    "id": "C15uIsS-pTP3"
   },
   "source": [
    "Let's create the data frame, a table with marks."
   ]
  },
  {
   "cell_type": "code",
   "execution_count": null,
   "metadata": {
    "colab": {
     "base_uri": "https://localhost:8080/",
     "height": 142
    },
    "id": "Z79L0syxl8Xb",
    "outputId": "f01a340a-7734-4e0c-cb70-8b5e05ca7d89"
   },
   "outputs": [],
   "source": [
    "df['STATS'] = [10, 8, 9] # create a column STATS and put a column with data in it\n",
    "df"
   ]
  },
  {
   "cell_type": "markdown",
   "metadata": {
    "id": "HERvnnVNqQ3c"
   },
   "source": [
    "Hint: the first column contains indexes, we don't need to set these values. They will appear automatically. Numbering starts from zero."
   ]
  },
  {
   "cell_type": "markdown",
   "metadata": {
    "id": "SxsuaPRvqtnF"
   },
   "source": [
    "Now we add another column and fill it with marks."
   ]
  },
  {
   "cell_type": "code",
   "execution_count": null,
   "metadata": {
    "colab": {
     "base_uri": "https://localhost:8080/",
     "height": 142
    },
    "id": "68IegiVol8Xc",
    "outputId": "e1cd5ce2-27d7-4a56-84d7-d8c9a626f17e"
   },
   "outputs": [],
   "source": [
    "df['PROG'] = [9, 7, 10]\n",
    "df"
   ]
  },
  {
   "cell_type": "code",
   "execution_count": null,
   "metadata": {
    "colab": {
     "base_uri": "https://localhost:8080/"
    },
    "id": "LUP5Y8Trl8Xc",
    "outputId": "f6f43119-a4bc-4f50-a515-49ebbab6bd63"
   },
   "outputs": [],
   "source": [
    "print(df) # outputs as text"
   ]
  },
  {
   "cell_type": "code",
   "execution_count": null,
   "metadata": {
    "colab": {
     "base_uri": "https://localhost:8080/",
     "height": 142
    },
    "id": "Olr1qN_trOTc",
    "outputId": "e9af71fd-0cad-4de8-cd17-dd5f22312e41"
   },
   "outputs": [],
   "source": [
    "display(df) # outputs our table interactively"
   ]
  },
  {
   "cell_type": "markdown",
   "metadata": {
    "id": "RxUzylft8T2N"
   },
   "source": [
    "### Working with columns"
   ]
  },
  {
   "cell_type": "markdown",
   "metadata": {
    "id": "WVPIg6hC3JNo"
   },
   "source": [
    "The syntax of dataframes is dictionary-like. As the key is called in the dictionary, so in the same way, we can get a column from our dataframe."
   ]
  },
  {
   "cell_type": "code",
   "execution_count": null,
   "metadata": {
    "colab": {
     "base_uri": "https://localhost:8080/"
    },
    "id": "I4ckxUjErVVm",
    "outputId": "47361c58-b799-46ac-a705-d1f7f14ea51c"
   },
   "outputs": [],
   "source": [
    "df['STATS'] # get a column by its name"
   ]
  },
  {
   "cell_type": "code",
   "execution_count": null,
   "metadata": {
    "colab": {
     "base_uri": "https://localhost:8080/"
    },
    "id": "IO-3UzpisNZQ",
    "outputId": "cf224b4d-a29c-4736-a724-f4cc051d67de"
   },
   "outputs": [],
   "source": [
    "type(df['STATS']) # the type of a column is a Pandas Series"
   ]
  },
  {
   "cell_type": "markdown",
   "metadata": {
    "id": "5pTaXEsZ5Rvl"
   },
   "source": [
    "Pandas Series is a one-dimensional labeled array capable of holding any data type (integers, strings, floating-point numbers, Python objects, etc.)."
   ]
  },
  {
   "cell_type": "code",
   "execution_count": null,
   "metadata": {
    "colab": {
     "base_uri": "https://localhost:8080/",
     "height": 142
    },
    "id": "p2wQGV478ybg",
    "outputId": "3f24ceeb-c2a8-4ca4-f454-762f4f7156b8"
   },
   "outputs": [],
   "source": [
    "df[['STATS','PROG']] # get two columns"
   ]
  },
  {
   "cell_type": "code",
   "execution_count": null,
   "metadata": {
    "colab": {
     "base_uri": "https://localhost:8080/",
     "height": 142
    },
    "id": "zzxaBgFM8yl5",
    "outputId": "30d426f2-8f24-4b18-b2b1-fc58b3701b37"
   },
   "outputs": [],
   "source": [
    "df[['PROG','STATS']] # order is important"
   ]
  },
  {
   "cell_type": "code",
   "execution_count": null,
   "metadata": {
    "colab": {
     "base_uri": "https://localhost:8080/"
    },
    "id": "fRh9u4Eg8xdV",
    "outputId": "8bb7196e-8051-48af-e5a4-90acf85ae23f"
   },
   "outputs": [],
   "source": [
    "type(df[['PROG','STATS']])"
   ]
  },
  {
   "cell_type": "markdown",
   "metadata": {
    "id": "Cy22y-Wl9Jr_"
   },
   "source": [
    "It is not a Series object because it is already a two-dimensional object."
   ]
  },
  {
   "cell_type": "markdown",
   "metadata": {},
   "source": [
    "![pic](https://www.datasciencemadesimple.com/wp-content/uploads/2020/05/create-series-in-python-pandas-0.png)"
   ]
  },
  {
   "cell_type": "markdown",
   "metadata": {
    "id": "mzqKKVyor6TG"
   },
   "source": [
    "### Attributes of a column `name`, `dtype`, `values`"
   ]
  },
  {
   "cell_type": "markdown",
   "metadata": {
    "id": "4mGFprn228ub"
   },
   "source": [
    "Now we will look at what attributes a column has. These attributes indicate the characteristics of the column."
   ]
  },
  {
   "cell_type": "code",
   "execution_count": null,
   "metadata": {
    "colab": {
     "base_uri": "https://localhost:8080/",
     "height": 37
    },
    "id": "VN0f3Xhgru-B",
    "outputId": "d86c86e5-9361-4c8d-8557-d2d18e1d2b2b"
   },
   "outputs": [],
   "source": [
    "df['STATS'].name # get a name of a column"
   ]
  },
  {
   "cell_type": "code",
   "execution_count": null,
   "metadata": {
    "colab": {
     "base_uri": "https://localhost:8080/"
    },
    "id": "9GdnPS6MrzOC",
    "outputId": "c5f66f8d-d186-47d7-b428-b750a4fd7be1"
   },
   "outputs": [],
   "source": [
    "df['STATS'].dtype # get a type of elements in a column"
   ]
  },
  {
   "cell_type": "markdown",
   "metadata": {
    "id": "cJmdAJb-4pXi"
   },
   "source": [
    "Note: don't pay much attention to numbers after int. The type is an integer. The number indicates a different range of storage capacity."
   ]
  },
  {
   "cell_type": "code",
   "execution_count": null,
   "metadata": {
    "colab": {
     "base_uri": "https://localhost:8080/"
    },
    "id": "Iam4hQccr2uU",
    "outputId": "6feba4a9-caeb-4722-a3d2-e6b2199dac27"
   },
   "outputs": [],
   "source": [
    "df['STATS'].values # here we can see NumPy array"
   ]
  },
  {
   "cell_type": "code",
   "execution_count": null,
   "metadata": {
    "colab": {
     "base_uri": "https://localhost:8080/"
    },
    "id": "5bitnoJh4_i9",
    "outputId": "51c046d7-e8a5-4126-c4f0-fa3636bcce0d"
   },
   "outputs": [],
   "source": [
    "type(df['STATS'].values) # definitely NumPy array"
   ]
  },
  {
   "cell_type": "markdown",
   "metadata": {
    "id": "BujVESUS6li4"
   },
   "source": [
    "One more useful attribute is `.shape`. It lets us know the shape of a dataframe."
   ]
  },
  {
   "cell_type": "code",
   "execution_count": null,
   "metadata": {
    "colab": {
     "base_uri": "https://localhost:8080/"
    },
    "id": "EpDNjRJBt-dQ",
    "outputId": "2ce316e0-cf3f-4e56-f5d8-bdb26a2d5ea9"
   },
   "outputs": [],
   "source": [
    "df.shape"
   ]
  },
  {
   "cell_type": "code",
   "execution_count": null,
   "metadata": {
    "colab": {
     "base_uri": "https://localhost:8080/"
    },
    "id": "omACHPCouFcp",
    "outputId": "4e74570a-dbdc-4b7b-f897-f15560ad862d"
   },
   "outputs": [],
   "source": [
    "df.info() # gives information about a dataframe"
   ]
  },
  {
   "cell_type": "code",
   "execution_count": null,
   "metadata": {},
   "outputs": [],
   "source": [
    "df.describe()   # Some statistics about the dataframe"
   ]
  },
  {
   "cell_type": "markdown",
   "metadata": {
    "id": "XMlu-ChQskO9"
   },
   "source": [
    "Now let's count students' average marks by adding up two columns and dividing by 2."
   ]
  },
  {
   "cell_type": "markdown",
   "metadata": {
    "id": "FMJzOt4Vsz-B"
   },
   "source": [
    "AVERAGE = (First column + Second column) / 2\n",
    "\n",
    "AVERAGE is also a Data frame."
   ]
  },
  {
   "cell_type": "code",
   "execution_count": null,
   "metadata": {
    "colab": {
     "base_uri": "https://localhost:8080/",
     "height": 142
    },
    "id": "GotvLB5Cl8Xd",
    "outputId": "581146a2-d94e-47c4-8391-c62d382f7fcf"
   },
   "outputs": [],
   "source": [
    "df['AVERAGE'] = (df['STATS'] + df['PROG']) / 2\n",
    "df # a new dataframe with three columns"
   ]
  },
  {
   "cell_type": "markdown",
   "metadata": {
    "id": "ev3TyfM_9RyX"
   },
   "source": [
    "Let's overwrite the variable with the new order of columns."
   ]
  },
  {
   "cell_type": "code",
   "execution_count": null,
   "metadata": {
    "colab": {
     "base_uri": "https://localhost:8080/",
     "height": 142
    },
    "id": "Z_PEJEppv1VU",
    "outputId": "f29d4fd9-f923-44b8-ad65-4aa3bf2c2fe8"
   },
   "outputs": [],
   "source": [
    "df = df[['AVERAGE','STATS', 'PROG']]\n",
    "df"
   ]
  },
  {
   "cell_type": "markdown",
   "metadata": {
    "id": "-dLCGysO9bD_"
   },
   "source": [
    "*   We get acquainted with Pandas types of data - Dataframe and Series.\n",
    "*   Now we understand how to create a new dataframe and fill it with data.\n",
    "*   We know how to work with columns of a dataframe.\n",
    "\n"
   ]
  },
  {
   "cell_type": "markdown",
   "metadata": {
    "id": "rsthLu2C-gaM"
   },
   "source": [
    "Further, we will learn to work with rows and get a column by an index.  "
   ]
  },
  {
   "cell_type": "markdown",
   "metadata": {
    "id": "cWtuObAjxuDC"
   },
   "source": [
    "## Other important attributes: columns and index"
   ]
  },
  {
   "cell_type": "markdown",
   "metadata": {
    "id": "hZ0ZnpaZC9fX"
   },
   "source": [
    "We continue to work with our dataframe with marks, now let's see how we can select different data from it."
   ]
  },
  {
   "cell_type": "markdown",
   "metadata": {
    "id": "f5HIFhm3DhYa"
   },
   "source": [
    "`.columns` is an attribute that shows the column labels of the DataFrame."
   ]
  },
  {
   "cell_type": "code",
   "execution_count": null,
   "metadata": {
    "colab": {
     "base_uri": "https://localhost:8080/"
    },
    "id": "QlO-RJubx5KV",
    "outputId": "e95d99a6-1eba-4a10-bc50-27af2a3bbc95"
   },
   "outputs": [],
   "source": [
    "df.columns # an object with the names of all columns"
   ]
  },
  {
   "cell_type": "code",
   "execution_count": null,
   "metadata": {
    "colab": {
     "base_uri": "https://localhost:8080/"
    },
    "id": "NtEp_EiVx6X8",
    "outputId": "0c4a673a-ce1f-4278-dc16-0f845010e030"
   },
   "outputs": [],
   "source": [
    "df.index # indexes of our dataframe"
   ]
  },
  {
   "cell_type": "markdown",
   "metadata": {
    "id": "MTUZTkbpyh13"
   },
   "source": [
    "We can use this attribute to change names of columns:"
   ]
  },
  {
   "cell_type": "code",
   "execution_count": null,
   "metadata": {
    "id": "ce1wYY5jx6kA"
   },
   "outputs": [],
   "source": [
    "df.columns = ['AV', 'S', 'P'] # rename columns with shorthen names: AV, S, P"
   ]
  },
  {
   "cell_type": "code",
   "execution_count": null,
   "metadata": {},
   "outputs": [],
   "source": [
    "df.columns"
   ]
  },
  {
   "cell_type": "code",
   "execution_count": null,
   "metadata": {},
   "outputs": [],
   "source": [
    "df"
   ]
  },
  {
   "cell_type": "markdown",
   "metadata": {
    "id": "C10Sk3-lzG1F"
   },
   "source": [
    "## How to take a row from a dataframe?"
   ]
  },
  {
   "cell_type": "markdown",
   "metadata": {
    "id": "w2qAGwzAzLJn"
   },
   "source": [
    "Can we use `df[0]`?"
   ]
  },
  {
   "cell_type": "code",
   "execution_count": null,
   "metadata": {
    "id": "GuufuDWBx6q4"
   },
   "outputs": [],
   "source": [
    "df[0]"
   ]
  },
  {
   "cell_type": "markdown",
   "metadata": {
    "id": "ZIU1cVenFvmW"
   },
   "source": [
    "We've got an error here. Because we can get only the names of columns by `df[0]`."
   ]
  },
  {
   "cell_type": "markdown",
   "metadata": {
    "id": "A1QVQVxxGCQj"
   },
   "source": [
    "To take a row from a dataframe we need an additional attribute `.iloc`. It means *index location*."
   ]
  },
  {
   "cell_type": "code",
   "execution_count": null,
   "metadata": {
    "colab": {
     "base_uri": "https://localhost:8080/"
    },
    "id": "Z2yxuGfml8Xk",
    "outputId": "396e3b68-e708-47ab-955d-e6c94f53a779"
   },
   "outputs": [],
   "source": [
    "df.iloc[0] # first row in our dataframe"
   ]
  },
  {
   "cell_type": "markdown",
   "metadata": {
    "id": "AU7haQzWGkHN"
   },
   "source": [
    "This way we can get the marks of the first student."
   ]
  },
  {
   "cell_type": "markdown",
   "metadata": {
    "id": "ZaGL1sqW1e3o"
   },
   "source": [
    "The data is converted to a float type (floating-point data) because the NumPy array contains only the same type of data."
   ]
  },
  {
   "cell_type": "markdown",
   "metadata": {
    "id": "-hNXlb4T1tfP"
   },
   "source": [
    "### Difference between .loc and .iloc"
   ]
  },
  {
   "cell_type": "markdown",
   "metadata": {
    "id": "sl35a8G72QfI"
   },
   "source": [
    "`.loc` allows accessing a row by label (not index)."
   ]
  },
  {
   "cell_type": "code",
   "execution_count": null,
   "metadata": {
    "colab": {
     "base_uri": "https://localhost:8080/"
    },
    "id": "U2h1zJSB1wm9",
    "outputId": "f76c31aa-bdbc-413d-8d59-dd0c7716e5a1"
   },
   "outputs": [],
   "source": [
    "df.loc[0]"
   ]
  },
  {
   "cell_type": "markdown",
   "metadata": {
    "id": "bMUUH6Hr2rgz"
   },
   "source": [
    "The same result with `df.iloc[]` because the generated index is similar to the name of a row."
   ]
  },
  {
   "cell_type": "markdown",
   "metadata": {
    "id": "13X8mSRK207K"
   },
   "source": [
    "Now we create a dataframe with the new names of rows, we need to change our indexes."
   ]
  },
  {
   "cell_type": "code",
   "execution_count": null,
   "metadata": {
    "id": "D6Lw2WiMl8Xk"
   },
   "outputs": [],
   "source": [
    "df.columns = ['STATS', 'PYTHON', 'AVERAGE'] # names of columns"
   ]
  },
  {
   "cell_type": "code",
   "execution_count": null,
   "metadata": {
    "id": "f1WusPl8l8Xl"
   },
   "outputs": [],
   "source": [
    "df.index = ['Mark', 'Alice', 'Alex'] # names of rows"
   ]
  },
  {
   "cell_type": "code",
   "execution_count": null,
   "metadata": {
    "colab": {
     "base_uri": "https://localhost:8080/",
     "height": 142
    },
    "id": "146Wb5CSl8Xl",
    "outputId": "3f9ae68b-e857-4b8f-a1e8-1a02c7a4c853"
   },
   "outputs": [],
   "source": [
    "df"
   ]
  },
  {
   "cell_type": "code",
   "execution_count": null,
   "metadata": {
    "colab": {
     "base_uri": "https://localhost:8080/"
    },
    "id": "GFyrG_D7l8Xl",
    "outputId": "5ca5428d-56d7-4136-e310-8e7bea8ebd9f"
   },
   "outputs": [],
   "source": [
    "df.iloc[0] # get a row by index"
   ]
  },
  {
   "cell_type": "code",
   "execution_count": null,
   "metadata": {
    "id": "BVdVcYDb3Aq8"
   },
   "outputs": [],
   "source": [
    "df.loc[0]"
   ]
  },
  {
   "cell_type": "markdown",
   "metadata": {
    "id": "iXiT1HcRLGee"
   },
   "source": [
    "We get an error here because now we don't have a row with name 0."
   ]
  },
  {
   "cell_type": "code",
   "execution_count": null,
   "metadata": {
    "colab": {
     "base_uri": "https://localhost:8080/"
    },
    "id": "HAn-xT7Pl8Xm",
    "outputId": "95686766-b9ca-4a06-a734-c705d97ff3d6"
   },
   "outputs": [],
   "source": [
    "df.loc['Mark'] # get a row by name"
   ]
  },
  {
   "cell_type": "markdown",
   "metadata": {
    "id": "TvJjxy5L3S5o"
   },
   "source": [
    "Let's get Alice's mark for Statistics using `loc` and `iloc`"
   ]
  },
  {
   "cell_type": "code",
   "execution_count": null,
   "metadata": {},
   "outputs": [],
   "source": [
    "df"
   ]
  },
  {
   "cell_type": "code",
   "execution_count": null,
   "metadata": {
    "colab": {
     "base_uri": "https://localhost:8080/"
    },
    "id": "Kl5cycDx3qnQ",
    "outputId": "187f644d-5da9-44e9-cc37-c6bed7811531",
    "scrolled": true
   },
   "outputs": [],
   "source": [
    "df.iloc[1,0] # indexes of a needed mark is [1,0]"
   ]
  },
  {
   "cell_type": "code",
   "execution_count": null,
   "metadata": {
    "colab": {
     "base_uri": "https://localhost:8080/"
    },
    "id": "v8hrw5GQ4AcI",
    "outputId": "67bddf9c-92ed-4418-83fc-77119add2372"
   },
   "outputs": [],
   "source": [
    "df.loc['Alice','STATS'] # names of a needed mark"
   ]
  },
  {
   "cell_type": "markdown",
   "metadata": {
    "id": "nDBg9WKj35Uz"
   },
   "source": [
    "One more way how to get a mark referring to a column."
   ]
  },
  {
   "cell_type": "code",
   "execution_count": null,
   "metadata": {
    "colab": {
     "base_uri": "https://localhost:8080/"
    },
    "id": "KnY1rLMRl8Xm",
    "outputId": "1051602f-54e8-43d6-d88b-c2fd0111f12b"
   },
   "outputs": [],
   "source": [
    "df['STATS'][1]"
   ]
  },
  {
   "cell_type": "code",
   "execution_count": null,
   "metadata": {
    "colab": {
     "base_uri": "https://localhost:8080/"
    },
    "id": "PhrXWTvN4OBw",
    "outputId": "19e974ed-bd44-494c-ba47-7abe8425c065"
   },
   "outputs": [],
   "source": [
    "df['STATS']['Alice']"
   ]
  },
  {
   "cell_type": "markdown",
   "metadata": {
    "id": "TI-243LxMK4T"
   },
   "source": [
    "# Working with datasets"
   ]
  },
  {
   "cell_type": "markdown",
   "metadata": {
    "id": "zU8nEUTm4trD"
   },
   "source": [
    "We learned how to work with a dataframe, namely with its columns and rows.\n",
    "\n",
    "Of course, most often we have to work with datasets. So, now we will practice with some datasets: loading them and using some attributes."
   ]
  },
  {
   "cell_type": "markdown",
   "metadata": {
    "id": "t5bqH120TQi6"
   },
   "source": [
    "Datasets are usually stored in xls (x) format - for working in Excel, or (more often) in csv format - comma-separated value. Csv files can also be separated with a semicolon, tab and so on."
   ]
  },
  {
   "cell_type": "markdown",
   "metadata": {
    "id": "LM49GLUFSKYn"
   },
   "source": [
    "Firstly, we need to upload datasets into Google Colab. You can click on the folder icon on the left. Then move the files from your computer to the field that opens. Here we will use three files: `coffee_stats.xlsx`, `coffee_stats_2.csv`, `students.csv`. You can open it in a text editor and see what is inside."
   ]
  },
  {
   "cell_type": "markdown",
   "metadata": {
    "id": "KyocAyGcVjYJ"
   },
   "source": [
    "To open it in Python, we need to use `pd.read_excel('our_table')` or `pd.read_csv('our_table')`, depending on the format. These function read data from a csv file or xls (x) format and converts the data to pandas.DataFrame."
   ]
  },
  {
   "cell_type": "code",
   "execution_count": null,
   "metadata": {
    "id": "i6DvKxskl8Xn"
   },
   "outputs": [],
   "source": [
    "df_excel = pd.read_excel('coffee_stats.xlsx') # loading the Excel file"
   ]
  },
  {
   "cell_type": "code",
   "execution_count": null,
   "metadata": {
    "colab": {
     "base_uri": "https://localhost:8080/",
     "height": 419
    },
    "id": "54CNlLMhW0eF",
    "outputId": "bdf0f249-9797-4af0-bf0c-869c77031678"
   },
   "outputs": [],
   "source": [
    "df_excel"
   ]
  },
  {
   "cell_type": "markdown",
   "metadata": {
    "id": "gSkL-Z2QXBcp"
   },
   "source": [
    "The dataset is not displayed in full, but only the first and the last rows.\n",
    " Therefore, unlike Excel, it quickly loads large tables."
   ]
  },
  {
   "cell_type": "code",
   "execution_count": null,
   "metadata": {
    "colab": {
     "base_uri": "https://localhost:8080/",
     "height": 204
    },
    "id": "aoxNVuGrl8Xo",
    "outputId": "e9e635c2-ea2e-45aa-a255-42ec40dd9c27"
   },
   "outputs": [],
   "source": [
    "df_excel.head() # this attribute contains the first five rows"
   ]
  },
  {
   "cell_type": "code",
   "execution_count": null,
   "metadata": {
    "colab": {
     "base_uri": "https://localhost:8080/",
     "height": 235
    },
    "id": "xdJrVnQ9Uvy8",
    "outputId": "1419ead2-55ee-4105-b970-ca84532a7003"
   },
   "outputs": [],
   "source": [
    "df_excel.head(6) # this attribute contains the first six rows"
   ]
  },
  {
   "cell_type": "markdown",
   "metadata": {
    "id": "QyN3qYWrU05R"
   },
   "source": [
    "By default, the attribute displays 5 rows, but we can set the needed number. NaN stands for Not a Number, here it is an empty cell. \n",
    "\n",
    "Or we call them missing values when the data is missed in a cell."
   ]
  },
  {
   "cell_type": "code",
   "execution_count": null,
   "metadata": {
    "colab": {
     "base_uri": "https://localhost:8080/",
     "height": 204
    },
    "id": "9wLu_glpl8Xo",
    "outputId": "3ed1eb3c-e732-4dec-9732-454969b15614"
   },
   "outputs": [],
   "source": [
    "df_excel.tail() # this attribute contains the last five columns"
   ]
  },
  {
   "cell_type": "code",
   "execution_count": null,
   "metadata": {},
   "outputs": [],
   "source": [
    "df_excel.tail(7)"
   ]
  },
  {
   "cell_type": "code",
   "execution_count": null,
   "metadata": {
    "colab": {
     "base_uri": "https://localhost:8080/",
     "height": 204
    },
    "id": "rywFPlgal8Xo",
    "outputId": "f27babd6-41d1-48d5-d3e1-72962bfec3a8"
   },
   "outputs": [],
   "source": [
    "df_csv = pd.read_csv('students.csv') # loading the csv file\n",
    "df_csv.head()"
   ]
  },
  {
   "cell_type": "code",
   "execution_count": null,
   "metadata": {
    "colab": {
     "base_uri": "https://localhost:8080/",
     "height": 204
    },
    "id": "RXIxJmxll8Xp",
    "outputId": "2d98556a-1939-47c6-90c8-89d2d22a7f5d"
   },
   "outputs": [],
   "source": [
    "df_csv_sep = pd.read_csv('coffee_stats_2.csv')\n",
    "df_csv_sep.head()"
   ]
  },
  {
   "cell_type": "markdown",
   "metadata": {
    "id": "SY3H7kPsV5Uc"
   },
   "source": [
    "Here something went wrong. The issue is that our data is separated with a semicolon `;`. In this case, we need to add `sep=';'` that means a separator is a semicolon."
   ]
  },
  {
   "cell_type": "code",
   "execution_count": null,
   "metadata": {
    "colab": {
     "base_uri": "https://localhost:8080/",
     "height": 204
    },
    "id": "Z2H7Bccbl8Xp",
    "outputId": "da9988d8-1b24-448a-dd20-7a2383421aa2"
   },
   "outputs": [],
   "source": [
    "df_csv_sep = pd.read_csv('coffee_stats_2.csv', sep=';', header=None)\n",
    "df_csv_sep.head()"
   ]
  },
  {
   "cell_type": "markdown",
   "metadata": {
    "id": "iUzCz_Z5Wlko"
   },
   "source": [
    "Now we have the right format of a dataframe but the names of columns are not displayed in the right way. To fix this problem we need to find a parameter that will change it."
   ]
  },
  {
   "cell_type": "markdown",
   "metadata": {
    "id": "clHJ_s06X5lu"
   },
   "source": [
    "If you don't know, please check the documentation: [link](https://pandas.pydata.org/pandas-docs/dev/reference/api/pandas.read_csv.html#pandas.read_csv). There you can find that the header parameter assigned to 0 will fix it."
   ]
  },
  {
   "cell_type": "code",
   "execution_count": null,
   "metadata": {
    "colab": {
     "base_uri": "https://localhost:8080/",
     "height": 204
    },
    "id": "uicqo4jAl8Xq",
    "outputId": "36d2fd27-8931-41ad-cf53-229727b03a70"
   },
   "outputs": [],
   "source": [
    "df_csv_sep = pd.read_csv('coffee_stats_2.csv',\n",
    "                     sep=';', header=0)\n",
    "df_csv_sep.head()"
   ]
  },
  {
   "cell_type": "code",
   "execution_count": null,
   "metadata": {},
   "outputs": [],
   "source": []
  },
  {
   "cell_type": "code",
   "execution_count": null,
   "metadata": {},
   "outputs": [],
   "source": []
  },
  {
   "cell_type": "code",
   "execution_count": null,
   "metadata": {},
   "outputs": [],
   "source": []
  },
  {
   "cell_type": "markdown",
   "metadata": {},
   "source": [
    "## 3. Introduction to `Matplotlib`"
   ]
  },
  {
   "cell_type": "code",
   "execution_count": null,
   "metadata": {},
   "outputs": [],
   "source": [
    "import numpy as np\n",
    "import matplotlib.pyplot as plt"
   ]
  },
  {
   "cell_type": "markdown",
   "metadata": {},
   "source": [
    "### Scatter plot\n",
    "\n",
    "`.scatter()` represents scatter plot takes two points as coordinates (X, Y) and draw a poin on a plain."
   ]
  },
  {
   "cell_type": "code",
   "execution_count": null,
   "metadata": {},
   "outputs": [],
   "source": [
    "X_data = np.random.random(50) * 100\n",
    "y_data = np.random.random(50) * 100\n",
    "\n",
    "plt.scatter(X_data, y_data)  \n",
    "plt.show()"
   ]
  },
  {
   "cell_type": "markdown",
   "metadata": {},
   "source": [
    "We can change the color of the points by `c` arguments."
   ]
  },
  {
   "cell_type": "code",
   "execution_count": null,
   "metadata": {},
   "outputs": [],
   "source": [
    "plt.scatter(X_data, y_data, c='orange')  \n",
    "plt.show()"
   ]
  },
  {
   "cell_type": "markdown",
   "metadata": {},
   "source": [
    "Changing color is possible by color code also. `#000000` represents black color."
   ]
  },
  {
   "cell_type": "code",
   "execution_count": null,
   "metadata": {},
   "outputs": [],
   "source": [
    "plt.scatter(X_data, y_data, c='#000000')  \n",
    "plt.show()"
   ]
  },
  {
   "cell_type": "markdown",
   "metadata": {},
   "source": [
    "We can change the marker to different type by `marker` argument.\n",
    "\n",
    "Argument `s` will change the size of the marker."
   ]
  },
  {
   "cell_type": "code",
   "execution_count": null,
   "metadata": {},
   "outputs": [],
   "source": [
    "plt.scatter(X_data, y_data, c='red', s=100, marker='*')  \n",
    "plt.show()"
   ]
  },
  {
   "cell_type": "markdown",
   "metadata": {},
   "source": [
    "### Line plot\n",
    "\n",
    "If you need a plot which represent the connection of the points in your plot, you may use line plot, like time series data."
   ]
  },
  {
   "cell_type": "code",
   "execution_count": null,
   "metadata": {},
   "outputs": [],
   "source": [
    "years = [2000 + x for x in range(24)]\n",
    "weights = [67, 67, 70, 69, 74, 75, 75, 80, 82, 80, 79, 75,\n",
    "           76, 75, 72, 79, 80, 80, 81, 80, 83, 82, 80, 82]\n",
    "\n",
    "weights_ticks = list(range(65, 85, 2))\n",
    "\n",
    "plt.plot(years, weights, c='g', lw=4, linestyle=\"--\")\n",
    "plt.title('Weights change through ageing', fontsize=15, fontname='Times New Roman')\n",
    "plt.xlabel('years')\n",
    "plt.ylabel('weights')\n",
    "plt.yticks(weights_ticks, [f'{x} kg' for x in weights_ticks])\n",
    "plt.legend(['Aging'])\n",
    "plt.show()"
   ]
  },
  {
   "cell_type": "code",
   "execution_count": null,
   "metadata": {},
   "outputs": [],
   "source": [
    "# Let's make a legend\n",
    "\n",
    "weights_1 = [67, 67, 70, 69, 74, 75]\n",
    "weights_2 = [100, 115, 110, 111, 108, 112]\n",
    "weights_3 = [80, 85, 87, 83, 90, 91]\n",
    "\n",
    "plt.plot(weights_1, label='Person 1')\n",
    "plt.plot(weights_2, label='Person 2')\n",
    "plt.plot(weights_3, label='Person 3')\n",
    "plt.legend(loc='upper left')\n",
    "plt.show()"
   ]
  },
  {
   "cell_type": "markdown",
   "metadata": {},
   "source": [
    "### Bar plot\n",
    "\n",
    "To visualize the categorical data we use bar plot."
   ]
  },
  {
   "cell_type": "code",
   "execution_count": null,
   "metadata": {},
   "outputs": [],
   "source": [
    "languages = ['Russian', 'English', 'Persian', 'Arabic', 'Chinese']\n",
    "people = [100, 150, 80, 90, 120]\n",
    "\n",
    "plt.bar(languages, people, color='orange', width=0.8, edgecolor='black', lw=2)"
   ]
  },
  {
   "cell_type": "markdown",
   "metadata": {},
   "source": [
    "### Histogram"
   ]
  },
  {
   "cell_type": "code",
   "execution_count": null,
   "metadata": {},
   "outputs": [],
   "source": [
    "ages = np.random.normal(20, 1.5, 1000)\n",
    "\n",
    "plt.hist(ages, bins=20, color='orange', edgecolor='black')\n",
    "plt.show()"
   ]
  },
  {
   "cell_type": "markdown",
   "metadata": {},
   "source": [
    "### Pie chart"
   ]
  },
  {
   "cell_type": "code",
   "execution_count": null,
   "metadata": {},
   "outputs": [],
   "source": [
    "languages = ['Russian', 'English', 'Persian', 'Arabic', 'Chinese']\n",
    "people = [100, 300, 80, 20, 120]\n",
    "\n",
    "explodes=[0, 0, 0, 0.12, 0]\n",
    "\n",
    "plt.pie(people, labels=languages, explode=explodes, autopct='%.2f%%',\n",
    "        pctdistance=.75)\n",
    "plt.show()"
   ]
  },
  {
   "cell_type": "markdown",
   "metadata": {},
   "source": [
    "### Box plot"
   ]
  },
  {
   "cell_type": "code",
   "execution_count": null,
   "metadata": {},
   "outputs": [],
   "source": [
    "heights = np.random.normal(172, 8, 300)\n",
    "\n",
    "plt.boxplot(heights)\n",
    "plt.show()"
   ]
  },
  {
   "cell_type": "markdown",
   "metadata": {},
   "source": [
    "In this plot we can see the median which is the second quartile (orange line)\n",
    "\n",
    "First and third qurtiles are the line below and the top of the orange line.\n",
    "\n",
    "Also the minimum and the maximum values.\n",
    "\n",
    "And those dots are some outliers."
   ]
  },
  {
   "cell_type": "code",
   "execution_count": null,
   "metadata": {},
   "outputs": [],
   "source": []
  }
 ],
 "metadata": {
  "colab": {
   "provenance": []
  },
  "kernelspec": {
   "display_name": "Python 3 (ipykernel)",
   "language": "python",
   "name": "python3"
  },
  "language_info": {
   "codemirror_mode": {
    "name": "ipython",
    "version": 3
   },
   "file_extension": ".py",
   "mimetype": "text/x-python",
   "name": "python",
   "nbconvert_exporter": "python",
   "pygments_lexer": "ipython3",
   "version": "3.10.9"
  }
 },
 "nbformat": 4,
 "nbformat_minor": 1
}
