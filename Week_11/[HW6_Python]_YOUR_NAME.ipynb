{
 "cells": [
  {
   "cell_type": "markdown",
   "id": "8f868eb6",
   "metadata": {
    "id": "8f868eb6"
   },
   "source": [
    "# Homework 6 - Python\n",
    "\n",
    "First Name:\n",
    "\n",
    "Last Name:\n",
    "\n",
    "Group:\n",
    "\n",
    "### After the assigment is done, please, push it to your [private GitHub repository](https://docs.github.com/en/github/administering-a-repository/managing-repository-settings/setting-repository-visibility) and invite [Majid-Sohrabi](https://github.com/Majid-Sohrabi)  as [collaborator](https://docs.github.com/en/account-and-profile/setting-up-and-managing-your-github-user-account/managing-access-to-your-personal-repositories/inviting-collaborators-to-a-personal-repository)."
   ]
  },
  {
   "cell_type": "markdown",
   "id": "f47683d8",
   "metadata": {
    "id": "f47683d8"
   },
   "source": [
    "## Task 1 - Torsional Angle using Class (1 point)\n",
    "\n",
    "Given four points **P, Q, R,** and **S** in a 3-dimensional Cartesian coordinate system, you need to calculate and print the angle between the planes formed by the points **P, Q, R** and **Q, R, S** in degrees (not radians). Let the angle be denoted by <span style=\"font-family: 'Times New Roman', Times, serif;\">Φ</span>. (PHI)\n",
    "\n",
    "To calculate <span style=\"font-family: 'Times New Roman', Times, serif;\">Φ</span>, you can use the formula:\n",
    "\n",
    "$$\n",
    "\\cos(\\phi) = \\frac{{\\mathbf{X} \\cdot \\mathbf{Y}}}{{|\\mathbf{X}|  |\\mathbf{Y}|}}\n",
    "$$\n",
    "\n",
    "where **X = PQ × QR** and **Y = QR × RS**.\n",
    "\n",
    "Here, **X, Y** means the dot product of **X** and **Y**, and **PQ x QR** means the cross product of vectors **PQ** and **QR**. Also, **PQ = Q - P**.\n",
    "\n",
    "```\n",
    "Input Format:\n",
    "    One line of input containing the space separated floating number values of\n",
    "    the X, Y and Z coordinates of a point.\n",
    "\n",
    "Output Format:\n",
    "    Output the angle correct up to two decimal places.\n",
    "```\n",
    "\n",
    "Consider below as a sample\n",
    "\n",
    "```\n",
    "Sample Input\n",
    "\n",
    "0 4 5\n",
    "1 7 6\n",
    "0 5 9\n",
    "1 7 2\n",
    "\n",
    "Sample Output\n",
    "\n",
    "8.19\n",
    "```\n",
    "\n",
    "Your code should be designed to handle any input values\n"
   ]
  },
  {
   "cell_type": "code",
   "execution_count": null,
   "id": "2d62ba3d",
   "metadata": {
    "id": "2d62ba3d"
   },
   "outputs": [],
   "source": [
    "<YOUR CODE>"
   ]
  },
  {
   "cell_type": "markdown",
   "id": "d03af2f7",
   "metadata": {
    "id": "d03af2f7"
   },
   "source": [
    "## Task 2 - Automating University Admission Process (1.5 point)\n",
    "\n",
    "Develop a Python program using OOP to automate the admission process for a university based on the marks scored in a qualifying exam. Each student is represented by a unique student ID, along with their age and marks obtained in the exam.\n",
    "\n",
    "**Data Validity Criteria:**\n",
    "\n",
    "1. **Age:** The age of the student must be greater than 17 years.\n",
    "2. **Marks:** The marks obtained by the student must be within the range of 0 to 100 (both inclusive).\n",
    "\n",
    "**Admission Qualification Criteria:**\n",
    "\n",
    "A student qualifies for admission if the following conditions are met:\n",
    "\n",
    "1. The age and marks of the student are valid according to the criteria mentioned above.\n",
    "2. The marks obtained by the student are 35 or more.\n",
    "\n",
    "**Scholarship Calculation:**\n",
    "\n",
    "Based on the marks obtained by the student, the following scholarship percentages are applicable:\n",
    "\n",
    "*   96-100: 100% Scholarship\n",
    "*   86-95: 75% Scholarship\n",
    "*   76-85: 50% Scholarship\n",
    "*   60-75: 20% Scholarship\n",
    "*   50-60: 10% Scholarship\n",
    "*   Below 50: No scholarship; full tuition fees apply.\n",
    "\n",
    "\n",
    "Write a python program to represent the students seeking admission in the university with atleast 5 students input test"
   ]
  },
  {
   "cell_type": "code",
   "execution_count": null,
   "id": "53894434",
   "metadata": {
    "id": "53894434"
   },
   "outputs": [],
   "source": [
    "<YOUR CODE>"
   ]
  },
  {
   "cell_type": "markdown",
   "id": "89040ea7",
   "metadata": {
    "id": "89040ea7"
   },
   "source": [
    "## Task 3 - TollBooth (1.5 point)\n",
    "\n",
    "Imagine a tollbooth at a bridge. Vehicle passing by the booth are expected to pay or freely pass with a toll fee based on their vehicle type:\n",
    "\n",
    "\n",
    "*   **Bikes, Two-Wheeler and Scooter** pass for **free**(pay no toll).\n",
    "*   **Cars** are charged **500 rubles**.\n",
    "*   **Trucks/Buses** are charged **1200 rubles**.\n",
    "*   **Heavy-duty equipment vehicles** are charged **1500 rubles**.\n",
    "\n",
    "\n",
    "The tollbooth keeps track of the number of vehicles that have passed and the total amount of money collected.\n",
    "\n",
    "Model this tollbooth with a class called ***TollBooth***. The two data items are an unsigned integer to hold the total number of vehicles and an integer to hold the total amount of money collected. A constructor initializes both of these to zero.\n",
    "\n",
    "Implement the following member functions:\n",
    "\n",
    "1. **payVehicle(int toll)**: Increments the vehicle total and adds the specified toll amount to the cash total.\n",
    "2. **noPayVehicle()**: Increments the vehicle total but adds nothing to the cash total.\n",
    "3. **display()**: Displays the total number of vehicles and the total amount of money collected.\n",
    "\n",
    "Create an object of this class in the main function. Continuously display a menu to the user, allowing them to choose the type of vehicle passing by. Update the tollbooth accordingly and display the total statistics. Keep displaying the menu until the user chooses to exit the program.\n",
    "\n",
    "\n"
   ]
  },
  {
   "cell_type": "code",
   "execution_count": null,
   "id": "782170f2",
   "metadata": {
    "id": "782170f2"
   },
   "outputs": [],
   "source": [
    "<YOUR CODE>"
   ]
  },
  {
   "cell_type": "markdown",
   "id": "9f0f0213",
   "metadata": {
    "id": "9f0f0213"
   },
   "source": [
    "## Task 4 - Store Data (1 point)\n",
    "\n",
    "You have given a store [dataset](https://github.com/MrBhimani/Datasets/blob/main/store_dataset.csv), the dataset contains the following features:\n",
    "\n",
    "1. Store specific information:\n",
    "    - store_sales(in millions) - store_sales(in million dollars)\n",
    "    - unit_sales(in millions) - unit_sales(in millions) in stores Quantity\n",
    "    - Store_sqft - STORE AREA AVAILABLE IN SQFT\n",
    "    - Units_per_case - UNITS/CASE UNITS AVAILABLE IN EACH STORE SHELVES\n",
    "    - Coffee_bar - COFFEE BAR available in store\n",
    "    - Video_store - VIDEO STORE/gaming store available\n",
    "    - Salad_bar - SALAD BAR available in store\n",
    "    - Prepared_food - food prepared available in store\n",
    "    - Florist - flower shelves available in store\n",
    "2. Customer related information:\n",
    "    - Total_children - TOTAL CHILDREN IN HOME\n",
    "    - avg_cars_at home(approx) - avg_cars_at home(approx)\n",
    "    - Num_children_at_home - num_children_at_home AS PER CUSTOMERS FILLED DETAILS\n",
    "    - Cost - COST ON ACQUIRING A CUSTOMERS in dollars\n",
    "3. Information about specific product (which was bought by a customer in the store):\n",
    "    - Gross_weight - gross_weight OF ITEM\n",
    "    - Recyclable_package - FOOD ITEM IS recyclable_package\n",
    "    - Low_fat - LOW_FAT FOOD ITEM IS LOW FAT\n",
    "\n",
    "Using this dataset, address below 4 questions\n"
   ]
  },
  {
   "cell_type": "code",
   "execution_count": null,
   "id": "CRZRHNllnNIY",
   "metadata": {
    "id": "CRZRHNllnNIY"
   },
   "outputs": [],
   "source": [
    "dataset = \"https://github.com/MrBhimani/Datasets/blob/main/store_dataset.csv\""
   ]
  },
  {
   "cell_type": "markdown",
   "id": "DjHhBQ-EkVWQ",
   "metadata": {
    "id": "DjHhBQ-EkVWQ"
   },
   "source": [
    "### Question 1. How many observations & features are in the dataset? print here"
   ]
  },
  {
   "cell_type": "code",
   "execution_count": null,
   "id": "c79ed191",
   "metadata": {
    "id": "c79ed191"
   },
   "outputs": [],
   "source": [
    "<YOUR CODE>"
   ]
  },
  {
   "cell_type": "markdown",
   "id": "3K_MHvPNkfFW",
   "metadata": {
    "id": "3K_MHvPNkfFW"
   },
   "source": [
    "### Question 2 .Generate a boxplot to compare the distribution of unit sales among the stores."
   ]
  },
  {
   "cell_type": "code",
   "execution_count": null,
   "id": "fgAEe9AimKHd",
   "metadata": {
    "id": "fgAEe9AimKHd"
   },
   "outputs": [],
   "source": [
    "<YOUR CODE>"
   ]
  },
  {
   "cell_type": "markdown",
   "id": "qegROu1HmLiD",
   "metadata": {
    "id": "qegROu1HmLiD"
   },
   "source": [
    "### Question 3 .Show the proportion of stores with prepared food using a pie chart."
   ]
  },
  {
   "cell_type": "code",
   "execution_count": null,
   "id": "A_LAp2y7mNqr",
   "metadata": {
    "id": "A_LAp2y7mNqr"
   },
   "outputs": [],
   "source": [
    "<YOUR CODE>"
   ]
  },
  {
   "cell_type": "markdown",
   "id": "6Jr6Hya1m1Mq",
   "metadata": {
    "id": "6Jr6Hya1m1Mq"
   },
   "source": [
    "### Question 4 .What is the average sales per squre foot area?"
   ]
  },
  {
   "cell_type": "code",
   "execution_count": null,
   "id": "95RMW57Om55Z",
   "metadata": {
    "id": "95RMW57Om55Z"
   },
   "outputs": [],
   "source": [
    "<YOUR CODE>"
   ]
  }
 ],
 "metadata": {
  "colab": {
   "provenance": []
  },
  "kernelspec": {
   "display_name": "Python 3 (ipykernel)",
   "language": "python",
   "name": "python3"
  },
  "language_info": {
   "codemirror_mode": {
    "name": "ipython",
    "version": 3
   },
   "file_extension": ".py",
   "mimetype": "text/x-python",
   "name": "python",
   "nbconvert_exporter": "python",
   "pygments_lexer": "ipython3",
   "version": "3.10.9"
  }
 },
 "nbformat": 4,
 "nbformat_minor": 5
}
