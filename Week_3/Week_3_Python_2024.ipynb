{
 "cells": [
  {
   "cell_type": "markdown",
   "metadata": {
    "id": "Dp-fwTIQ7_7d"
   },
   "source": [
    "# Week 3: Conditions, Logical Operators, Loops, List\n",
    "\n",
    "Instructor: **Majid Sohrabi**"
   ]
  },
  {
   "cell_type": "markdown",
   "metadata": {},
   "source": [
    "# 1. If...elif statement"
   ]
  },
  {
   "cell_type": "markdown",
   "metadata": {},
   "source": [
    "In the previous examples we used `if` statement and if it was not True we also used `else`. But often enough we need to check several conditions.\n",
    "\n",
    "Imagine, you come to a coffehouse and you need to choose a beverage."
   ]
  },
  {
   "cell_type": "markdown",
   "metadata": {},
   "source": [
    "A barista asks you do you want tea or coffee."
   ]
  },
  {
   "cell_type": "code",
   "execution_count": null,
   "metadata": {},
   "outputs": [],
   "source": [
    "drink = input('Do you want tea or coffee? ')\n",
    "if drink == 'tea':\n",
    "    print('It costs 100 rubles.')\n",
    "if drink == 'coffee':\n",
    "    print('It costs 150 rubles.')"
   ]
  },
  {
   "cell_type": "markdown",
   "metadata": {},
   "source": [
    "If we ask for something different, a barista will tell us that they do not serve it."
   ]
  },
  {
   "cell_type": "code",
   "execution_count": null,
   "metadata": {
    "scrolled": true
   },
   "outputs": [],
   "source": [
    "drink = input('Do you want tea or coffee? ')\n",
    "\n",
    "if drink == 'tea':\n",
    "    print('It costs 100 rubles.')\n",
    "if drink == 'coffee':\n",
    "    print('It costs 150 rubles.')\n",
    "else:\n",
    "    print('Sorry, we do not have this item.')"
   ]
  },
  {
   "cell_type": "markdown",
   "metadata": {},
   "source": [
    "Oops!\n",
    "We asked for a drink that is on the menu, but our program still gave us 'Sorry, we do not have this item' line.\n",
    "\n",
    "It happened because those `if` statements are independent from each other. And the first statement is evaluated separately from the second one. If we type in 'tea' we still get to the `if`-coffee statement and then get to its `else` part since condition is False ('tea' is not 'coffee').\n",
    "\n",
    "Check the updated block diagram.\n",
    "\n",
    "<img src=\"https://github.com/rogovich/Data/blob/master/img/Coursera_English/double-if_eng.png?raw=true\" width=\"350\">\n",
    "\n",
    "So it seems that we need to learn how to check several conditions within one `if` statement. The operator `elif` will help us with those.\n",
    "\n",
    "So, let's summarise:\n",
    "\n",
    "* **if** lets us execute instructions based on condition (will be executed only if True)\n",
    "* **if...else** lets us execute two different sets of instructions based on conditon (either True or False)\n",
    "* **if...elif...else** lets us execute several conditions consectuvely within one `if` statement. We can have more than one `elif` statement.\n"
   ]
  },
  {
   "cell_type": "markdown",
   "metadata": {},
   "source": [
    "There is an updated diagram with `elif` statement.\n",
    "\n",
    "<img src=\"https://github.com/rogovich/Data/blob/master/img/Coursera_English/if-elif_eng.png?raw=true\" width=\"350\">\n",
    "\n",
    "Let's fix our example."
   ]
  },
  {
   "cell_type": "code",
   "execution_count": null,
   "metadata": {},
   "outputs": [],
   "source": [
    "drink = input('Do you want tea or coffee? ')\n",
    "\n",
    "if drink == 'tea':\n",
    "    print('It costs 100 rubles.')\n",
    "    \n",
    "elif drink == 'coffee': # this condition will be checked only if the first failed (was False)\n",
    "    print('It costs 150 rubles.')\n",
    "    \n",
    "else: # we will get to the else-instructions only if all the conditions above have failed\n",
    "    print('Sorry, we do not have this.')"
   ]
  },
  {
   "cell_type": "markdown",
   "metadata": {},
   "source": [
    "Great, it's alive!\n",
    "\n",
    "Now *conditions are checked consecutively, each one is checked only if the previous one has failed*. When we tried to use different `if` statements, *each condition was checked independently*.\n"
   ]
  },
  {
   "cell_type": "markdown",
   "metadata": {},
   "source": [
    "Of course `if...elif...else` statement also can be nested. Let's make our program more complex by allowing different kind of coffee."
   ]
  },
  {
   "cell_type": "code",
   "execution_count": null,
   "metadata": {},
   "outputs": [],
   "source": [
    "drink = input('Do you want tea or coffee? ')\n",
    "\n",
    "if drink == 'tea':\n",
    "    print('It costs 100 rubles.')\n",
    "    \n",
    "elif drink == 'coffee':\n",
    "    coffee = input('Which coffee do you want? We have espresso, cafe late, and cappuccino. ')\n",
    "    if coffee == 'espresso':\n",
    "        print('It costs 90 rubles.')\n",
    "    elif coffee == 'cafe late':\n",
    "        print('It costs 150 rubles.')\n",
    "    elif coffee == 'cappuccino':\n",
    "        print('It costs 200 rubles.')\n",
    "    else:\n",
    "        print('Sorry, we do not have such coffee.') # we get this line if we input the wrong type of coffee\n",
    "        \n",
    "else:\n",
    "    print('Sorry, we do not have this.') # we get this if we input the wrong type of beverage"
   ]
  },
  {
   "cell_type": "markdown",
   "metadata": {},
   "source": [
    "## Task 1.1\n",
    "Add to the program above the following:\n",
    "\n",
    "1. Allow for different tea options (e.g. black, green and ice tea)\n",
    "2. For cappuccino ask if the customer wants small or big cup."
   ]
  },
  {
   "cell_type": "code",
   "execution_count": null,
   "metadata": {},
   "outputs": [],
   "source": [
    "<YOUR CODE>"
   ]
  },
  {
   "cell_type": "code",
   "execution_count": null,
   "metadata": {},
   "outputs": [],
   "source": []
  },
  {
   "cell_type": "code",
   "execution_count": null,
   "metadata": {},
   "outputs": [],
   "source": []
  },
  {
   "cell_type": "markdown",
   "metadata": {},
   "source": [
    "# 2. Logical operators"
   ]
  },
  {
   "cell_type": "markdown",
   "metadata": {},
   "source": [
    "We've talked about *arithmetic operators*, e.g. `+`, `-` and so on. We used them for numbers and strings.\n",
    "\n",
    "We also have talked about *comparison operators*, e.g. `==` or `>`. We used those again for numbers and strings.\n",
    "\n",
    "Now we will talk about *logical operators*. Those can be used to work with boolean variables to get another boolean variable."
   ]
  },
  {
   "cell_type": "markdown",
   "metadata": {},
   "source": [
    "When we might need something like this?\n",
    "\n",
    "Let's consider an example. *In order to organise a hiking trip we need no less than 7 but no more than 15 people to sign up.*"
   ]
  },
  {
   "cell_type": "code",
   "execution_count": null,
   "metadata": {},
   "outputs": [],
   "source": [
    "NUMBER =8\n",
    "7 <= NUMBER <= 15"
   ]
  },
  {
   "cell_type": "markdown",
   "metadata": {},
   "source": [
    "What can happen here?\n",
    "\n",
    "* The number of signed up students is more than 6 **AND** less than 16. Than our condition is True.\n",
    "* The number of signed up students is less than 7 **OR** more than 15. Than our condition is False.\n",
    "\n",
    "How to check whethere there are less than 7 students signed up we already know. **AND** and **OR** are logical operators that help us to connect to conditions. You may find them familiar if you've studied courses on logic before."
   ]
  },
  {
   "cell_type": "code",
   "execution_count": null,
   "metadata": {},
   "outputs": [],
   "source": [
    "group = int(input('How many people did sign up? '))\n",
    "\n",
    "print(group > 6) # Did more than 6 people singed up? (no less than 7)\n",
    "\n",
    "print(group < 16)   # Did 15 or less people signed up?"
   ]
  },
  {
   "cell_type": "markdown",
   "metadata": {},
   "source": [
    "Let's connect those expression via logical AND. Let's write the expression with AND that would be True in case that we can go hiking."
   ]
  },
  {
   "cell_type": "code",
   "execution_count": null,
   "metadata": {},
   "outputs": [],
   "source": [
    "group = int(input('How many people did sign up? '))\n",
    "\n",
    "\n",
    "print(group > 6 and group < 16) # checking if we can go hiking?"
   ]
  },
  {
   "cell_type": "code",
   "execution_count": null,
   "metadata": {},
   "outputs": [],
   "source": [
    "# Boolean Logic Table\n",
    "\n",
    "<YOUR CODE>"
   ]
  },
  {
   "cell_type": "markdown",
   "metadata": {},
   "source": [
    "In this case the expression will be True then and only then if **both** logical values would be True.\n",
    "\n",
    "Let's write up the full program."
   ]
  },
  {
   "cell_type": "code",
   "execution_count": null,
   "metadata": {},
   "outputs": [],
   "source": [
    "group = int(input('How many people did sign up? '))\n",
    "if group > 6 and group < 16:\n",
    "    print('We can go hiking!')\n",
    "else:\n",
    "    print('We cannot go hiking :(') # it will happen if too many or too few people signed up"
   ]
  },
  {
   "cell_type": "markdown",
   "metadata": {},
   "source": [
    "Now let's write the expression with logical OR for the case that it should be True if we cannot go hiking."
   ]
  },
  {
   "cell_type": "code",
   "execution_count": null,
   "metadata": {},
   "outputs": [],
   "source": [
    "group = int(input('How many people did sign up? '))\n",
    "\n",
    "print(group < 7 or group > 15) # checking if we cannot go hiking"
   ]
  },
  {
   "cell_type": "markdown",
   "metadata": {},
   "source": [
    "This expression would be True then if **at least one** logical value is True.\n",
    "\n",
    "We also can use another logical operator **NOT** to express the statement which is True when we cannot go hiking. Let's take the statement which gives us True when we can go hiking and use logical NOT on it. It will flip the logical value: True to False and vice versa."
   ]
  },
  {
   "cell_type": "code",
   "execution_count": null,
   "metadata": {},
   "outputs": [],
   "source": [
    "group = int(input('How many people did sign up? '))\n",
    "\n",
    "is_hike_possible = group > 6 and group < 16 # checking that we can go hiking\n",
    "\n",
    "print(is_hike_possible)\n",
    "\n",
    "if not is_hike_possible: # flipping the variable contents\n",
    "    print('Cannot go hiking')\n",
    "else:\n",
    "    print('Can go hiking')"
   ]
  },
  {
   "cell_type": "code",
   "execution_count": null,
   "metadata": {},
   "outputs": [],
   "source": [
    "# Now write the same program with \"or\" and \"not\"\n",
    "# For group < 7, group > 15\n",
    "\n",
    "<YOUR CODE>"
   ]
  },
  {
   "cell_type": "markdown",
   "metadata": {},
   "source": [
    "## Usage of several logical operators whithin one expression\n",
    "\n",
    "We can write more complex expression.\n",
    "\n",
    "For example, in the previous program we can skip the step of variable assignment."
   ]
  },
  {
   "cell_type": "code",
   "execution_count": null,
   "metadata": {},
   "outputs": [],
   "source": [
    "group = int(input('How many people did sign up? '))\n",
    "\n",
    "if not group > 6 and group < 16:\n",
    "    print('Cannot go hiking')\n",
    "else:\n",
    "    print('Can go hiking')"
   ]
  },
  {
   "cell_type": "code",
   "execution_count": null,
   "metadata": {},
   "outputs": [],
   "source": [
    "## What is the problem in upper cell???"
   ]
  },
  {
   "cell_type": "code",
   "execution_count": null,
   "metadata": {},
   "outputs": [],
   "source": []
  },
  {
   "cell_type": "code",
   "execution_count": null,
   "metadata": {},
   "outputs": [],
   "source": []
  },
  {
   "cell_type": "code",
   "execution_count": null,
   "metadata": {},
   "outputs": [],
   "source": []
  },
  {
   "cell_type": "code",
   "execution_count": null,
   "metadata": {},
   "outputs": [],
   "source": []
  },
  {
   "cell_type": "code",
   "execution_count": null,
   "metadata": {},
   "outputs": [],
   "source": []
  },
  {
   "cell_type": "code",
   "execution_count": null,
   "metadata": {},
   "outputs": [],
   "source": []
  },
  {
   "cell_type": "code",
   "execution_count": null,
   "metadata": {},
   "outputs": [],
   "source": []
  },
  {
   "cell_type": "code",
   "execution_count": null,
   "metadata": {},
   "outputs": [],
   "source": []
  },
  {
   "cell_type": "code",
   "execution_count": null,
   "metadata": {},
   "outputs": [],
   "source": []
  },
  {
   "cell_type": "code",
   "execution_count": null,
   "metadata": {},
   "outputs": [],
   "source": []
  },
  {
   "cell_type": "markdown",
   "metadata": {},
   "source": [
    "Oops! Something went wrong. The problem is that in line\n",
    "\n",
    "```\n",
    "not group > 6 and group < 16\n",
    "```\n",
    "\n",
    "**not** is executed first and our expression then is evaluated like this:\n",
    "\n",
    "```\n",
    "group <= 6 and group < 16\n",
    "```\n",
    "\n",
    "which is virtually just *group <= 6*. It happens because logical operators have precedence, meaning that some of them are executed first. Like multiplication in relation to addition or subtraction.\n",
    "\n",
    "**not** has the highest precedence in relation to **and** and **or**. But we can fix that problem via parantheses the same way like we do with arithmetic operators."
   ]
  },
  {
   "cell_type": "code",
   "execution_count": null,
   "metadata": {},
   "outputs": [],
   "source": [
    "group = int(input('How many people did sign up? '))\n",
    "\n",
    "if not(group > 6 and group < 16):\n",
    "    print('Cannot go hiking')\n",
    "else:\n",
    "    print('Can go hiking')"
   ]
  },
  {
   "cell_type": "markdown",
   "metadata": {},
   "source": [
    "Now let's check how **and** and **or** behave.\n",
    "\n",
    "Imagine that we want to bake berry pies (either with blueberry or with cherry). Let's start by checking that we have stuffing and some dough.\n",
    "\n",
    "We can solve something like this via nested condition."
   ]
  },
  {
   "cell_type": "code",
   "execution_count": null,
   "metadata": {},
   "outputs": [],
   "source": [
    "cherry = input('Do we have cherry? ')\n",
    "blueberry = input('Do we have blueberry? ')\n",
    "\n",
    "\n",
    "if cherry == 'yes' or blueberry == 'yes': # checking that we have berries\n",
    "    \n",
    "    dough = input('Do we have any dough? ')\n",
    "    \n",
    "    if dough == 'yes': # checking that we have pastry\n",
    "        print('Baking pie')\n",
    "    else:\n",
    "        print('Not enough ingredients')\n",
    "        \n",
    "else:\n",
    "    print('Not enough ingredients')"
   ]
  },
  {
   "cell_type": "markdown",
   "metadata": {},
   "source": [
    "Looks complicated. Also we wrote two similar sets of instructions in `else` statements.\n",
    "\n",
    "Let's write up several logical operators within one conditional statement."
   ]
  },
  {
   "cell_type": "code",
   "execution_count": null,
   "metadata": {},
   "outputs": [],
   "source": [
    "cherry = input('Do we have cherry? ')\n",
    "blueberry = input('Do we have blueberry? ')\n",
    "dough = input('Do we have any dough? ')\n",
    "\n",
    "if cherry == 'yes' or blueberry == 'yes' and dough == 'yes':\n",
    "    print('Baking pie')\n",
    "else:\n",
    "    print('Not enough ingredients')"
   ]
  },
  {
   "cell_type": "markdown",
   "metadata": {},
   "source": [
    "A mistake! We have cherry and do not have any dough, but we still are 'baking pie'.\n",
    "\n",
    "\n",
    "It happend because **and** has higher precedence in relation to **or**.\n",
    "\n",
    "\n",
    "In our example **or** was executed after **and**, we virtually were evaluatig `True (we have cherry) or False (we have neither blueberry nor dough) `\n",
    "\n",
    "Let's put **or** expression within the parenthesis."
   ]
  },
  {
   "cell_type": "code",
   "execution_count": null,
   "metadata": {},
   "outputs": [],
   "source": [
    "cherry = input('Do we have cherry? ')\n",
    "blueberry = input('Do we have blueberry? ')\n",
    "dough = input('Do we have any dough? ')\n",
    "\n",
    "if (cherry == 'yes' or blueberry == 'yes') and dough == 'yes':\n",
    "    print('Baking pie')\n",
    "else:\n",
    "    print('Not enough ingredients')"
   ]
  },
  {
   "cell_type": "markdown",
   "metadata": {},
   "source": [
    "Now it is correct!"
   ]
  },
  {
   "cell_type": "code",
   "execution_count": null,
   "metadata": {},
   "outputs": [],
   "source": []
  },
  {
   "cell_type": "code",
   "execution_count": null,
   "metadata": {},
   "outputs": [],
   "source": []
  },
  {
   "cell_type": "markdown",
   "metadata": {},
   "source": [
    "# 3. Loop with a condition in Python"
   ]
  },
  {
   "cell_type": "markdown",
   "metadata": {},
   "source": [
    "Let's see how loop with a condition can be programmed via Python."
   ]
  },
  {
   "cell_type": "markdown",
   "metadata": {},
   "source": [
    "`While` loop in Python we can write like this:\n",
    "```\n",
    "while <condition>:\n",
    "   <instructions>\n",
    "```\n",
    "\n",
    "So `while` our condition is True, instructions are executed. Like with `if` statements we need a colon and an indent before the instructions which we want to repeat."
   ]
  },
  {
   "cell_type": "markdown",
   "metadata": {},
   "source": [
    "# Example: a hungry cat\n",
    "_While the cat is meowing, it is hungry_\n",
    "\n",
    "So basically our algorithm is the following.\n",
    "\n",
    "- While the cat is meowing,\n",
    "  - giving the food.\n",
    "\n",
    "Let's code it! Please note that we need to know if the cat meows before the loop starts. Let's create a variable, where we will store `yes` if the cat is meowing right now and `no` otherwise."
   ]
  },
  {
   "cell_type": "code",
   "execution_count": null,
   "metadata": {},
   "outputs": [],
   "source": [
    "meow = input('Is the cat meowing? yes/no ')     # let's find out if the cat meowing\n",
    "\n",
    "while meow == 'yes':      # while the cat is meowing\n",
    "    print('Giving food') # feeding the cat\n",
    "    meow = input('Is the cat meowing? yes/no ') # checking if the cat is still meowing"
   ]
  },
  {
   "cell_type": "markdown",
   "metadata": {},
   "source": [
    "We may call such a variable as `meow` a **flag variable**. Basically it signals a `while`-statement when to stop to repeat instructions."
   ]
  },
  {
   "cell_type": "markdown",
   "metadata": {},
   "source": [
    "Let's print the logical expression evaluation result in order to better understand the inner workings of the while loop."
   ]
  },
  {
   "cell_type": "code",
   "execution_count": null,
   "metadata": {},
   "outputs": [],
   "source": [
    "meow = input('Is the cat meowing? yes/no ')\n",
    "\n",
    "print(meow == 'yes') # how does python see the logical variable before the loop\n",
    "\n",
    "while meow == 'yes':\n",
    "    print('Giving food')\n",
    "    meow = input('Is the cat meowing? yes/no ')\n",
    "    print(meow == 'yes') # how does python see it inside the loop"
   ]
  },
  {
   "cell_type": "markdown",
   "metadata": {},
   "source": [
    "When `meow` was switched from True to False, the loop interations stopped."
   ]
  },
  {
   "cell_type": "markdown",
   "metadata": {},
   "source": [
    "## While with if-statements. Eternal loop"
   ]
  },
  {
   "cell_type": "markdown",
   "metadata": {},
   "source": [
    "### Example: a hungry cat on a diet\n",
    "_While the cat is meowing, it is hungry. But it is on a diet, so we feed him 3 times a day tops_"
   ]
  },
  {
   "cell_type": "markdown",
   "metadata": {},
   "source": [
    "Let's change our algorithm to incorporate a new condition. Let's store the number of feedings into a variable `n`.\n",
    "\n",
    "1. Today cat has not eaten yet, we will set `n` to zero.\n",
    "1. While cat is meowing AND it has eaten less then 3 times:\n",
    "\t- feeding the cat,\n",
    "\t- marking that we have fed the cat by increasing `n` by one."
   ]
  },
  {
   "cell_type": "code",
   "execution_count": null,
   "metadata": {},
   "outputs": [],
   "source": [
    "n = 0 # setting the initial number of the times the cat was fed today\n",
    "\n",
    "meow = input('Is the cat meowing? yes/no ')\n",
    "\n",
    "while meow == 'yes' and n < 3: # checking an updated condition\n",
    "    print('Giving food')\n",
    "    n += 1 # this notation is the same as n = n + 1\n",
    "    meow = input('Is the cat meowing? yes/no ')\n",
    "\n",
    "\n",
    "print(f'We have fed the cat {n} times today.')"
   ]
  },
  {
   "cell_type": "markdown",
   "metadata": {},
   "source": [
    "Let's again print a logical expression evaluation result to see how it works."
   ]
  },
  {
   "cell_type": "code",
   "execution_count": null,
   "metadata": {},
   "outputs": [],
   "source": [
    "n = 0\n",
    "meow = input('Is the cat meowing? yes/no ')\n",
    "print(meow == 'yes' and n < 3) # printing logical variable before entering a while-statement\n",
    "\n",
    "while meow == 'yes' and n < 3:\n",
    "    print('Giving food')\n",
    "    n += 1\n",
    "    meow = input('Is the cat meowing? yes/no ')\n",
    "    print(meow == 'yes' and n < 3) # printing logical variable inside the while-statement\n",
    "\n",
    "\n",
    "print(f'We have fed the cat {n} times today.')"
   ]
  },
  {
   "cell_type": "markdown",
   "metadata": {},
   "source": [
    "So if we input 'no' for meowing, the loop would break. But what will happen if cat continues to meow? Let's also print the number of times the cat was fed to follow how it changes."
   ]
  },
  {
   "cell_type": "code",
   "execution_count": null,
   "metadata": {},
   "outputs": [],
   "source": [
    "n = 0\n",
    "meow = input('Is the cat meowing? yes/no ')\n",
    "print(meow == 'yes' and n < 3) # printing logical variable before entering a while-statement\n",
    "\n",
    "while meow == 'yes' and n < 3:\n",
    "    print('Giving food')\n",
    "    n += 1\n",
    "    print(n) # printing the number of times the cat has eaten today\n",
    "    meow = input('Is the cat meowing? yes/no ')\n",
    "    print(meow == 'yes' and n < 3) # printing logical variable inside the while-statement\n",
    "\n",
    "\n",
    "print(f'We have fed the cat {n} times today.')"
   ]
  },
  {
   "cell_type": "markdown",
   "metadata": {},
   "source": [
    "Cat will not be fed more than 3 times. Even if it is still meowing, we have fed it maximum number of times. And the second part of a condition (`n < 3`) became `False`. No more food today!"
   ]
  },
  {
   "cell_type": "markdown",
   "metadata": {},
   "source": [
    "## Important: an eternal loop"
   ]
  },
  {
   "cell_type": "markdown",
   "metadata": {},
   "source": [
    "What will happen if we were to forget to update `n` variable?\n",
    "\n",
    "Let's imagine that cat is always meowing but we do not count how many times we have fed it. Such situation will result in an eternal loop — it will never stop! It is a mistake, please avoid it :)\n",
    "\n",
    "**To stop a loop, push a stop button (white square within the black circle) on the left of the cell when it is running (google collab)**."
   ]
  },
  {
   "cell_type": "code",
   "execution_count": null,
   "metadata": {},
   "outputs": [],
   "source": [
    "# To execute eternal loop, just uncomment it\n",
    "'''\n",
    "n = 0\n",
    "meow = 'yes' # cat always meows\n",
    "while meow == 'yes' and n < 3:  # condition expects that we are updating `n`\n",
    "    print('Giving food')\n",
    "    print(meow == 'yes' and n < 3)\n",
    "\n",
    "print(f'We have fed the cat {n} times today.')\n",
    "'''"
   ]
  },
  {
   "cell_type": "markdown",
   "metadata": {},
   "source": [
    "It happened because the condition was always True and the loop were to never stop.\n",
    "\n",
    "However, sometimes it is useful to write an eternal loop but first we need to know how to stop via Python, not by force quit by pushing a button. We will come back to that idea a bit later."
   ]
  },
  {
   "cell_type": "markdown",
   "metadata": {},
   "source": [
    "## Nested if-statement within a while-loop"
   ]
  },
  {
   "cell_type": "markdown",
   "metadata": {},
   "source": [
    "We can use an if-statement whithin a `while` loop. Let's imagine that a barista in a coffehouse wants to gather statistics which beverage is more popular. Let's now update two counters based on the input that we are reading inside the loop."
   ]
  },
  {
   "cell_type": "code",
   "execution_count": null,
   "metadata": {},
   "outputs": [],
   "source": [
    "order = input('Is there an order? yes/no ')\n",
    "\n",
    "coffee_cnt = 0\n",
    "tea_cnt = 0\n",
    "\n",
    "while order == 'yes':\n",
    "    drink = input('What was ordered? coffee/tea ')\n",
    "    if drink == 'coffee':\n",
    "        coffee_cnt += 1\n",
    "    else:\n",
    "        tea_cnt += 1\n",
    "    order = input('Is there an order? yes/no ')\n",
    "\n",
    "print('The coffehouse is closed for the day.')\n",
    "print('Tea ordered:', tea_cnt)\n",
    "print('Coffee ordered:', coffee_cnt)"
   ]
  },
  {
   "cell_type": "markdown",
   "metadata": {},
   "source": [
    "And let's try more examples. Now imagine that the same barista wants to find out what was the most expensive order today. We will read orders' amounts, but will  update our `most_exp` variable only if the new order is more expensive than those that were placed before."
   ]
  },
  {
   "cell_type": "code",
   "execution_count": null,
   "metadata": {},
   "outputs": [],
   "source": [
    "order = input('Is there an order? yes/no ')\n",
    "\n",
    "most_exp = 0 # we have no orders yet, so our most expensive order is 0 rub.\n",
    "\n",
    "while order == 'yes':\n",
    "    amount = int(input('What was the amount paid? '))\n",
    "    if amount > most_exp: # if the current order is more expensive than our previous most expensive order\n",
    "        most_exp = amount # update the value stored as the most expensive order\n",
    "    order = input('Is there an order? yes/no ')\n",
    "\n",
    "print('The coffehouse is closed for the day.')\n",
    "print(f'The most expensive order was {most_exp} rub')"
   ]
  },
  {
   "cell_type": "markdown",
   "metadata": {},
   "source": [
    "You can update the code above by printing the `most_exp` variable contents on each iteration to see when it is updated and when is not."
   ]
  },
  {
   "cell_type": "markdown",
   "metadata": {},
   "source": [
    "## Breaking the loop"
   ]
  },
  {
   "cell_type": "markdown",
   "metadata": {},
   "source": [
    "Sometimes it is easier to not to come up with a complex condition for a while-loop but rather to write an eternal loop and stop it via the speacial word `break`. But note that it is not a good idea to try something like that with more comples syntax that involves a lot of nested consturctions where you can easily lose a track of what is going on. But it is completely ok to use it with simple loops.\n",
    "\n",
    "Let's go back to the example with a hungry cat. That it is how we have written it initially."
   ]
  },
  {
   "cell_type": "code",
   "execution_count": null,
   "metadata": {},
   "outputs": [],
   "source": [
    "meow = input('Is the cat meowing? yes/no ')\n",
    "while meow == 'yes':\n",
    "    print('Giving food')\n",
    "    meow = input('Is the cat meowing? yes/no ')"
   ]
  },
  {
   "cell_type": "markdown",
   "metadata": {},
   "source": [
    "That is how we can re-write it using `break`"
   ]
  },
  {
   "cell_type": "code",
   "execution_count": null,
   "metadata": {},
   "outputs": [],
   "source": [
    "# such syntax sometimes is more convenient when you do not want to read\n",
    "# something before the loop\n",
    "while True: # initiating an eternal loop\n",
    "    meow = input('Is the cat meowing? yes/no ') # reading the data\n",
    "    if meow == 'no': # if cat is not meowing\n",
    "        break # stop the loop"
   ]
  },
  {
   "cell_type": "markdown",
   "metadata": {},
   "source": [
    "So basically our loop would run eternally until the nested `if` condition becomes True and thus triggers `break`."
   ]
  },
  {
   "cell_type": "code",
   "execution_count": null,
   "metadata": {},
   "outputs": [],
   "source": []
  },
  {
   "cell_type": "code",
   "execution_count": null,
   "metadata": {},
   "outputs": [],
   "source": []
  },
  {
   "cell_type": "markdown",
   "metadata": {},
   "source": [
    "# Intro to sequences\n"
   ]
  },
  {
   "cell_type": "markdown",
   "metadata": {},
   "source": [
    "It is rather convenient to store similar things together. In Python we can store some data within one structure. Some of those structures are called **sequences**."
   ]
  },
  {
   "cell_type": "markdown",
   "metadata": {
    "id": "jWhNIlbzFpA8"
   },
   "source": [
    "We already know one type of a sequence-like structure — `str` — strings.\n",
    "\n",
    "Python sees a string as a sequence of symbols, each has its own index number.\n",
    "\n",
    "But what data type can we use if we want to store together different data types?"
   ]
  },
  {
   "cell_type": "markdown",
   "metadata": {
    "id": "9h_92vUmFpA9"
   },
   "source": [
    "## 4. List\n",
    "When we go to get some groceries, we may make a shopping list.\n",
    "\n",
    "E.g., today we need:\n",
    "bread, milk, ice cream, cheese\n",
    "\n",
    "We can store all those strings together in Python like this `['bread', 'milk', 'ice cream', 'cheese']`. `[]` here denotes a container that stores each string as a different object. Such a container is called **list**.\n",
    "\n",
    "Today we will work mainly with that shopping list example that contains only strings. But such a data type may contain anything. Let's check!"
   ]
  },
  {
   "cell_type": "code",
   "execution_count": null,
   "metadata": {
    "colab": {
     "base_uri": "https://localhost:8080/"
    },
    "id": "-_hBk1brFpA-",
    "outputId": "8f6ecf53-6bb7-41bd-ecaf-908630bd31f3"
   },
   "outputs": [],
   "source": [
    "food_info = ['Chocolate', 1.90, 2, True]  # title, price, quantity, 'best before'\n",
    "print(type(food_info)) # checking data type"
   ]
  },
  {
   "cell_type": "markdown",
   "metadata": {
    "id": "qKlSuymef5IS"
   },
   "source": [
    "So, to create a `list` and to store it into the variable we should\n",
    "1. Create a variable\n",
    "2. Assign to it our objects listed within square brackets."
   ]
  },
  {
   "cell_type": "markdown",
   "metadata": {
    "id": "oaK5Y5JOFpBO"
   },
   "source": [
    "We may also create empty `lists`. Later we will learn how to add new elements to our lists. This is a popular solution for some problems. E.g. we might want to populate an empty list with items that correspond to some conditions."
   ]
  },
  {
   "cell_type": "code",
   "execution_count": null,
   "metadata": {
    "colab": {
     "base_uri": "https://localhost:8080/"
    },
    "id": "-HzaePp_FpBP",
    "outputId": "bf48dec7-674f-4fad-a0b0-fcd9bc3fa6be"
   },
   "outputs": [],
   "source": [
    "# creating an empty list with []\n",
    "shopping_list = []\n",
    "print(shopping_list)\n",
    "\n",
    "# creating an empty list with list() function without arguments\n",
    "shopping_list_2 = list()\n",
    "print(shopping_list_2)"
   ]
  },
  {
   "cell_type": "markdown",
   "metadata": {
    "id": "bMVkcIjtHXoF"
   },
   "source": [
    "### How to input a list?\n",
    "\n",
    "We cannot read a list from the input, but we can read the string and then transform it to a list.\n",
    "\n",
    "We can use `.split()` for the latter. This `.` point in front of `.split()` gives us an idea that `.split()` is not your usual function. E.g. we can use `print()` function with any type of data, it will print anything! But there are also some functions which scope is limited. `.split()` is one of those. We should call it only attached to a string, e.g. `'cat likes milk'.split()`. Such functions are called *methods*. We will talk more about them next time."
   ]
  },
  {
   "cell_type": "code",
   "execution_count": null,
   "metadata": {},
   "outputs": [],
   "source": [
    "s = 'a b c d e f g'     # string with letters\n",
    "alphabet = s.split()    # converting a string to a list\n",
    "print(f'String: {s}')\n",
    "print(f'List: {alphabet}')"
   ]
  },
  {
   "cell_type": "markdown",
   "metadata": {
    "id": "7O3oOvV_c8yy"
   },
   "source": [
    "So it seems that `.split()` splits string via spaces. Let's check it!"
   ]
  },
  {
   "cell_type": "code",
   "execution_count": null,
   "metadata": {},
   "outputs": [],
   "source": [
    "s = 'ab cde f g' # putting random spaces\n",
    "print(s.split()) # still works"
   ]
  },
  {
   "cell_type": "markdown",
   "metadata": {},
   "source": [
    "Actually, `.split()` by default splits the string not only by spaces, but by whitespace characters. Such as `\\n` (new line), `\\t` (tabulation), etc."
   ]
  },
  {
   "cell_type": "code",
   "execution_count": null,
   "metadata": {},
   "outputs": [],
   "source": [
    "s = 'milk\\nchocolate\\tbread tomatoes'\n",
    "\n",
    "print(s.split()) # python splits it via all whitespaces"
   ]
  },
  {
   "cell_type": "markdown",
   "metadata": {},
   "source": [
    "Let's try with `input()` now"
   ]
  },
  {
   "cell_type": "code",
   "execution_count": null,
   "metadata": {},
   "outputs": [],
   "source": [
    "s = input('Input the shopping list: ') # type in things separated by spaces\n",
    "shopping_list = s.split()\n",
    "print(f'Shopping list: {shopping_list}')"
   ]
  },
  {
   "cell_type": "markdown",
   "metadata": {},
   "source": [
    "`.split()` method can split a string into a list by other separators as well. Let's input our shopping list separated by commas and call `.split()` with an argument `','`.  Thus Python will know that we want to use a different symbol rather than whitespaces as separator."
   ]
  },
  {
   "cell_type": "code",
   "execution_count": null,
   "metadata": {},
   "outputs": [],
   "source": [
    "s = input('Input the shopping list: ') # type in things separated by commas now\n",
    "shopping_list = s.split(',')\n",
    "print(f'Shopping list: {shopping_list}')"
   ]
  },
  {
   "cell_type": "markdown",
   "metadata": {},
   "source": [
    "We can actually get rid of `s` variable and use `.split()` directly with `input()`:"
   ]
  },
  {
   "cell_type": "code",
   "execution_count": null,
   "metadata": {},
   "outputs": [],
   "source": [
    "shopping_list = input('Input the shopping list: ').split(',')\n",
    "print(f'Shopping list: {shopping_list}')"
   ]
  },
  {
   "cell_type": "markdown",
   "metadata": {},
   "source": [
    "### How to work with the elements of the sequence?\n",
    "\n",
    "Ok, let's talk how to use indices with lists."
   ]
  },
  {
   "cell_type": "code",
   "execution_count": null,
   "metadata": {},
   "outputs": [],
   "source": [
    "# create a list for an example\n",
    "shopping_list = ['bread', 'milk', 'ice cream', 'cheese']\n",
    "print(shopping_list)"
   ]
  },
  {
   "cell_type": "markdown",
   "metadata": {},
   "source": [
    "If we look at the shopping list we can easily imagine its structure\n",
    "- bread;\n",
    "- milk;\n",
    "- ice cream;\n",
    "- cheese.\n",
    "\n",
    "We also can easily imagine numbers next to the items. The bread goes first, then milk, etc."
   ]
  },
  {
   "cell_type": "markdown",
   "metadata": {
    "id": "95EvJ1dUFpBH"
   },
   "source": [
    "\n",
    "Python also sees it numbered:\n",
    "\n",
    "    [0] bread\n",
    "    [1] milk\n",
    "    [2] ice cream\n",
    "    [3] cheese\n"
   ]
  },
  {
   "cell_type": "code",
   "execution_count": null,
   "metadata": {},
   "outputs": [],
   "source": [
    "# a = [\"a\", \"b\", \"c\", \"d\", \"f\"]\n",
    "\n",
    "# Positive indexing: 0    1   2   3   4\n",
    "# Negative indexing: -5  -4  -3  -2  -1"
   ]
  },
  {
   "cell_type": "markdown",
   "metadata": {},
   "source": [
    "### List indexing\n",
    "\n",
    "Each element has its own index. It's actually the same like with strings."
   ]
  },
  {
   "cell_type": "code",
   "execution_count": null,
   "metadata": {},
   "outputs": [],
   "source": [
    "shopping_list = ['bread', 'milk', 'ice cream', 'cheese']\n",
    "s = 'Hello'\n",
    "print(shopping_list[3])     # print 3rd element of our list\n",
    "print(s[3])                 # print 3rd element of our string"
   ]
  },
  {
   "cell_type": "markdown",
   "metadata": {},
   "source": [
    "Let's make it more interactive asking to input an index:"
   ]
  },
  {
   "cell_type": "code",
   "execution_count": null,
   "metadata": {},
   "outputs": [],
   "source": [
    "shopping_list = ['bread', 'milk', 'ice cream', 'cheese']\n",
    "\n",
    "i = int(input('Input an index: '))\n",
    "print(shopping_list[i]) # printing an element with index i"
   ]
  },
  {
   "cell_type": "markdown",
   "metadata": {
    "id": "QmpVTy1mFpBL"
   },
   "source": [
    "Remember that Python counts from zero. It is not really convinient for us — humans — to count like this, so let's correct our input for a computer by subtracting one from the index we've inputted. Now Python really gives us the first element if we ask for it."
   ]
  },
  {
   "cell_type": "code",
   "execution_count": null,
   "metadata": {},
   "outputs": [],
   "source": [
    "shopping_list = ['bread', 'milk', 'ice cream', 'cheese']\n",
    "\n",
    "i = int(input('Input an index: ')) - 1 # adjusting a human-index to a computer-index\n",
    "\n",
    "print(shopping_list[i]) # printing an element with index i"
   ]
  },
  {
   "cell_type": "markdown",
   "metadata": {},
   "source": [
    "And also like with the strings we can check the number of elements withing a list via `len()` function."
   ]
  },
  {
   "cell_type": "code",
   "execution_count": null,
   "metadata": {},
   "outputs": [],
   "source": [
    "print(len('Hello')) # returns number of symbols withing a string\n",
    "print(len(['bread', 'milk'])) # returns number of objects withing a list"
   ]
  },
  {
   "cell_type": "code",
   "execution_count": null,
   "metadata": {},
   "outputs": [],
   "source": [
    "list2 = [10, 30, 60]  # List of integers numbers\n",
    "\n",
    "list3 = [10.77, 30.66, 60.89]        # List of float numbers\n",
    "\n",
    "list4 = ['one', 'two' , \"three\"]    # List of strings\n",
    "\n",
    "list5 = ['Asif', 25 , [50, 100], [150, 90], [10, 5, [3, 5]]]    # Nested Lists\n",
    "\n",
    "list6 = [100, 'Asif', 17.765, True]      # List of mixed data types\n",
    "\n",
    "list7 = ['Asif', 25 , [50, 100], [150.1, 90.2] , {'John' , 'David'}]\n",
    "\n",
    "len(list6) #Length of list"
   ]
  },
  {
   "cell_type": "code",
   "execution_count": null,
   "metadata": {},
   "outputs": [],
   "source": [
    "print(list(list4))\n",
    "\n",
    "list4[0][0] # Nested indexing"
   ]
  },
  {
   "cell_type": "markdown",
   "metadata": {},
   "source": [
    "### Add , Remove & Change Items"
   ]
  },
  {
   "cell_type": "code",
   "execution_count": null,
   "metadata": {},
   "outputs": [],
   "source": [
    "mylist = ['one' , 'two' , 'three' , 'four' , 'five' , 'six' , 'seven' , 'eight']\n",
    "\n",
    "mylist.append('nine') # Add an item to the end of the list\n",
    "mylist"
   ]
  },
  {
   "cell_type": "code",
   "execution_count": null,
   "metadata": {},
   "outputs": [],
   "source": [
    "mylist.insert(9,'ten') # Add item at index location 9\n",
    "mylist"
   ]
  },
  {
   "cell_type": "code",
   "execution_count": null,
   "metadata": {},
   "outputs": [],
   "source": [
    "mylist.insert(1,'ONE') # Add item at index location 1\n",
    "mylist"
   ]
  },
  {
   "cell_type": "code",
   "execution_count": null,
   "metadata": {},
   "outputs": [],
   "source": [
    "mylist.remove('ONE') # Remove item \"ONE\"\n",
    "mylist"
   ]
  },
  {
   "cell_type": "code",
   "execution_count": null,
   "metadata": {},
   "outputs": [],
   "source": [
    "mylist.pop() # Remove last item of the list\n",
    "mylist"
   ]
  },
  {
   "cell_type": "code",
   "execution_count": null,
   "metadata": {},
   "outputs": [],
   "source": [
    "mylist.pop(8) # Remove item at index location 8\n",
    "mylist"
   ]
  },
  {
   "cell_type": "code",
   "execution_count": null,
   "metadata": {},
   "outputs": [],
   "source": [
    "del mylist[7] # Remove item at index location 7\n",
    "mylist"
   ]
  },
  {
   "cell_type": "code",
   "execution_count": null,
   "metadata": {},
   "outputs": [],
   "source": [
    "# Change value of the list\n",
    "mylist[0] = 1\n",
    "mylist[1] = 2\n",
    "mylist[2] = 3\n",
    "\n",
    "mylist"
   ]
  },
  {
   "cell_type": "code",
   "execution_count": null,
   "metadata": {},
   "outputs": [],
   "source": [
    "mylist.clear()    # Empty List / Delete all items in the list\n",
    "mylist"
   ]
  },
  {
   "cell_type": "code",
   "execution_count": null,
   "metadata": {},
   "outputs": [],
   "source": [
    "del mylist # Delete the whole list\n",
    "mylist"
   ]
  },
  {
   "cell_type": "markdown",
   "metadata": {},
   "source": [
    "### Copy List\n",
    "\n",
    "Be carefull during copying then manipulating the list. **Why??**!!"
   ]
  },
  {
   "cell_type": "code",
   "execution_count": null,
   "metadata": {},
   "outputs": [],
   "source": [
    "mylist = ['one', 'two', 'three', 'four', 'five', 'six', 'seven', 'eight', 'nine', 'ten']"
   ]
  },
  {
   "cell_type": "code",
   "execution_count": null,
   "metadata": {},
   "outputs": [],
   "source": [
    "mylist1 = mylist # Create a new reference \"mylist1\""
   ]
  },
  {
   "cell_type": "code",
   "execution_count": null,
   "metadata": {},
   "outputs": [],
   "source": [
    "id(mylist) , id(mylist1) # The address of both mylist & mylist1 will be the same"
   ]
  },
  {
   "cell_type": "code",
   "execution_count": null,
   "metadata": {},
   "outputs": [],
   "source": [
    "mylist2 = mylist.copy() # Create a copy of the list"
   ]
  },
  {
   "cell_type": "code",
   "execution_count": null,
   "metadata": {},
   "outputs": [],
   "source": [
    "id(mylist2) # The address of mylist2 will be different from mylist"
   ]
  },
  {
   "cell_type": "code",
   "execution_count": null,
   "metadata": {},
   "outputs": [],
   "source": [
    "mylist[0] = 1"
   ]
  },
  {
   "cell_type": "code",
   "execution_count": null,
   "metadata": {},
   "outputs": [],
   "source": [
    "mylist"
   ]
  },
  {
   "cell_type": "code",
   "execution_count": null,
   "metadata": {},
   "outputs": [],
   "source": [
    "mylist1 # mylist1 will be also impacted as it is pointing to the same list"
   ]
  },
  {
   "cell_type": "code",
   "execution_count": null,
   "metadata": {},
   "outputs": [],
   "source": [
    "mylist2 # Copy of list won't be impacted due to changes made on the original"
   ]
  },
  {
   "cell_type": "code",
   "execution_count": null,
   "metadata": {},
   "outputs": [],
   "source": []
  },
  {
   "cell_type": "code",
   "execution_count": null,
   "metadata": {},
   "outputs": [],
   "source": []
  },
  {
   "cell_type": "code",
   "execution_count": null,
   "metadata": {},
   "outputs": [],
   "source": []
  },
  {
   "cell_type": "code",
   "execution_count": null,
   "metadata": {},
   "outputs": [],
   "source": []
  },
  {
   "cell_type": "markdown",
   "metadata": {},
   "source": [
    "# Exercise 1"
   ]
  },
  {
   "cell_type": "markdown",
   "metadata": {},
   "source": [
    "Write a Python program to test whether a number is within 100 of 1000 or 2000."
   ]
  },
  {
   "cell_type": "code",
   "execution_count": null,
   "metadata": {},
   "outputs": [],
   "source": [
    "<YOUR CODE>"
   ]
  },
  {
   "cell_type": "code",
   "execution_count": null,
   "metadata": {},
   "outputs": [],
   "source": []
  },
  {
   "cell_type": "code",
   "execution_count": null,
   "metadata": {},
   "outputs": [],
   "source": []
  },
  {
   "cell_type": "code",
   "execution_count": null,
   "metadata": {},
   "outputs": [],
   "source": []
  },
  {
   "cell_type": "markdown",
   "metadata": {},
   "source": [
    "# Exercise 2:\n",
    "\n",
    "Write a Python program to calculate the difference between a given number and 17. If the number is greater than 17, return twice the absolute difference."
   ]
  },
  {
   "cell_type": "code",
   "execution_count": null,
   "metadata": {},
   "outputs": [],
   "source": [
    "<YOUR CODE>"
   ]
  },
  {
   "cell_type": "code",
   "execution_count": null,
   "metadata": {},
   "outputs": [],
   "source": []
  },
  {
   "cell_type": "code",
   "execution_count": null,
   "metadata": {},
   "outputs": [],
   "source": []
  },
  {
   "cell_type": "code",
   "execution_count": null,
   "metadata": {},
   "outputs": [],
   "source": []
  },
  {
   "cell_type": "markdown",
   "metadata": {},
   "source": [
    "# Exercise 3:\n",
    "\n",
    "Write a Python program to calculate the sum of three given numbers. If the values are equal, return three times their sum."
   ]
  },
  {
   "cell_type": "code",
   "execution_count": null,
   "metadata": {},
   "outputs": [],
   "source": [
    "<YOUR CODE>"
   ]
  },
  {
   "cell_type": "code",
   "execution_count": null,
   "metadata": {},
   "outputs": [],
   "source": []
  },
  {
   "cell_type": "code",
   "execution_count": null,
   "metadata": {},
   "outputs": [],
   "source": []
  },
  {
   "cell_type": "code",
   "execution_count": null,
   "metadata": {},
   "outputs": [],
   "source": []
  },
  {
   "cell_type": "markdown",
   "metadata": {},
   "source": [
    "# Exercise 4:\n",
    "\n",
    "Write a Python program which checks a text, if the length of the text is greater or equal to two, and the first two letters are \"Is\" just return the text. If not, add \"Is\" infront of the string and return the result."
   ]
  },
  {
   "cell_type": "code",
   "execution_count": null,
   "metadata": {},
   "outputs": [],
   "source": [
    "<YOUR CODE>"
   ]
  },
  {
   "cell_type": "code",
   "execution_count": null,
   "metadata": {},
   "outputs": [],
   "source": []
  },
  {
   "cell_type": "code",
   "execution_count": null,
   "metadata": {},
   "outputs": [],
   "source": []
  },
  {
   "cell_type": "code",
   "execution_count": null,
   "metadata": {},
   "outputs": [],
   "source": []
  },
  {
   "cell_type": "markdown",
   "metadata": {},
   "source": [
    "# Exercise 5:\n",
    "\n",
    "Write a Python program that returns a string that is n (non-negative integer) copies of a given str"
   ]
  },
  {
   "cell_type": "code",
   "execution_count": null,
   "metadata": {},
   "outputs": [],
   "source": [
    "<YOUR CODE>"
   ]
  },
  {
   "cell_type": "code",
   "execution_count": null,
   "metadata": {},
   "outputs": [],
   "source": []
  },
  {
   "cell_type": "code",
   "execution_count": null,
   "metadata": {},
   "outputs": [],
   "source": []
  },
  {
   "cell_type": "code",
   "execution_count": null,
   "metadata": {},
   "outputs": [],
   "source": []
  },
  {
   "cell_type": "markdown",
   "metadata": {},
   "source": [
    "# Exercise 6:\n",
    "\n",
    "Write a Python program that determines whether a given number (accepted from the user) is even or odd, and prints an appropriate message to the user."
   ]
  },
  {
   "cell_type": "code",
   "execution_count": null,
   "metadata": {},
   "outputs": [],
   "source": [
    "<YOUR CODE>"
   ]
  },
  {
   "cell_type": "code",
   "execution_count": null,
   "metadata": {},
   "outputs": [],
   "source": []
  },
  {
   "cell_type": "code",
   "execution_count": null,
   "metadata": {},
   "outputs": [],
   "source": []
  },
  {
   "cell_type": "code",
   "execution_count": null,
   "metadata": {},
   "outputs": [],
   "source": []
  },
  {
   "cell_type": "markdown",
   "metadata": {},
   "source": [
    "# Exercise 7:\n",
    "\n",
    "Write a Python program to count the number 5 in a given list."
   ]
  },
  {
   "cell_type": "code",
   "execution_count": null,
   "metadata": {},
   "outputs": [],
   "source": [
    "<YOUR CODE>"
   ]
  },
  {
   "cell_type": "code",
   "execution_count": null,
   "metadata": {},
   "outputs": [],
   "source": []
  },
  {
   "cell_type": "code",
   "execution_count": null,
   "metadata": {},
   "outputs": [],
   "source": []
  },
  {
   "cell_type": "code",
   "execution_count": null,
   "metadata": {},
   "outputs": [],
   "source": []
  },
  {
   "cell_type": "markdown",
   "metadata": {},
   "source": [
    "# Exercise 8:\n",
    "\n",
    "Write a Python program to find the median of three values."
   ]
  },
  {
   "cell_type": "code",
   "execution_count": null,
   "metadata": {},
   "outputs": [],
   "source": [
    "<YOUR CODE>"
   ]
  },
  {
   "cell_type": "code",
   "execution_count": null,
   "metadata": {},
   "outputs": [],
   "source": []
  },
  {
   "cell_type": "code",
   "execution_count": null,
   "metadata": {},
   "outputs": [],
   "source": []
  },
  {
   "cell_type": "code",
   "execution_count": null,
   "metadata": {},
   "outputs": [],
   "source": []
  },
  {
   "cell_type": "markdown",
   "metadata": {},
   "source": [
    "# Exercise 9:\n",
    "\n",
    "Write a Python program to calculate the sum and average of n integer numbers (input from the user). Input 0 to finish."
   ]
  },
  {
   "cell_type": "code",
   "execution_count": null,
   "metadata": {},
   "outputs": [],
   "source": [
    "<YOUR CODE>"
   ]
  },
  {
   "cell_type": "code",
   "execution_count": null,
   "metadata": {},
   "outputs": [],
   "source": []
  },
  {
   "cell_type": "code",
   "execution_count": null,
   "metadata": {},
   "outputs": [],
   "source": []
  },
  {
   "cell_type": "code",
   "execution_count": null,
   "metadata": {},
   "outputs": [],
   "source": []
  },
  {
   "cell_type": "markdown",
   "metadata": {},
   "source": [
    "# Exercise 10:\n",
    "\n",
    "Write a Python program to get the largest number from a list."
   ]
  },
  {
   "cell_type": "code",
   "execution_count": null,
   "metadata": {},
   "outputs": [],
   "source": [
    "<YOUR CODE>"
   ]
  },
  {
   "cell_type": "code",
   "execution_count": null,
   "metadata": {},
   "outputs": [],
   "source": []
  },
  {
   "cell_type": "code",
   "execution_count": null,
   "metadata": {},
   "outputs": [],
   "source": []
  },
  {
   "cell_type": "code",
   "execution_count": null,
   "metadata": {},
   "outputs": [],
   "source": []
  },
  {
   "cell_type": "markdown",
   "metadata": {},
   "source": [
    "# Exercise 11:\n",
    "\n",
    "Write a Python program to get the smallest number from a list."
   ]
  },
  {
   "cell_type": "code",
   "execution_count": null,
   "metadata": {},
   "outputs": [],
   "source": [
    "<YOUR CODE>"
   ]
  },
  {
   "cell_type": "code",
   "execution_count": null,
   "metadata": {},
   "outputs": [],
   "source": []
  },
  {
   "cell_type": "code",
   "execution_count": null,
   "metadata": {},
   "outputs": [],
   "source": []
  },
  {
   "cell_type": "code",
   "execution_count": null,
   "metadata": {},
   "outputs": [],
   "source": []
  },
  {
   "cell_type": "markdown",
   "metadata": {},
   "source": [
    "# Exercise 12:\n",
    "\n",
    "Write a Python program to remove duplicates from a list."
   ]
  },
  {
   "cell_type": "code",
   "execution_count": null,
   "metadata": {},
   "outputs": [],
   "source": [
    "<YOUR CODE>"
   ]
  },
  {
   "cell_type": "code",
   "execution_count": null,
   "metadata": {},
   "outputs": [],
   "source": []
  },
  {
   "cell_type": "code",
   "execution_count": null,
   "metadata": {},
   "outputs": [],
   "source": []
  },
  {
   "cell_type": "code",
   "execution_count": null,
   "metadata": {},
   "outputs": [],
   "source": []
  },
  {
   "cell_type": "markdown",
   "metadata": {},
   "source": [
    "# Exercise 13:\n",
    "\n",
    "Write a Python program to find the list of words that are longer than `n` from a given list of words."
   ]
  },
  {
   "cell_type": "code",
   "execution_count": null,
   "metadata": {},
   "outputs": [],
   "source": [
    "<YOUR CODE>"
   ]
  },
  {
   "cell_type": "code",
   "execution_count": null,
   "metadata": {},
   "outputs": [],
   "source": []
  },
  {
   "cell_type": "code",
   "execution_count": null,
   "metadata": {},
   "outputs": [],
   "source": []
  },
  {
   "cell_type": "code",
   "execution_count": null,
   "metadata": {},
   "outputs": [],
   "source": []
  },
  {
   "cell_type": "markdown",
   "metadata": {},
   "source": [
    "# Exercise 14:\n",
    "\n",
    "Write a Python function that takes two lists and returns True if they have at least one common member."
   ]
  },
  {
   "cell_type": "code",
   "execution_count": null,
   "metadata": {},
   "outputs": [],
   "source": [
    "<YOUR CODE>"
   ]
  },
  {
   "cell_type": "code",
   "execution_count": null,
   "metadata": {},
   "outputs": [],
   "source": []
  },
  {
   "cell_type": "code",
   "execution_count": null,
   "metadata": {},
   "outputs": [],
   "source": []
  },
  {
   "cell_type": "code",
   "execution_count": null,
   "metadata": {},
   "outputs": [],
   "source": []
  }
 ],
 "metadata": {
  "colab": {
   "provenance": []
  },
  "kernelspec": {
   "display_name": "Python 3 (ipykernel)",
   "language": "python",
   "name": "python3"
  },
  "language_info": {
   "codemirror_mode": {
    "name": "ipython",
    "version": 3
   },
   "file_extension": ".py",
   "mimetype": "text/x-python",
   "name": "python",
   "nbconvert_exporter": "python",
   "pygments_lexer": "ipython3",
   "version": "3.10.9"
  }
 },
 "nbformat": 4,
 "nbformat_minor": 1
}
