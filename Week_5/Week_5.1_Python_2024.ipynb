{
 "cells": [
  {
   "cell_type": "markdown",
   "metadata": {
    "id": "d8ShhvetFpA7"
   },
   "source": [
    "# Week 5.1: Range, String & List Methods, Slices"
   ]
  },
  {
   "cell_type": "markdown",
   "metadata": {},
   "source": [
    "# 1. `For` loop and `Range`\n",
    "\n",
    "There are cases when we need to not simply go through the elements within a list, but to call them by index. Remember an example with an enumerated shopping list."
   ]
  },
  {
   "cell_type": "code",
   "execution_count": null,
   "metadata": {},
   "outputs": [],
   "source": [
    "shopping_list = ['bread', 'milk', 'pelmeni']\n",
    "\n",
    "number = 1\n",
    "for thing in shopping_list:\n",
    "    print(number, thing)\n",
    "    number += 1"
   ]
  },
  {
   "cell_type": "markdown",
   "metadata": {},
   "source": [
    "It would be easier to have a variable that would go from 0 to 4 and we wouldn't have to worry about updating it manually. We can actually get something like this via the `range()` function.\n",
    "\n",
    "`range()` generates a sequence of numbers in a given interval. Let's turn `range()` into a list to check what is inside."
   ]
  },
  {
   "cell_type": "code",
   "execution_count": null,
   "metadata": {},
   "outputs": [],
   "source": [
    "print(range(3)) # creates an interval of numbers from 0 to 3\n",
    "print(list(range(3))) # checking what is inside"
   ]
  },
  {
   "cell_type": "markdown",
   "metadata": {},
   "source": [
    "Now let's use the result of a `range()` within a loop."
   ]
  },
  {
   "cell_type": "code",
   "execution_count": null,
   "metadata": {},
   "outputs": [],
   "source": [
    "for i in range(3):\n",
    "    print(i)"
   ]
  },
  {
   "cell_type": "markdown",
   "metadata": {},
   "source": [
    "Here `for` loop goes from 0 (including) to 3 (excluding).\n",
    "\n",
    "We can start with other integer than 0. In this case we will need two arguments within `range()`."
   ]
  },
  {
   "cell_type": "code",
   "execution_count": null,
   "metadata": {},
   "outputs": [],
   "source": [
    "for i in range(2,6):\n",
    "    print(i)"
   ]
  },
  {
   "cell_type": "markdown",
   "metadata": {},
   "source": [
    "And, finally, we can ask Python to create an interval with a step by providing `range` with the third argument.\n",
    "\n",
    "Let's print all odd numbers from 1 to 10 (meaning each second number within this interval)."
   ]
  },
  {
   "cell_type": "code",
   "execution_count": null,
   "metadata": {},
   "outputs": [],
   "source": [
    "for i in range(1,10,2):\n",
    "    print(i)"
   ]
  },
  {
   "cell_type": "markdown",
   "metadata": {},
   "source": [
    "Now we know enough to use `range()` to enumerate something within `for` loop."
   ]
  },
  {
   "cell_type": "code",
   "execution_count": null,
   "metadata": {},
   "outputs": [],
   "source": [
    "for i in range(5):\n",
    "# for each number in interval from 0 to 5 (excluding)\n",
    "# store it to `i` variable\n",
    "  print('Hello'[i]) # print a symbol of `Hello` string with an index `i`"
   ]
  },
  {
   "cell_type": "markdown",
   "metadata": {},
   "source": [
    "String `'Hello'` is quite short and it was not hard to count its length. To avoid mistakes it is better to use `len()` function to calculate the length of our sequence in hand.\n",
    "\n",
    "Even though in our example we work with a string, the same would work, of course, for lists and other data types."
   ]
  },
  {
   "cell_type": "code",
   "execution_count": null,
   "metadata": {},
   "outputs": [],
   "source": [
    "for i in range(len('Hello')):\n",
    "    print(i, 'Hello'[i]) # print index stored in `i` variable as well as a symbol with that index"
   ]
  },
  {
   "cell_type": "markdown",
   "metadata": {},
   "source": [
    "Let's update our enumeration to be human-friendly."
   ]
  },
  {
   "cell_type": "code",
   "execution_count": null,
   "metadata": {},
   "outputs": [],
   "source": [
    "for i in range(len('Hello')):\n",
    "    print(i+1, 'Hello'[i]) # update i by adding 1"
   ]
  },
  {
   "cell_type": "markdown",
   "metadata": {},
   "source": [
    "Sometimes we can use `range()` instead of a `while` loop. Especially when we need to repeat an action for a given number of times. Let's feed a dog this time."
   ]
  },
  {
   "cell_type": "code",
   "execution_count": null,
   "metadata": {},
   "outputs": [],
   "source": [
    "n = 0            # setting an initial number of treats giving\n",
    "while n < 5 :   # until we give 5 treats\n",
    "    print('Giving dog a treat')   # giving a treat to a dog\n",
    "    n += 1\n",
    "print('Treats given:', n)"
   ]
  },
  {
   "cell_type": "markdown",
   "metadata": {},
   "source": [
    "In case if we forget to update `n`, our dog will eat all the treats in the world. If we use `for` instead we will never make a mystake — Python will look after a number of treats for us:"
   ]
  },
  {
   "cell_type": "code",
   "execution_count": null,
   "metadata": {},
   "outputs": [],
   "source": [
    "for n in range(5):     # Planning to give 5 treats to a dog\n",
    "    print('Giving a treat') # feeding a dog\n",
    "\n",
    "print('Treats given:', n)"
   ]
  },
  {
   "cell_type": "markdown",
   "metadata": {},
   "source": [
    "Why Python thinks that only 4 treats were given? Because to `n` numbers from 0 to 4 were assigned. Thus Python repeated instructions exactly five times, but the last number it has saved is 4."
   ]
  },
  {
   "cell_type": "code",
   "execution_count": null,
   "metadata": {},
   "outputs": [],
   "source": [
    "for n in range(5):\n",
    "    print('Giving a treat')\n",
    "\n",
    "print('Treats given:', n+1) # correcting number of treats to be human-friendly"
   ]
  },
  {
   "cell_type": "code",
   "execution_count": null,
   "metadata": {},
   "outputs": [],
   "source": []
  },
  {
   "cell_type": "code",
   "execution_count": null,
   "metadata": {},
   "outputs": [],
   "source": []
  },
  {
   "cell_type": "code",
   "execution_count": null,
   "metadata": {},
   "outputs": [],
   "source": []
  },
  {
   "cell_type": "markdown",
   "metadata": {},
   "source": [
    "# 2. String Methods\n",
    "\n",
    "We often find ourselves in the situation when we need to clean the text data. Or maybe we even need to look into it to find some patterns.\n",
    "\n",
    "We can solve a lot of text related problems with a help of *string methods*. Those belong to a family of functions that can be applied only to strings and use `.` syntax.\n",
    "\n",
    "We know already one of such methods. We used `.split()` methods to turn structured strings into lists of elements."
   ]
  },
  {
   "cell_type": "code",
   "execution_count": null,
   "metadata": {},
   "outputs": [],
   "source": [
    "s = 'one two three four five'\n",
    "numbers = s.split()\n",
    "print(numbers)"
   ]
  },
  {
   "cell_type": "markdown",
   "metadata": {},
   "source": [
    "Not only strings have methods. In the future we will talk about lists' methogs. Also we will learn about some new data structures, and they also will have its own methods."
   ]
  },
  {
   "cell_type": "markdown",
   "metadata": {},
   "source": [
    "## `.lower()` and `.upper()`\n",
    "\n",
    "Often we need to bring the entire string to either lower case or upper case. E.g. when we want to compare strings and we do not care for the case in which they are written. Methods `.lower()` and `.upper()` do not require arguments."
   ]
  },
  {
   "cell_type": "code",
   "execution_count": null,
   "metadata": {},
   "outputs": [],
   "source": [
    "print('Cat'.lower()) # brings the entire string to a lower case\n",
    "print('Cat'.upper()) # brings the entire string to an upper case"
   ]
  },
  {
   "cell_type": "markdown",
   "metadata": {},
   "source": [
    "We see that both methods return strings. However, they both do not change the original string but return a changed copy. Let's see for ourselves with a variable."
   ]
  },
  {
   "cell_type": "code",
   "execution_count": null,
   "metadata": {},
   "outputs": [],
   "source": [
    "example = 'cat'\n",
    "print(example.upper()) # prints a changed copy of a string\n",
    "print(example) # original string is unchanged"
   ]
  },
  {
   "cell_type": "markdown",
   "metadata": {},
   "source": [
    "If we need to work with a changed string, we should save it into a variable."
   ]
  },
  {
   "cell_type": "code",
   "execution_count": null,
   "metadata": {},
   "outputs": [],
   "source": [
    "example = 'cat'\n",
    "example_up = example.upper()\n",
    "print(example_up) # changed string is stored in the variable"
   ]
  },
  {
   "cell_type": "markdown",
   "metadata": {},
   "source": [
    "Let's check how case might affect our programs. Imagine that we need to find all the 'cat' strings among our variables."
   ]
  },
  {
   "cell_type": "code",
   "execution_count": null,
   "metadata": {},
   "outputs": [],
   "source": [
    "example_1 = 'cat'\n",
    "example_2 = 'CaT'\n",
    "print(example_1 == 'cat') # True because case is the same\n",
    "print(example_2 == 'cat') # False because there are upper case letters in the example\n",
    "\n",
    "print(example_2.lower() == 'cat') # True because we brought our string to a lower case\n",
    "                                  # first and only then compared it to the 'cat'"
   ]
  },
  {
   "cell_type": "markdown",
   "metadata": {},
   "source": [
    "## `.strip()`\n",
    "\n",
    "Very often we end up with the strings that have unwanted symbols. E.g. end of a line symbol or spaces. Those symbols might affect work of our programs. However we can easily remove those via method `.strip()`.\n",
    "\n",
    "This method by default returns a string stripped of any white spaces from left and right. In this case argument is not needed.\n",
    "\n",
    "Like the methods above `.strip()` doesn't change a string and produces a copy."
   ]
  },
  {
   "cell_type": "code",
   "execution_count": null,
   "metadata": {},
   "outputs": [],
   "source": [
    "example_3 = '   cat\\n' # string 'cat' with three spaces on the left and a newline symbol on the right\n",
    "print(example_3.strip()) # string with all whitespaces stripped\n",
    "print(example_3) # see how those whitespaces affect the output of the original string"
   ]
  },
  {
   "cell_type": "markdown",
   "metadata": {},
   "source": [
    "However, we can strip not only whitespaces but any characters if we specify so via an argument."
   ]
  },
  {
   "cell_type": "code",
   "execution_count": null,
   "metadata": {},
   "outputs": [],
   "source": [
    "example_4 = 'https://www.hse.ru'\n",
    "print(example_4.strip('https://')) # stripped all the characters that we passed as an argument\n",
    "\n",
    "# please note that strip does not look for a sequence but rather for any of those characters\n",
    "# on the both ends of the string. Let's try with `https://` written backwards.\n",
    "print(example_4.strip('//:sptth')) # result is the same!"
   ]
  },
  {
   "cell_type": "markdown",
   "metadata": {},
   "source": [
    "If you want to strip something from the left end or from the right end of a string only, then use `.lstrip()` or `.rstrip()`."
   ]
  },
  {
   "cell_type": "code",
   "execution_count": null,
   "metadata": {},
   "outputs": [],
   "source": [
    "example_5 = 'company_name.com'\n",
    "print(example_5.strip('.com')) # strips any of those characters from BOTH ends of a string\n",
    "print(example_5.rstrip('.com')) # strips any of those characters from the RIGHT end of a string\n",
    "print(example_5.lstrip('.com')) # strips any of those characters from the LEFT end of a string"
   ]
  },
  {
   "cell_type": "markdown",
   "metadata": {},
   "source": [
    "## `.replace()`\n",
    "Another very useful method. We use it to change something in the string. `.replace()` requires two arguments: what string to replace and with what string to replace. Remember, that string is an immutable data type and we cannot replace its characters via assignment operation.\n",
    "\n",
    "Let's create a more secure password by replacing `a` with `@` and `o` with `0`."
   ]
  },
  {
   "cell_type": "code",
   "execution_count": null,
   "metadata": {},
   "outputs": [],
   "source": [
    "password = 'password'\n",
    "print(password.replace('a', '@')) # replacing 'a' with '@'\n",
    "print(password.replace('o', '0')) # replacing 'o' with '0'"
   ]
  },
  {
   "cell_type": "markdown",
   "metadata": {},
   "source": [
    "As you see `.replace()` does not change the initial string but also returns a copy. Do not forget to save the result into a variable if you want to continue to work with a changed string."
   ]
  },
  {
   "cell_type": "code",
   "execution_count": null,
   "metadata": {},
   "outputs": [],
   "source": [
    "password = 'password'\n",
    "password = password.replace('a', '@')\n",
    "password = password.replace('o', '0')\n",
    "print(password) # variable contents are updated"
   ]
  },
  {
   "cell_type": "markdown",
   "metadata": {},
   "source": [
    "We can also use something called **chain syntax** to achieve the same result. With methods we can perform several operations in one line of code, one is chained to another."
   ]
  },
  {
   "cell_type": "code",
   "execution_count": null,
   "metadata": {},
   "outputs": [],
   "source": [
    "password = 'password'\n",
    "# first, replace `a` with `@`, then replace `o` with `0`,\n",
    "# then bring the entire string to upper case,\n",
    "# and finally, strip the symbol `D` from the string\n",
    "password = password.replace('a', '@').replace('o', '0').upper().strip('D')\n",
    "print(password)"
   ]
  },
  {
   "cell_type": "markdown",
   "metadata": {},
   "source": [
    "## `.count()`\n",
    "This method for a change does not produce a copy of string with some alterations, but counts occurencies of something within a string. `.count()` requires one argument: a symbol or a sequence of symbols to count."
   ]
  },
  {
   "cell_type": "code",
   "execution_count": null,
   "metadata": {},
   "outputs": [],
   "source": [
    "example_6 = 'The cat jumps on another cat in the mirror. THIS CAT IS SO FUNNY!'\n",
    "print(example_6.count('cat')) # how many times 'cat' appears in our string?\n",
    "print(example_6.lower().count('cat')) # will it change if we bring our string to lower case?"
   ]
  },
  {
   "cell_type": "markdown",
   "metadata": {},
   "source": [
    "## `.find()`\n",
    "\n",
    "Another useful method is `.find()` that takes a substring as an argument and returns an index for the first occurence of that substring in our main string."
   ]
  },
  {
   "cell_type": "code",
   "execution_count": null,
   "metadata": {},
   "outputs": [],
   "source": [
    "example_7 = 'www.hse.ru'\n",
    "print(example_7.find('.')) # returns an index for the first dot"
   ]
  },
  {
   "cell_type": "markdown",
   "metadata": {},
   "source": [
    "If we want to find the LAST occurence of the symbol or of the sequence within a list, we can use `.rfind()` (find from the right)."
   ]
  },
  {
   "cell_type": "code",
   "execution_count": null,
   "metadata": {},
   "outputs": [],
   "source": [
    "example_7 = 'www.hse.ru'\n",
    "print(example_7.rfind('.')) # returns an index for the last dot"
   ]
  },
  {
   "cell_type": "markdown",
   "metadata": {},
   "source": [
    "If our main string does not containt such symbols, the both methods will return `-1`."
   ]
  },
  {
   "cell_type": "code",
   "execution_count": null,
   "metadata": {},
   "outputs": [],
   "source": [
    "example_7 = 'www.hse.ru'\n",
    "print(example_7.rfind('@'))\n",
    "print(example_7.find('@'))"
   ]
  },
  {
   "cell_type": "markdown",
   "metadata": {},
   "source": [
    "It might come handy if we are looking for the strings with some particular characters."
   ]
  },
  {
   "cell_type": "markdown",
   "metadata": {},
   "source": [
    "## .startswith() and .endswith()\n",
    "\n",
    "Methods `.startswith()` and `.endswith()` allow us to check whether the string starts or ends with the particular symbol or the sequence of symbols. Both methods require one argument — a particular string that we are checking. Those methods return boolean data — True/False."
   ]
  },
  {
   "cell_type": "code",
   "execution_count": null,
   "metadata": {},
   "outputs": [],
   "source": [
    "id_1 = 'BE193'\n",
    "id_2 = 'ME194'\n",
    "\n",
    "print(id_1.startswith('BE')) # True because 1st id starts via the sequence of symbols 'BE'\n",
    "print(id_2.startswith('BE')) # False because 2nd id does not start via the sequence of symbols 'BE'\n",
    "print(id_2.endswith('194')) # True because 2nd id ends via the sequence of symbols '194'"
   ]
  },
  {
   "cell_type": "markdown",
   "metadata": {},
   "source": [
    "Since those methods return boolean value, we can use them in if-statement or in while-loop.\n",
    "\n",
    "Let's imagine that we have a list of websites and want to print only websites in '.com' zone (their addresses end with '.com' string)."
   ]
  },
  {
   "cell_type": "code",
   "execution_count": null,
   "metadata": {},
   "outputs": [],
   "source": [
    "websites = ['www.hse.ru', 'www.mgu.edu', 'www.apple.com', 'facebook.com', 'majidsohrabi.com']\n",
    "\n",
    "for item in websites:\n",
    "    if item.endswith('.com'): # checking that the website satisfies a condition\n",
    "        print(item)"
   ]
  },
  {
   "cell_type": "markdown",
   "metadata": {},
   "source": [
    "## `.is` methods family\n",
    "\n",
    "There are methods that allow us to check wether the string consists **only** of particular characters. Those are especially useful when you want to check that the string is of correct format. All those methods do not require arguments.\n",
    "\n",
    "`.isdigit()` allows us to check whether the string consists only of digits."
   ]
  },
  {
   "cell_type": "code",
   "execution_count": null,
   "metadata": {},
   "outputs": [],
   "source": [
    "print('ID-142'.isdigit()) # False since there are some non-digit characters\n",
    "print('142'.isdigit()) # True since there are only digits"
   ]
  },
  {
   "cell_type": "markdown",
   "metadata": {},
   "source": [
    "`.isalpha()` is checking that the string cosists only of letters."
   ]
  },
  {
   "cell_type": "code",
   "execution_count": null,
   "metadata": {},
   "outputs": [],
   "source": [
    "print('ID142'.isalpha()) # False since there are some non-letter characters\n",
    "print('ID'.isalpha()) # True since there are only letters"
   ]
  },
  {
   "cell_type": "markdown",
   "metadata": {},
   "source": [
    "`.isalnum()` is the mix of the two above. It check whether the string consists of only digits or letters. It will also return `True` if there are only letters or digits in the string."
   ]
  },
  {
   "cell_type": "code",
   "execution_count": null,
   "metadata": {},
   "outputs": [],
   "source": [
    "print('ID-142'.isalnum()) # False since there is a dash\n",
    "print('ID142'.isalnum()) # True since there are only allowed symbols (letters AND digits)\n",
    "print('ID'.isalnum()) # True since there are only allowed symbols (letters)\n",
    "print('142'.isalnum())  # True since there are only allowed symbols (digits)"
   ]
  },
  {
   "cell_type": "markdown",
   "metadata": {},
   "source": [
    "`.islower()` and `.isupper()` work in a similair manner and check whether all letters in the string are lower case or upper case correspondingly."
   ]
  },
  {
   "cell_type": "code",
   "execution_count": null,
   "metadata": {},
   "outputs": [],
   "source": [
    "print('id154'.islower()) # True since all letters are lower case\n",
    "print('ID154'.isupper()) # True since all letters are upper case\n",
    "print('Id154'.islower()) # False since `I` is upper case\n",
    "print('Id154'.isupper()) # False since `d` is lower case"
   ]
  },
  {
   "cell_type": "markdown",
   "metadata": {},
   "source": [
    "Since those methods return boolean values we can use them in logical expressions and combine them with a logical `not`.\n",
    "\n",
    "Imagine that we need to check if the password is secure enough. The password should contain a mix of lower and upper case letters or no letters at all. The last bit doesn't sound much secure, but let's not make our life more complex as it is :)."
   ]
  },
  {
   "cell_type": "code",
   "execution_count": null,
   "metadata": {},
   "outputs": [],
   "source": [
    "passwords = ['ilovepython123', 'ILOVEPYTHON123', 'IlovePYTHON123', '123456']\n",
    "\n",
    "for item in passwords:\n",
    "    print('Your password:', item)\n",
    "\n",
    "    if item.islower(): # checking if the entire password is lower case\n",
    "        print('Please add upper case letters to your password.')\n",
    "    \n",
    "    elif item.isupper(): # checking if the entire password is upper case\n",
    "        print('Please add lower case letters to your password.')\n",
    "    \n",
    "    # if both conditions above have failed it means that our password contains\n",
    "    # a mix of letters or no letters at all, in both cases it is valid\n",
    "    else:\n",
    "        print('Your password is valid.')\n",
    "    \n",
    "    print('-'*10) # printing 10 dashes to make the output prettier"
   ]
  },
  {
   "cell_type": "markdown",
   "metadata": {},
   "source": [
    "## `.join()`"
   ]
  },
  {
   "cell_type": "markdown",
   "metadata": {},
   "source": [
    "The last but not the least is method `.join()`. It mirrors the `.split()` method. It can convert a list of strings into the string separated by a divider.\n",
    "\n",
    "We should call that method from a string that we want to use as a separator and as an argument we pass the list of strings."
   ]
  },
  {
   "cell_type": "code",
   "execution_count": null,
   "metadata": {},
   "outputs": [],
   "source": [
    "shopping_list = ['milk', 'bread', 'oranges']\n",
    "print(', '.join(shopping_list)) # please turn our list to string where elements separated by a comma and a space"
   ]
  },
  {
   "cell_type": "markdown",
   "metadata": {},
   "source": [
    "We can use `.join()` method prodcut in `f-strings`. But please be careful and do not forget to use different quotation marks for the divider then."
   ]
  },
  {
   "cell_type": "code",
   "execution_count": null,
   "metadata": {},
   "outputs": [],
   "source": [
    "shopping_list = ['milk', 'bread', 'oranges']\n",
    "print(f'Shopping list: {\", \".join(shopping_list)}.') # used double quotes for the divider"
   ]
  },
  {
   "cell_type": "markdown",
   "metadata": {},
   "source": [
    "If there is something but strings within a list, Python will throw an error."
   ]
  },
  {
   "cell_type": "code",
   "execution_count": null,
   "metadata": {},
   "outputs": [],
   "source": [
    "',  '.join(['Hello', 5])"
   ]
  },
  {
   "cell_type": "markdown",
   "metadata": {},
   "source": [
    "Full list of methods you can find in the [Python official documentation](https://docs.python.org/3/library/stdtypes.html#str.isalnum)."
   ]
  },
  {
   "cell_type": "code",
   "execution_count": null,
   "metadata": {},
   "outputs": [],
   "source": []
  },
  {
   "cell_type": "code",
   "execution_count": null,
   "metadata": {},
   "outputs": [],
   "source": []
  },
  {
   "cell_type": "code",
   "execution_count": null,
   "metadata": {},
   "outputs": [],
   "source": []
  },
  {
   "cell_type": "markdown",
   "metadata": {},
   "source": [
    "# 3. Lists Methods\n",
    "\n",
    "Of course, methods are not something reserved only for strings. We will use a lot of methods specific for other data types as well. In this notebook you will find examples of lists' methods. The major difference of lists' methods from the strings' methods is that the majority of them **change the inititial list they were applied to**. So you will not need to save result of their work into a variable, it might even lead to errors."
   ]
  },
  {
   "cell_type": "markdown",
   "metadata": {},
   "source": [
    "## `.append()`\n",
    "\n",
    "That method allows us to append a new element to the end of the list. It takes one argument — what to append."
   ]
  },
  {
   "cell_type": "code",
   "execution_count": null,
   "metadata": {},
   "outputs": [],
   "source": [
    "shopping_list = ['milk'] # creates a list with one element\n",
    "print(shopping_list)     # checking our list before applying `.append()`\n",
    "shopping_list.append('bread')    # adding string 'bread' to the list\n",
    "print(shopping_list) # cheking our changed list"
   ]
  },
  {
   "cell_type": "markdown",
   "metadata": {},
   "source": [
    "We will often use `.append()` within a loop to save multiple items to the list."
   ]
  },
  {
   "cell_type": "code",
   "execution_count": null,
   "metadata": {},
   "outputs": [],
   "source": [
    "shopping_list = []      # creating an empty list\n",
    "\n",
    "for i in range(3):      # running the loop three times in a row\n",
    "    shopping_list.append(input(f'Add item #{i+1}: ')) # adding new item to our list\n",
    "print(*shopping_list, sep=', ') # checking the final list"
   ]
  },
  {
   "cell_type": "markdown",
   "metadata": {},
   "source": [
    "##### Of course you can use it within `while` loop as well."
   ]
  },
  {
   "cell_type": "code",
   "execution_count": null,
   "metadata": {},
   "outputs": [],
   "source": [
    "# lets end when we have 'end'\n",
    "\n",
    "shopping_list = []\n",
    "\n",
    "i = 1\n",
    "item = input(f'Add item #{i}: ')\n",
    "\n",
    "while item != 'end':\n",
    "    shopping_list.append(item)\n",
    "    i += 1\n",
    "    item = input(f'Add item #{i}: ')\n",
    "    \n",
    "print(*shopping_list, sep = ', ')"
   ]
  },
  {
   "cell_type": "markdown",
   "metadata": {},
   "source": [
    "## `.remove()`\n",
    "We can not only add elements to the list, but also remove them. `.remove()` requires one argument — what to remove. It removes the first occurence of that item within a list."
   ]
  },
  {
   "cell_type": "code",
   "execution_count": null,
   "metadata": {},
   "outputs": [],
   "source": [
    "shopping_list = ['milk', 'bread', 'milk', 'chocolate']\n",
    "print(shopping_list) # printing list\n",
    "shopping_list.remove('milk') # removing 'milk' string\n",
    "print(shopping_list) # printing changed list, only the first 'milk' string was removed"
   ]
  },
  {
   "cell_type": "markdown",
   "metadata": {},
   "source": [
    "But be careful, if the list does not contain such element, you will get an error."
   ]
  },
  {
   "cell_type": "code",
   "execution_count": null,
   "metadata": {},
   "outputs": [],
   "source": [
    "shopping_list = ['milk', 'bread', 'milk', 'chocolate']\n",
    "shopping_list.remove('oranges')"
   ]
  },
  {
   "cell_type": "markdown",
   "metadata": {},
   "source": [
    "## `.count()`\n",
    "\n",
    "`.count()` for lists works pretty similiar to the strings' method with the same name. The method requires an argument — what to count. The major difference, since lists may contain different data types, `.count()` can take other data types than string as an argument.\n",
    "\n",
    "It returns the number of the argument occurences within a list. Metod `.count()` works for tuples as well."
   ]
  },
  {
   "cell_type": "code",
   "execution_count": null,
   "metadata": {},
   "outputs": [],
   "source": [
    "shopping_list = ['milk', 'milk', 'bread']\n",
    "print(f'Milk: {shopping_list.count(\"milk\")} pcs.') # counting strings 'milk' within a list"
   ]
  },
  {
   "cell_type": "code",
   "execution_count": null,
   "metadata": {},
   "outputs": [],
   "source": [
    "marks = (10,10,8,9,10,7)\n",
    "print(marks.count(10)) # counting integers 10 within a tuple"
   ]
  },
  {
   "cell_type": "markdown",
   "metadata": {},
   "source": [
    "## `.index()`\n",
    "Often we will need to find an index for an element within a list. `.index()` works a bit similiar to the strings `.find()` method. It takes one argument (what to look for) and returns an index for the first occurence of such element.\n",
    "\n",
    "The major difference with the strings' method behaviour is that `.index()` will throw an error if there is no such element within a list.\n",
    "\n",
    " Metod `.index()` works for tuples as well."
   ]
  },
  {
   "cell_type": "code",
   "execution_count": null,
   "metadata": {},
   "outputs": [],
   "source": [
    "shopping_list = ['milk', 'milk', 'bread']\n",
    "print(shopping_list.index('milk')) # index for the first 'milk' string is returned"
   ]
  },
  {
   "cell_type": "code",
   "execution_count": null,
   "metadata": {},
   "outputs": [],
   "source": [
    "shopping_list = ['milk', 'milk', 'bread']\n",
    "print(shopping_list.index('oranges')) # will throw an error as there is no such item"
   ]
  },
  {
   "cell_type": "markdown",
   "metadata": {},
   "source": [
    "So if you need to find an index for an item within a list, be sure to check first that the item belongs to the list."
   ]
  },
  {
   "cell_type": "code",
   "execution_count": null,
   "metadata": {},
   "outputs": [],
   "source": [
    "shopping_list = ['milk', 'oranges', 'bread']\n",
    "\n",
    "while True:\n",
    "    item = input('What are we looking for? ')\n",
    "    if item == 'end':\n",
    "        break\n",
    "    if item in shopping_list: # if the item in the list, then find its index\n",
    "        print(f'String \\'{item}\\' is stored under the index {shopping_list.index(item)}')\n",
    "    else:\n",
    "        print(f'String \\'{item}\\' is not in the list')"
   ]
  },
  {
   "cell_type": "markdown",
   "metadata": {},
   "source": [
    "Let's solve another problem. Let's replace an element in our shopping list by finding its index first."
   ]
  },
  {
   "cell_type": "code",
   "execution_count": null,
   "metadata": {},
   "outputs": [],
   "source": [
    "shopping_list = ['milk', 'oranges', 'bread']\n",
    "\n",
    "thing = input('What do we want to replace? ')\n",
    "new_thing = input('With what do we want to replace it? ')\n",
    "\n",
    "if thing in shopping_list: # checking that element is in the list\n",
    "    thing_index = shopping_list.index(thing) # finding its index\n",
    "    shopping_list[thing_index] = new_thing   # assigning new element to that index\n",
    "else:\n",
    "    print(f'String \\'{item}\\' is not in the list')\n",
    "\n",
    "print('Shopping list:', *shopping_list, sep=', ') # printing changed shopping list"
   ]
  },
  {
   "cell_type": "code",
   "execution_count": null,
   "metadata": {},
   "outputs": [],
   "source": []
  },
  {
   "cell_type": "code",
   "execution_count": null,
   "metadata": {},
   "outputs": [],
   "source": []
  },
  {
   "cell_type": "code",
   "execution_count": null,
   "metadata": {},
   "outputs": [],
   "source": []
  },
  {
   "cell_type": "markdown",
   "metadata": {},
   "source": [
    "# 4. Slicing\n",
    "\n",
    "We know already how to get a particular item out of a sequence. We call an item or a symbol via its index number."
   ]
  },
  {
   "cell_type": "code",
   "execution_count": null,
   "metadata": {},
   "outputs": [],
   "source": [
    "email = 'msohrabi@hse.ru'\n",
    "print(email[8]) # printing the symbol stored under the index 9"
   ]
  },
  {
   "cell_type": "markdown",
   "metadata": {},
   "source": [
    "But often we need not one symbol or item but rather a sequence. For such situations we can use **slicing**. A slice of a sequence returns several symbols or items which belong to the **the interval of index numbers**. We specify such an interval using square brackets: `[10:13]`. This slice would return us a sequence of symbols or items stored under the indecies 10, 11 and 12."
   ]
  },
  {
   "cell_type": "code",
   "execution_count": null,
   "metadata": {},
   "outputs": [],
   "source": [
    "email = 'msohrabi@hse.ru'\n",
    "print(email[9:15]) # element under index 13 is excluded"
   ]
  },
  {
   "cell_type": "markdown",
   "metadata": {},
   "source": [
    "Thus, we see that **the first index from an interval is included into a slice and the last one excluded**. Such behaviour is connected to some specifics of how our computer stores data but let's not go there. However we have to remember that feature of slicing to avoid confusion."
   ]
  },
  {
   "cell_type": "markdown",
   "metadata": {},
   "source": [
    "If we want to get the part of the sequence up to some index we can tell Python that it should start from index 0: `[0:9]`. Or we can skip the first index entirely in that case, but Python will still know that the slice should start from the beginning."
   ]
  },
  {
   "cell_type": "code",
   "execution_count": null,
   "metadata": {},
   "outputs": [],
   "source": [
    "email = 'msohrabi@hse.ru'\n",
    "print(email[0:8]) # gives us the slice from index 0 to index 9 (excluded)\n",
    "print(email[:8]) # result is the same"
   ]
  },
  {
   "cell_type": "markdown",
   "metadata": {},
   "source": [
    "In the same manner we can get the slice from a particular index to the end of a sequence. We skip the end of the interval after a colon, but Python still knows that it should return a slice up to the end of a sequence."
   ]
  },
  {
   "cell_type": "code",
   "execution_count": null,
   "metadata": {},
   "outputs": [],
   "source": [
    "email = 'msohrabi@hse.ru'\n",
    "print(email[8:15])\n",
    "print(email[8:]) # give us slice from index 9 to the end"
   ]
  },
  {
   "cell_type": "markdown",
   "metadata": {},
   "source": [
    "We also can use negative indices for slicing as well."
   ]
  },
  {
   "cell_type": "code",
   "execution_count": null,
   "metadata": {},
   "outputs": [],
   "source": [
    "email = 'msohrabi@hse.ru'\n",
    "print(email[-7:]) # gives us a slice beginning at the sixth element from the end"
   ]
  },
  {
   "cell_type": "markdown",
   "metadata": {},
   "source": [
    "We can use `.find()` method of strings and `.index()` method of lists to make slicing more efficient. E.g. to extract login part from an email we can find the position of the `@` sign automatically instead of counting up to it."
   ]
  },
  {
   "cell_type": "code",
   "execution_count": null,
   "metadata": {},
   "outputs": [],
   "source": [
    "print(email.find('@'))  # finding `@` index within a string\n",
    "print(email[:email.find('@')])  # slicing a string up to `@` position"
   ]
  },
  {
   "cell_type": "markdown",
   "metadata": {},
   "source": [
    "Something like this is convinient when we need to apply slicing based on a position of an element that might shift.\n",
    "\n",
    "Let's extract login parts from several emails."
   ]
  },
  {
   "cell_type": "code",
   "execution_count": null,
   "metadata": {},
   "outputs": [],
   "source": [
    "emails = ['jfusyctsr@hse.ru', 'jfnvhgy@.hse.ru', 'nvhg@hse.ru']\n",
    "\n",
    "print(emails[0][9])   # `@` is stored under index 9 for the first email\n",
    "print(emails[1][7])   # under index 7 for the second\n",
    "print(emails[2][4])   # under index 4 for the third"
   ]
  },
  {
   "cell_type": "markdown",
   "metadata": {},
   "source": [
    "Indeed, end of a slice index would be different for each email. But it is a good thing that we can find"
   ]
  },
  {
   "cell_type": "code",
   "execution_count": null,
   "metadata": {},
   "outputs": [],
   "source": [
    "emails = ['jfusyctsr@hse.ru', 'jfnvhgy@.hse.ru', 'nvhg@hse.ru']\n",
    "for email in emails:\n",
    "    print(email.find('@')) # finding index of `@` for each email"
   ]
  },
  {
   "cell_type": "code",
   "execution_count": null,
   "metadata": {},
   "outputs": [],
   "source": [
    "emails = ['jfusyctsr@hse.ru', 'jfnvhgy@.hse.ru', 'nvhg@hse.ru']\n",
    "for email in emails:\n",
    "    print(email[:email.find('@')]) # slicing each email up to `@` position"
   ]
  },
  {
   "cell_type": "markdown",
   "metadata": {},
   "source": [
    "There is also the third parameter of slicing that we can specify. It denotes the step. Slice `[1:10:2]` will give us every second item of a sequence beginning at index 1 and ending at index 10."
   ]
  },
  {
   "cell_type": "code",
   "execution_count": null,
   "metadata": {},
   "outputs": [],
   "source": [
    "email = 'msohrabi@hse.ru'\n",
    "print(email[1:10:2])"
   ]
  },
  {
   "cell_type": "markdown",
   "metadata": {},
   "source": [
    "If we skip both the beginning and the end of the slice, but specify only a step it would return us every N-th element starting from the first one."
   ]
  },
  {
   "cell_type": "code",
   "execution_count": null,
   "metadata": {},
   "outputs": [],
   "source": [
    "print(email[::2]) # every second element\n",
    "print(email[::3]) # every third element"
   ]
  },
  {
   "cell_type": "markdown",
   "metadata": {},
   "source": [
    "We can also use negative step to reverse the sequence."
   ]
  },
  {
   "cell_type": "code",
   "execution_count": null,
   "metadata": {},
   "outputs": [],
   "source": [
    "print(email[::-1]) # every element of a string but we go from the end via negative step\n",
    "print(email[::-2]) # every second element going from the end"
   ]
  },
  {
   "cell_type": "markdown",
   "metadata": {},
   "source": [
    "Everything above works not only for strings but for lists and tuples as well."
   ]
  },
  {
   "cell_type": "code",
   "execution_count": null,
   "metadata": {},
   "outputs": [],
   "source": [
    "emails = ['jfusyctsr@hse.ru', 'jfnvhgy@.hse.ru', 'nvhg@hse.ru']\n",
    "print(emails[1:])\n",
    "print(emails[::2])\n",
    "print(emails[::-1])"
   ]
  },
  {
   "cell_type": "code",
   "execution_count": null,
   "metadata": {},
   "outputs": [],
   "source": []
  },
  {
   "cell_type": "code",
   "execution_count": null,
   "metadata": {},
   "outputs": [],
   "source": []
  }
 ],
 "metadata": {
  "colab": {
   "provenance": []
  },
  "kernelspec": {
   "display_name": "Python 3 (ipykernel)",
   "language": "python",
   "name": "python3"
  },
  "language_info": {
   "codemirror_mode": {
    "name": "ipython",
    "version": 3
   },
   "file_extension": ".py",
   "mimetype": "text/x-python",
   "name": "python",
   "nbconvert_exporter": "python",
   "pygments_lexer": "ipython3",
   "version": "3.10.9"
  }
 },
 "nbformat": 4,
 "nbformat_minor": 1
}
