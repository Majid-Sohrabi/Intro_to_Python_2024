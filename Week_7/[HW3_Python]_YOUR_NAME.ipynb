{
 "cells": [
  {
   "cell_type": "markdown",
   "id": "8f868eb6",
   "metadata": {
    "id": "8f868eb6"
   },
   "source": [
    "# Homework 3 - Python\n",
    "\n",
    "First Name:\n",
    "\n",
    "Last Name:\n",
    "\n",
    "Group:\n",
    "\n",
    "### After the assigment is done, please, push it to your [private GitHub repository](https://docs.github.com/en/github/administering-a-repository/managing-repository-settings/setting-repository-visibility) and invite [Majid-Sohrabi](https://github.com/Majid-Sohrabi)  as [collaborator](https://docs.github.com/en/account-and-profile/setting-up-and-managing-your-github-user-account/managing-access-to-your-personal-repositories/inviting-collaborators-to-a-personal-repository)."
   ]
  },
  {
   "cell_type": "markdown",
   "id": "f47683d8",
   "metadata": {
    "id": "f47683d8"
   },
   "source": [
    "## Task 1  (1.5 point + 0.5 bonus for part 4) - Currency Converter cum Calculator\n",
    "\n",
    "\n",
    "Let's create a Currency Calculator that can convert between USD, RUB, EUR, and AED. For conversion rate you can refer : [CBR Exchange rate](https://www.cbr.ru/eng/currency_base/daily/)\n",
    "\n",
    "After doing so , Perform below task with your currency calculator\n",
    "\n",
    "**1.** Ask a user, The amount they wish to convert (in any unit), The currency they want to convert from, The currency they want to convert to. Print final amount with clear statement.\n",
    "\n",
    "**2.** Convert EUR to RUB on two different dates: i.e. February 1, 2024, and March 7, 2024. Display the difference in conversion rates and the duration between the two dates in weeks, months, or years. ( Use [CBR Exchange rate](https://www.cbr.ru/eng/currency_base/daily/)) if you are using different dates clearly print in your code)\n",
    "\n",
    "**3.** You're tasked with determining the amount of AED:\n",
    "You want to buy USD (United States Dollar) in Moscow using RUB (Russian Ruble) and then sell the USD in Dubai to get AED (United Arab Emirates Dirham).\n",
    "\n",
    "Given:\n",
    "\n",
    "Buying USD in Moscow:\n",
    "*   Amount: 50000 RUB\n",
    "*   Buy Commission: 0.12%\n",
    "\n",
    "Selling USD in Dubai to get AED:\n",
    "*   Sale Commission: 0.15%\n",
    "\n",
    "Print : What amount of AED will be in your hand in Dubai?\n",
    "\n",
    "\n",
    "**4.** On 1st June 2023, you plan to buy USD from four different banks, each charging a commission. After a sudden increase in the exchange rate, on 2nd February 2024, you intend to sell the USD back to these banks, again with commissions applied. Your goal is to determine which bank option will result in the most profitable.\n",
    "\n",
    "Given:\n",
    "\n",
    "Buying USD on 1st June 2023:\n",
    "*   Exchange rate: 1 USD = 81 RUB\n",
    "> Banks and their commissions:\n",
    "*   Kazan Bank: 0.122%\n",
    "*   Sber Bank: 0.131%\n",
    "*   JSC VTB: 0.174%\n",
    "*   Fora Bank: 0.156%\n",
    "\n",
    "Selling USD on 2nd February 2024:\n",
    "\n",
    "*   Exchange rate: 1 USD = 92.5 RUB\n",
    "> Banks and their commissions:\n",
    "*   Kazan Bank: 0.221%\n",
    "*   Sber Bank: 0.202%\n",
    "*   JSC VTB: 0.280%\n",
    "*   Fora Bank: 0.192%"
   ]
  },
  {
   "cell_type": "code",
   "execution_count": null,
   "id": "2d62ba3d",
   "metadata": {
    "id": "2d62ba3d"
   },
   "outputs": [],
   "source": [
    "<YOUR CODE>"
   ]
  },
  {
   "cell_type": "markdown",
   "id": "d03af2f7",
   "metadata": {
    "id": "d03af2f7"
   },
   "source": [
    "## Task 2 File Handling with Python (1.5 point)\n",
    "\n",
    "1. Create a .txt file named **YourName_data.txt** with 4 columns: ID (starting from 1 and ending at 10), Name, Gender, Age, and Address (comprising Building No., Street Name, City, and Pincode). Populate this file with at least 10 entries using Python only, without any external libraries like Pandas or Numpy.\n",
    "\n",
    "2. Read already created **YourName_data.txt** and extract the City from the Address column to create a fifth column 'City'. Sort the data by City name and save it with same file name.\n",
    "\n",
    "3. Correct the following mistakes in the data:\n",
    "\n",
    "*   ID 4 and 7: Wrong Age\n",
    "*   ID 2 and 10: Wrong Address\n",
    "*   ID 3: Wrong Gender\n",
    "\n",
    "You are flexible with your data to replace old entries, Save the corrected data as YourName_data_updated.txt.\n",
    "\n",
    "4. Calculate the mean, median, maximum, and minimum ages from **YourName_data_updated.txt.** Create two separate .txt files named **YourName_data1.txt** and **YourName_data2.txt**. Split the data based on age, with entries above the mean going to **YourName_data1.txt** and entries below the mean going to **YourName_data2.txt**."
   ]
  },
  {
   "cell_type": "code",
   "execution_count": null,
   "id": "53894434",
   "metadata": {
    "id": "53894434"
   },
   "outputs": [],
   "source": [
    "<YOUR CODE>"
   ]
  },
  {
   "cell_type": "markdown",
   "id": "89040ea7",
   "metadata": {
    "id": "89040ea7"
   },
   "source": [
    "## Task 3  (0.5 points)\n",
    "\n",
    "You're task is to creat a Python program that analyzes a piece of text and provides the frequency of each word in it. The program should use a user-defined function that takes the text as input and returns a dictionary where the keys are the words in the text and the values are the frequencies of those words. Also, print most frequent word in text.\n",
    "\n",
    "Your program should allow the user to input any text and then display the word frequency dictionary."
   ]
  },
  {
   "cell_type": "code",
   "execution_count": null,
   "id": "782170f2",
   "metadata": {
    "id": "782170f2"
   },
   "outputs": [],
   "source": [
    "<YOUR CODE>"
   ]
  },
  {
   "cell_type": "markdown",
   "id": "9f0f0213",
   "metadata": {
    "id": "9f0f0213"
   },
   "source": [
    "## Task 4 - Shopping Inventory (1 points)\n",
    "\n",
    "You are given an inventory of items available in a shopping market represented as a dictionary where the keys are the item names and the values are the corresponding quantities available. Your task is to create a program that helps users create a sorted shopping list.\n",
    "\n",
    "Your program should:\n",
    "\n",
    "Prompt the user to input the items they want to buy, one at a time.\n",
    "Check if the item is available in the inventory. If it is, add it to the shopping list. If not, inform the user that the item is not available.\n",
    "After the user finishes inputting their items, sort the shopping list alphabetically.\n",
    "Display the sorted shopping list to the user.\n",
    "\n",
    "Sample Shopping list: You can use your or user entered items & values.\n",
    "```\n",
    "    'apple': 10,\n",
    "    'banana': 5,\n",
    "    'orange': 8,\n",
    "    'grapes': 3\n",
    "\n",
    "```"
   ]
  },
  {
   "cell_type": "code",
   "execution_count": null,
   "id": "c79ed191",
   "metadata": {
    "id": "c79ed191"
   },
   "outputs": [],
   "source": [
    "<YOUR CODE>"
   ]
  },
  {
   "cell_type": "markdown",
   "id": "8a0edbe2",
   "metadata": {
    "id": "8a0edbe2"
   },
   "source": [
    "## Task 5  (0.5 point)\n",
    "\n",
    "Ask a user to enter time stamp in the format (hour, minute, second) use comma separated value or separate block. Your task is to first print each timestamp in the list and then convert this stamp in seconds."
   ]
  },
  {
   "cell_type": "code",
   "execution_count": null,
   "id": "5414b2cf",
   "metadata": {
    "id": "5414b2cf"
   },
   "outputs": [],
   "source": [
    "<YOUR CODE>"
   ]
  }
 ],
 "metadata": {
  "colab": {
   "provenance": []
  },
  "kernelspec": {
   "display_name": "Python 3 (ipykernel)",
   "language": "python",
   "name": "python3"
  },
  "language_info": {
   "codemirror_mode": {
    "name": "ipython",
    "version": 3
   },
   "file_extension": ".py",
   "mimetype": "text/x-python",
   "name": "python",
   "nbconvert_exporter": "python",
   "pygments_lexer": "ipython3",
   "version": "3.10.9"
  }
 },
 "nbformat": 4,
 "nbformat_minor": 5
}
