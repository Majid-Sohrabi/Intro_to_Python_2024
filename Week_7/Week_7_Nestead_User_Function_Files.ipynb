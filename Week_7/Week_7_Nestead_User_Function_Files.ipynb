{
 "cells": [
  {
   "cell_type": "markdown",
   "metadata": {
    "id": "d8ShhvetFpA7"
   },
   "source": [
    "# Week 7: Nestead, User Function, Files"
   ]
  },
  {
   "cell_type": "markdown",
   "metadata": {},
   "source": [
    "Nested structures are not new data types. Those are just more complex structures than those that we've used already. Usually we call nested structures the lists of lists, dictionaries where the values are the lists or the sets, etc."
   ]
  },
  {
   "cell_type": "markdown",
   "metadata": {},
   "source": [
    "## 1. Nested Lists\n",
    "\n",
    "Remember, that any object can be a part of a list. So in theory we can have a list of lists, a list of tuples, a list of sets, a lists of dictionaries... Let's check an example. Imagine that we have a list that consists of two elements. The first is the list with student names, the second is the list with those students' grades."
   ]
  },
  {
   "cell_type": "code",
   "execution_count": null,
   "metadata": {},
   "outputs": [],
   "source": [
    "students = [['Mark', 'Alice'], [8, 9]]\n",
    "print(len(students)) # checking the number of elements\n",
    "print(students[0]) # accessing the first list\n",
    "print(students[1]) # accessing the second list"
   ]
  },
  {
   "cell_type": "markdown",
   "metadata": {},
   "source": [
    "See, the number of elements is not 4 but 2, and the indexing does not give us the strings `'Marc'` and `'Alice'`, but rather the first list and the second list. That happens because Python sees that sructure as some kind of a Russian doll — there are smaller elements withing the bigger ones.\n",
    "\n",
    "However, such structures are really convenient. Imagine our example list to be like a table where the first column contains student's names and the second — their grades.\n",
    "\n",
    "Actually, with such kind of structures we can use double (triple, quadraple...) indexing. Let's access information about the first student."
   ]
  },
  {
   "cell_type": "code",
   "execution_count": null,
   "metadata": {},
   "outputs": [],
   "source": [
    "print(students[0][0]) # the 1st student name\n",
    "print(students[1][0]) # the 1st student grade"
   ]
  },
  {
   "cell_type": "markdown",
   "metadata": {},
   "source": [
    "First, we've got the bigger element in which we are interested (the list of names under the index `0`) and then the 1st student name (the element of that list under the index `0`). Then we performed the same operations for the second list.\n",
    "\n",
    "Let's try another example. Now each nested list would describe a student based on three features — name, year of birth and major. And let's try to read and add info about new student."
   ]
  },
  {
   "cell_type": "code",
   "execution_count": null,
   "metadata": {},
   "outputs": [],
   "source": [
    "students = [['Ivan Ivanov', 2005, 'POLSCI'],\n",
    "            ['Oleg Sidorov', 2006, 'JOURN']]\n",
    "\n",
    "new_student = input(\"New stu.:\").split(',') # reading info items separated by comma\n",
    "new_student[1] = int(new_student[1]) # converting year of birth into integer\n",
    "students.append(new_student) # adding info about new student to a list\n",
    "print(students)"
   ]
  },
  {
   "cell_type": "markdown",
   "metadata": {},
   "source": [
    "Doesn't look too hard, yes? \n",
    "\n",
    "If you need to read information in `while` loop just do not forget to check the stop criteria and read information about the new student after you've appended the previous one to the list of lists. Look at the example below:"
   ]
  },
  {
   "cell_type": "code",
   "execution_count": null,
   "metadata": {},
   "outputs": [],
   "source": [
    "students = []\n",
    "info = input(\"New stu.: \")\n",
    "while info != 'END':\n",
    "    info_list = info.split(',')\n",
    "    info_list[1] = int(info_list[1])\n",
    "    students.append(info_list)\n",
    "    info = input(\"New stu.: \")\n",
    "print(students)"
   ]
  },
  {
   "cell_type": "markdown",
   "metadata": {},
   "source": [
    "Let's go back to our initial nested list. So now we know how to read data in such a list. But how can we retrieve information from it? Actually, don't fret and just treat nested list like a usual list. Let's start with `for in range()` type of loop."
   ]
  },
  {
   "cell_type": "code",
   "execution_count": null,
   "metadata": {},
   "outputs": [],
   "source": [
    "students = [['Ivan Ivanov', 2005, 'POLSCI'],\n",
    "            ['Oleg Sidorov', 2006, 'JOURN']]\n",
    "\n",
    "for i in range(len(students)):\n",
    "    print(students[i]) # prints nested list under the index `i`"
   ]
  },
  {
   "cell_type": "markdown",
   "metadata": {},
   "source": [
    "See, each nested list was printed in due time, when its index was assigned to `i` variable. Let's now output information about each student in a more fancy way."
   ]
  },
  {
   "cell_type": "code",
   "execution_count": null,
   "metadata": {},
   "outputs": [],
   "source": [
    "for i in range(len(students)):\n",
    "    print(f'Info about student #{i+1}')  # printing student's number\n",
    "    print('Name:', students[i][0])       # printing name\n",
    "    print('Age:', 2024 - students[i][1]) # calculating and printing age\n",
    "    print('Major:', students[i][2])      # printing major"
   ]
  },
  {
   "cell_type": "markdown",
   "metadata": {},
   "source": [
    "If you don't need, let's say, a counter variable, you can go for a simple `for` loop and access nesting lists directly without using an index variable. Compare the code below to the one above."
   ]
  },
  {
   "cell_type": "code",
   "execution_count": null,
   "metadata": {},
   "outputs": [],
   "source": [
    "for item in students: # each nested list would be assigned to an `item` variable\n",
    "    print('Name:', item[0])\n",
    "    print('Age:', 2024 - item[1])\n",
    "    print('Major:', item[2])\n",
    "    print('*' * 20) # printing a divider to make out output prettier and more organized"
   ]
  },
  {
   "cell_type": "markdown",
   "metadata": {},
   "source": [
    "Sometimes it can even be ok to use a nested `for` loop to go through the elements of nested lists. E.g. if we don't need to print all elements of our list in some fancy way."
   ]
  },
  {
   "cell_type": "code",
   "execution_count": null,
   "metadata": {},
   "outputs": [],
   "source": [
    "for item in students: # each nested list would be assigned to `item`\n",
    "    for item_info in item: # each nested list element would be assigned to `item_info`\n",
    "        print(item_info)\n",
    "    print('*' * 20)"
   ]
  },
  {
   "cell_type": "markdown",
   "metadata": {},
   "source": [
    "Let's check another example. Now our nested lists represent grades for different students, each can have a different number of grades. Let's count how many grades of all our students are lower than 4."
   ]
  },
  {
   "cell_type": "code",
   "execution_count": null,
   "metadata": {},
   "outputs": [],
   "source": [
    "marks = [[2, 5, 5], [10, 8, 3, 9], [10, 8, 4, 5]]\n",
    "\n",
    "cnt = 0 # creating a counter variable\n",
    "for item in marks: # looping through the major list\n",
    "    for mark in item: # now looping through the nested list currently stored in `item`\n",
    "        if mark < 4:\n",
    "            cnt += 1\n",
    "\n",
    "print(cnt)"
   ]
  },
  {
   "cell_type": "markdown",
   "metadata": {},
   "source": [
    "Now let's calculate GPA for each of those students."
   ]
  },
  {
   "cell_type": "code",
   "execution_count": null,
   "metadata": {},
   "outputs": [],
   "source": [
    "marks = [[2, 5, 5], [10, 8, 3, 9], [10, 8, 4, 5]]\n",
    "\n",
    "for item in marks:\n",
    "    print(sum(item)/len(item))"
   ]
  },
  {
   "cell_type": "markdown",
   "metadata": {},
   "source": [
    "To make our output more fancy, let's use `for i in range()`:"
   ]
  },
  {
   "cell_type": "code",
   "execution_count": null,
   "metadata": {},
   "outputs": [],
   "source": [
    "marks = [[2, 5, 5], [10, 8, 3, 9], [10, 8, 4, 5]]\n",
    "\n",
    "for i in range(len(marks)):\n",
    "    print(f'Student #{i+1} GPA is: {sum(marks[i])/len(marks[i])}')"
   ]
  },
  {
   "cell_type": "markdown",
   "metadata": {},
   "source": [
    "## Nested dictionary\n",
    "Now let's check an example with a nested dictionary. In dictionary only **values** can be `dictionaries`, `sets` or `lists`, **not keys**.\n",
    "\n",
    "Let's start with an example where keys are strings (dates) and the values are the lists of night and day temperatures for the given day.\n",
    "\n",
    "As with lists, we can simply loop through such object and retrive the information we need. We can also use double indexing passing first the key and then the index of the item in the list-value corresponding to that key.\n",
    "\n",
    "Let's for each day print the night temperature, the day temperature and the average."
   ]
  },
  {
   "cell_type": "code",
   "execution_count": null,
   "metadata": {},
   "outputs": [],
   "source": [
    "temp = {'1st APR':[5, 11], '2nd APR':[4, 12]}\n",
    "\n",
    "for key in temp:\n",
    "    print(key) # printing the date\n",
    "    print('Nighttime (max):', temp[key][0], 'degrees')\n",
    "    print('Daytime (max):', temp[key][1], 'degrees')\n",
    "    print('Average:', sum(temp[key])/len(temp[key]), 'degrees')\n",
    "    print('*'*10)"
   ]
  },
  {
   "cell_type": "markdown",
   "metadata": {},
   "source": [
    "Check below an example how we can read data into such kind of a dictionary."
   ]
  },
  {
   "cell_type": "code",
   "execution_count": null,
   "metadata": {},
   "outputs": [],
   "source": [
    "temp = {}\n",
    "info = input(\"Data: \") # expected format of input here is '1st Mai: 10, 18'\n",
    "while info != 'END':\n",
    "    date = info.split(': ')[0]\n",
    "    temp_values = list(map(int, info.split(': ')[1].split(', ')))\n",
    "    temp[date] = temp_values\n",
    "    info = input(\"Data: \")\n",
    "    \n",
    "print(temp)"
   ]
  },
  {
   "cell_type": "markdown",
   "metadata": {},
   "source": [
    "Now let's solve a problem. Imagine that Ilya wants to watch an anime and he asks his friends for the recommendations. Ilya will watch the anime which was recommended by the majority of people.\n",
    "\n",
    "**INPUT FORMAT:**\n",
    "* An unknown number of lines in a format `<ANIME TITLE>: <FRIEND NAME>`\n",
    "* One friend can recommend several titles.\n",
    "\n",
    "**OUTPUT FORMAT:**\n",
    "* Title of the anime that Ilya will watch."
   ]
  },
  {
   "cell_type": "markdown",
   "metadata": {},
   "source": [
    "This is not the easiest problem, let's first read the data in the dictionary. Since one friend can recommend many animes, convenient format here would be to store the data in such dictionary where the title would be a key and the list of friends who have recommended it — a value."
   ]
  },
  {
   "cell_type": "code",
   "execution_count": null,
   "metadata": {},
   "outputs": [],
   "source": [
    "anime = {}\n",
    "advice = input(\"Data: \")    # reading the line like \"Tenki no ko: Pasha\"\n",
    "while advice != \"END\":\n",
    "    anime_title = advice.split(': ')[0]   # saving title to a variable\n",
    "    friend = advice.split(': ')[1]    # retrieving a friend's name\n",
    "    if anime_title not in anime:      # if such anime was not yet recommended\n",
    "        anime[anime_title] = [friend] # then create such key and assign a list consisting of one name to it\n",
    "    else:     # if such anime was already recommended\n",
    "        anime[anime_title].append(friend)    # than append a new friend's name to an existing list assigned to that key\n",
    "    advice = input(\"Data: \")    # read a new input\n",
    "\n",
    "print(anime)    # checking our list"
   ]
  },
  {
   "cell_type": "markdown",
   "metadata": {},
   "source": [
    "Great! We got quite a complex structure but it will help us to solve that problem quite nicely. Now we need to get to the second part. We have to find how many friends recommended each anime and which one got the maximum number of recommendations. We can compute the length of all values (lists with recommenders names) via `map()` function and then find the maximum."
   ]
  },
  {
   "cell_type": "code",
   "execution_count": null,
   "metadata": {},
   "outputs": [],
   "source": [
    "print(list(map(len, anime.values()))) # computing number of recommendations for each anime\n",
    "max_recs = max(map(len, anime.values())) # finding the highest number of recommendations\n",
    "print(max_recs)"
   ]
  },
  {
   "cell_type": "markdown",
   "metadata": {},
   "source": [
    "Now that we have the maximum number of recommendations, let's find the key which value has exactly the same length."
   ]
  },
  {
   "cell_type": "code",
   "execution_count": null,
   "metadata": {},
   "outputs": [],
   "source": [
    "for key in anime:\n",
    "    if len(anime[key]) == max_recs:\n",
    "        print(key)"
   ]
  },
  {
   "cell_type": "markdown",
   "metadata": {},
   "source": [
    "In case if we were not to come with a `map()` function trick, we could do it in a more lengthy way."
   ]
  },
  {
   "cell_type": "code",
   "execution_count": null,
   "metadata": {},
   "outputs": [],
   "source": [
    "max_recommend = 0 # initiating a counter variable\n",
    "for key in anime:\n",
    "    if len(anime[key]) > max_recommend: # if current anime has the highest number of recommendations\n",
    "        title_recommend = key # then update title of anime that Ilya will watch\n",
    "        max_recommend = len(anime[key]) # update the current maximum number of recommendations\n",
    "\n",
    "print(title_recommend)"
   ]
  },
  {
   "cell_type": "markdown",
   "metadata": {},
   "source": [
    "Now let's get the code for the problem in one place:"
   ]
  },
  {
   "cell_type": "code",
   "execution_count": null,
   "metadata": {},
   "outputs": [],
   "source": [
    "anime = {}\n",
    "advice = input() # reading the line like \"Tenki no ko: Pasha\"\n",
    "while advice != \"END\":\n",
    "    anime_title = advice.split(': ')[0] # saving title to a variable\n",
    "    friend = advice.split(': ')[1] # retrieving a friend's name\n",
    "    if anime_title not in anime: # if such anime was not yet recommended\n",
    "        anime[anime_title] = [friend] # then create such key and assign a list consisting of one name to it\n",
    "    else: # if such anime was already recommended\n",
    "        anime[anime_title].append(friend) # than append a new friend's name to an existing list assigned to that key\n",
    "    advice = input() # read a new input\n",
    "\n",
    "max_recs = max(map(len, anime.values())) # finding the maximum\n",
    "\n",
    "for key in anime:\n",
    "    if len(anime[key]) == max_recs:\n",
    "        print(key) # printing the title with the maximum number of recommendations"
   ]
  },
  {
   "cell_type": "code",
   "execution_count": null,
   "metadata": {},
   "outputs": [],
   "source": []
  },
  {
   "cell_type": "code",
   "execution_count": null,
   "metadata": {},
   "outputs": [],
   "source": []
  },
  {
   "cell_type": "code",
   "execution_count": null,
   "metadata": {},
   "outputs": [],
   "source": []
  },
  {
   "cell_type": "code",
   "execution_count": null,
   "metadata": {},
   "outputs": [],
   "source": []
  },
  {
   "cell_type": "markdown",
   "metadata": {},
   "source": [
    "# 2. User-defined functions in Python\n",
    "\n",
    "We use a lot of functions when we are programming. But often it is useful to define user's functions. Let's find out how to do that.\n",
    "\n",
    "``` python\n",
    "def name_of_the_function(parameters):\n",
    "  *some instructions*\n",
    "  return result\n",
    "```\n",
    "\n",
    "Above there is the schema for the function creation.\n",
    "* You need the keyword `def` to define your own function.\n",
    "* You need to name it with the same restrictions applicable to variables names: you cannot use spaces within the name; the name cannot start with a digit; it should not be the same as the name of existing Python's functions.\n",
    "* Then in parentheses you specify the number of parameters (arguments) that your function will take and to which local variables they will be assigned.\n",
    "* Then there is an indented block after the colon where you can specify any instructions you want.\n",
    "* The line with a keyword `return` is not mandatory, but you will have to write it if you want to use the result of function later (e.g. to assign it to a variable or to use in conditional statement, etc.).\n",
    "* We shouldn't call a function before defining one! It would lead to an error.\n",
    "\n",
    "Let's define our very first function."
   ]
  },
  {
   "cell_type": "markdown",
   "metadata": {},
   "source": [
    "Our function would be named `currency_converter`. It will take a number as an argument and will assign it to a `rub` variable. It will covert rubles to dollars according to an exchange rate 74.73 rubles per one dollar."
   ]
  },
  {
   "cell_type": "code",
   "execution_count": null,
   "metadata": {},
   "outputs": [],
   "source": [
    "def currency_converter(rub): # defining a function\n",
    "    dollars = rub / 91.54\n",
    "\n",
    "my_rubs = 200\n",
    "\n",
    "print(currency_converter(my_rubs)) # calling a function"
   ]
  },
  {
   "cell_type": "markdown",
   "metadata": {},
   "source": [
    "Hm, the code above produced nothing. Why? Because we did not get our function to return any result. Maybe we have to print `dollars` variable to get it?"
   ]
  },
  {
   "cell_type": "code",
   "execution_count": null,
   "metadata": {},
   "outputs": [],
   "source": [
    "print(dollars)"
   ]
  },
  {
   "cell_type": "markdown",
   "metadata": {},
   "source": [
    "An error. The thing is that all the variables that we define within a function are called `local` variables because they don't exist outside of it. So the only way to get something out of function is to `return` it. Let's try adding new line to our function."
   ]
  },
  {
   "cell_type": "code",
   "execution_count": null,
   "metadata": {},
   "outputs": [],
   "source": [
    "def currency_converter(rub):\n",
    "    dollars = rub / 74.73\n",
    "    return round(dollars, 2) # return the variable value rounded to 2 digits after the dot\n",
    "\n",
    "my_rubs = 200\n",
    "print(currency_converter(my_rubs))"
   ]
  },
  {
   "cell_type": "markdown",
   "metadata": {},
   "source": [
    "Amazing! We can even assign the result produced by a function to a variable if we need to.\n",
    "\n",
    "Now let's speak about the parameters. We've specified that our function `currency_converter` takes one argument. What will happen if we try to pass no arguments or two arguments?"
   ]
  },
  {
   "cell_type": "code",
   "execution_count": null,
   "metadata": {},
   "outputs": [],
   "source": [
    "print(currency_converter()) # error saying that 1 argument is required"
   ]
  },
  {
   "cell_type": "code",
   "execution_count": null,
   "metadata": {},
   "outputs": [],
   "source": [
    "print(currency_converter(200, 10)) # error saying that there are too many arguments"
   ]
  },
  {
   "cell_type": "markdown",
   "metadata": {},
   "source": [
    "So basically when designing a function you specify the number of arguments it will take. You can specify more than one! You can even specify an indefinite amount of arguments. You can read about it [here](https://www.geeksforgeeks.org/args-kwargs-python/#:~:text=The%20special%20syntax%20*args%20in,used%20with%20the%20word%20args.). But once specified you cannot pass different amount of arguments to your function. Too less or too many would lead to an error.\n",
    "\n",
    "But how does Python know that our argument should be a number? It actually does not. You can try to pass a string to `currency_converter` and Python will throw an error that it cannot divide a string by a float when it comes to a calculation."
   ]
  },
  {
   "cell_type": "code",
   "execution_count": null,
   "metadata": {},
   "outputs": [],
   "source": [
    "print(currency_converter('100'))"
   ]
  },
  {
   "cell_type": "markdown",
   "metadata": {},
   "source": [
    "However, in some cases you may end up with functions that will be able to perfrorm the needed instructions to the 'wrong' datatype. So watch for this. Basically, the data type of function arguments is restricted only by the instructions that you specify inside the function.\n",
    "\n",
    "Assume that you wrote a function that you were planning to use to add two numbers together. However, it will work with two strings and even with two lists since `+` operator can be used for those data types as well."
   ]
  },
  {
   "cell_type": "code",
   "execution_count": null,
   "metadata": {},
   "outputs": [],
   "source": [
    "def sum_a_b(a, b):\n",
    "    return a + b\n",
    "\n",
    "print(sum_a_b(10, 4)) # sums two integers\n",
    "print(sum_a_b('10', '4')) # concatenates two strings\n",
    "print(sum_a_b([2, 4], ['cat', 'dog'])) # concatenates two lists"
   ]
  },
  {
   "cell_type": "markdown",
   "metadata": {},
   "source": [
    "By the way, we've just specified the function that takes two arguments! `sum_a_b` will throw an error if you will try to pass any number of argument that is not two.\n",
    "\n",
    "We can also specify a **default value** for an argument. In that case that default value would be used if that argument is not passed when calling the function.\n",
    "\n",
    "In the example `currency_converter_2` takes two arguments — amount of rubles and the exchange rate. If the rate is not passed, then default rate (91.54) would be used."
   ]
  },
  {
   "cell_type": "code",
   "execution_count": null,
   "metadata": {},
   "outputs": [],
   "source": [
    "def currency_converter_2(rub, rate=91.54): # specifying a default value\n",
    "    return round(rub / rate, 2)\n",
    "\n",
    "print(currency_converter_2(100, 70))\n",
    "print(currency_converter_2(100, 30))\n",
    "print(currency_converter_2(200)) # converting with a default rate"
   ]
  },
  {
   "cell_type": "markdown",
   "metadata": {},
   "source": [
    "There can be also the functions with no arguments and with no `return` keyword. Such functions are more exotic and are usually used to debug the code or check the progress when running the programs."
   ]
  },
  {
   "cell_type": "code",
   "execution_count": null,
   "metadata": {},
   "outputs": [],
   "source": [
    "def info():\n",
    "    print(f'The file was downloaded {cnt} times today')\n",
    "\n",
    "cnt = 17 # some global variable that would be accessed within a function\n",
    "info() # not using print() because function returns nothing and prints info by itself"
   ]
  },
  {
   "cell_type": "markdown",
   "metadata": {},
   "source": [
    "When to define your own function? Sometimes it is just neat to pack lengthy instructions that are expected to be called several times throughout a project into the short name. In other cases we need to define a function to pass it to other functions.\n",
    "\n",
    "E.g. let's write our own function to use with `map()`. Imagine that we have a list of ages of the respondents to the questionnaire. But some of them by mistake wrote the year of birth. Let's write a function that will check whether the age or YoB was inputted, and then convert the latter in the age by deducting it from the current year."
   ]
  },
  {
   "cell_type": "code",
   "execution_count": null,
   "metadata": {},
   "outputs": [],
   "source": [
    "def get_age(number):\n",
    "    if number > 1000: # checking that number is indeed YoB and not age\n",
    "        return 2024 - number # if yes then calculate the age\n",
    "    return number # if no then return number (age) unchanged\n",
    "\n",
    "answers = [26, 2005, 31, 15, 2003]\n",
    "print(list(map(get_age, answers)))"
   ]
  },
  {
   "cell_type": "markdown",
   "metadata": {},
   "source": [
    "In the example above we didn't use `else`. We actually could but it would be redundant. When a function hits `return`, it exits, no other code within that function would be executed. That is why we can bypass `else` in this case.\n",
    "\n",
    "We can also call a function within a function. Let's make our example a bit more complicated. Let's say that we are not interested in the age per se, but rather to see whether the respondent is a minor or not. Let's define the second function that would call `get_age()` within itself."
   ]
  },
  {
   "cell_type": "code",
   "execution_count": null,
   "metadata": {},
   "outputs": [],
   "source": [
    "def get_age(number): # defining the first function\n",
    "    if number > 1000:\n",
    "        return 2024 - number\n",
    "    return number\n",
    "\n",
    "def is_minor(age): # defining the second function that does the `minor check`\n",
    "    if get_age(age) >= 18: # before the comparison function get_age is called\n",
    "        return 'Not minor'\n",
    "    return 'Minor'\n",
    "\n",
    "answers = [26, 2007, 31, 15, 2003]\n",
    "print(list(map(is_minor, answers)))"
   ]
  },
  {
   "cell_type": "markdown",
   "metadata": {},
   "source": [
    "## Modules\n",
    "\n",
    "In the future we will use not only standard Python functions and our very own functions, but we will also import different `modules` — collections of the functions and variables to solve particular problems.\n",
    "\n",
    "To import a module we use `import` keyword and then specify a module name to import. Sometimes we will have to download the module first, but not now.\n",
    "\n",
    "Then to call a function or a variable from a module we will have to type a module's name, then put a dot and then call a function. All the functions and variables available in the module we can find in documentation. Below are few examples."
   ]
  },
  {
   "cell_type": "markdown",
   "metadata": {},
   "source": [
    "### Module math\n",
    "\n",
    "Collection of the most basic math functions and variables. Documentation is [here](https://docs.python.org/3/library/math.html)."
   ]
  },
  {
   "cell_type": "code",
   "execution_count": null,
   "metadata": {},
   "outputs": [],
   "source": [
    "import math # importing math\n",
    "\n",
    "print(math.log(10)) # calling logarithm function from math\n",
    "print(math.sqrt(10)) # calling square root function\n",
    "print(math.pi) # calling pi variable"
   ]
  },
  {
   "cell_type": "markdown",
   "metadata": {},
   "source": [
    "### Module calendar\n",
    "\n",
    "Collection of the basic calendar and dates related functions and variables. More [here](https://docs.python.org/3/library/calendar.html?highlight=calendar#module-calendar)."
   ]
  },
  {
   "cell_type": "code",
   "execution_count": null,
   "metadata": {},
   "outputs": [],
   "source": [
    "import calendar\n",
    "print(calendar.weekday(2024,2,29)) # calling a function that\n",
    "                                  # returns index of day of a week for a given date\n",
    "# Python is 0 index"
   ]
  },
  {
   "cell_type": "markdown",
   "metadata": {},
   "source": [
    "### Module string\n",
    "\n",
    "Formatting string operations and useful string variables. More [here](https://docs.python.org/3/library/string.html?highlight=string#module-string).\n",
    "\n",
    "Let's do a small example and clean the text from the punctuation symbols using the imported variable that contains all of them."
   ]
  },
  {
   "cell_type": "code",
   "execution_count": null,
   "metadata": {},
   "outputs": [],
   "source": [
    "import string\n",
    "print(string.punctuation) # punctiation variable consists all basic punctuation symbols\n",
    "\n",
    "text = \"hi, it's me!\" # our text to clean\n",
    "\n",
    "clean_text = '' # initiating an empty string to store a clean text\n",
    "for symbol in text:\n",
    "    if symbol not in string.punctuation: # if the symbol is not a punctuation then add it to the clean_text\n",
    "        clean_text += symbol\n",
    "\n",
    "print(clean_text) # print the text without punctuation"
   ]
  },
  {
   "cell_type": "code",
   "execution_count": null,
   "metadata": {},
   "outputs": [],
   "source": []
  },
  {
   "cell_type": "code",
   "execution_count": null,
   "metadata": {},
   "outputs": [],
   "source": []
  },
  {
   "cell_type": "code",
   "execution_count": null,
   "metadata": {},
   "outputs": [],
   "source": []
  },
  {
   "cell_type": "markdown",
   "metadata": {},
   "source": [
    "# 3. Working with Files in Python"
   ]
  },
  {
   "cell_type": "markdown",
   "metadata": {},
   "source": [
    "Reading and writing data to files using Python is pretty straightforward. To do this, you must first open files in the appropriate mode.\n",
    "\n",
    "`open()` takes a filename (e.g. some `.txt` file) and a mode as its arguments. `r` opens the file in read only mode. To write data to a file, pass in `w` as an argument instead, to append new text use `a`. In the following syntax, when you're finished with working with the file, you need to close it, applying the corresponding method."
   ]
  },
  {
   "cell_type": "code",
   "execution_count": null,
   "metadata": {},
   "outputs": [],
   "source": [
    "fh = open('test_file.txt', mode='w') # w - write\n",
    "fh.write('Hi!')\n",
    "fh.close()"
   ]
  },
  {
   "cell_type": "code",
   "execution_count": null,
   "metadata": {},
   "outputs": [],
   "source": [
    "fh = open('test_file.txt', mode='a') # a - append\n",
    "fh.write('How are you?')\n",
    "fh.close()"
   ]
  },
  {
   "cell_type": "markdown",
   "metadata": {},
   "source": [
    "Let's try to write several lines into our file using `\\n`"
   ]
  },
  {
   "cell_type": "code",
   "execution_count": null,
   "metadata": {},
   "outputs": [],
   "source": [
    "# file handle, infile\n",
    "fh = open('new_test_file.txt', mode='w')\n",
    "fh.write('Hi!\\n')\n",
    "fh.write('How are you?\\n')\n",
    "fh.write('Fine! Thank you!')\n",
    "fh.close()"
   ]
  },
  {
   "cell_type": "markdown",
   "metadata": {},
   "source": [
    "If you have already some data stored in a list, for example, you may write information into the file using for loop."
   ]
  },
  {
   "cell_type": "code",
   "execution_count": null,
   "metadata": {},
   "outputs": [],
   "source": [
    "students = ['Anna', 'Maria', 'Alexandra']\n",
    "fh = open('students.txt', mode='w')\n",
    "for name in students:\n",
    "    fh.write(name + '\\n')\n",
    "fh.close()"
   ]
  },
  {
   "cell_type": "markdown",
   "metadata": {},
   "source": [
    "Usually, it's better to define the encoding which you use for writing/reading the file in order not to get encoding problems. `UTF-8` is one of the most commonly used encodings, and Python often defaults to using it. UTF stands for “Unicode Transformation Format”, and the '8' means that 8-bit values are used in the encoding. (There are also `UTF-16` and `UTF-32` encodings, but they are less frequently used than `UTF-8`.)"
   ]
  },
  {
   "cell_type": "code",
   "execution_count": null,
   "metadata": {},
   "outputs": [],
   "source": [
    "fh = open('students.txt', mode='r', encoding='utf8') # r - reading\n",
    "x = fh.read()\n",
    "fh.close()"
   ]
  },
  {
   "cell_type": "code",
   "execution_count": null,
   "metadata": {},
   "outputs": [],
   "source": [
    "fh = open('students.txt', mode='r', encoding='utf8')\n",
    "for item in fh:\n",
    "    print(item, end='')\n",
    "    print('*'*10)\n",
    "fh.close()"
   ]
  },
  {
   "cell_type": "markdown",
   "metadata": {},
   "source": [
    "Here’s an example of how to use Python’s “with open(…) as …” pattern to open a text file and read its contents. It's more convenient to use this snippet of code as you don't need to close the file. “with open(…) as …” context manager will do it automatically."
   ]
  },
  {
   "cell_type": "code",
   "execution_count": null,
   "metadata": {},
   "outputs": [],
   "source": [
    "with open('students.txt') as fh:\n",
    "    print(fh.read())"
   ]
  },
  {
   "cell_type": "code",
   "execution_count": null,
   "metadata": {},
   "outputs": [],
   "source": [
    "with open('students.txt') as fh:\n",
    "    st = fh.readlines()\n",
    "\n",
    "for item in st:\n",
    "    print('Name:', item.strip())"
   ]
  },
  {
   "cell_type": "code",
   "execution_count": null,
   "metadata": {},
   "outputs": [],
   "source": []
  }
 ],
 "metadata": {
  "colab": {
   "provenance": []
  },
  "kernelspec": {
   "display_name": "Python 3 (ipykernel)",
   "language": "python",
   "name": "python3"
  },
  "language_info": {
   "codemirror_mode": {
    "name": "ipython",
    "version": 3
   },
   "file_extension": ".py",
   "mimetype": "text/x-python",
   "name": "python",
   "nbconvert_exporter": "python",
   "pygments_lexer": "ipython3",
   "version": "3.10.9"
  }
 },
 "nbformat": 4,
 "nbformat_minor": 1
}
