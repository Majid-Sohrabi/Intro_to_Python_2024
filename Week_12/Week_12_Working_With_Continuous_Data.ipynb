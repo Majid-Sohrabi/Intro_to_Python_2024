{
 "cells": [
  {
   "cell_type": "markdown",
   "metadata": {
    "id": "d8ShhvetFpA7"
   },
   "source": [
    "# Week 12: Working With Continuous Data\n",
    "\n",
    "Source: [MNE-Python](https://mne.tools/stable/index.html)"
   ]
  },
  {
   "cell_type": "markdown",
   "metadata": {},
   "source": [
    "## 1. The Raw data structure: continuous data\n",
    "\n",
    "This tutorial covers the basics of working with raw EEG/MEG data in Python. It introduces the `~mne.io.Raw` data structure in detail, including how to load, query, subselect, export, and plot data from a `~mne.io.Raw` object. For more info on visualization of `~mne.io.Raw` objects, see `tut-visualize-raw`. For info on creating a `~mne.io.Raw` object from simulated data in a `NumPy array <numpy.ndarray>`, see `tut-creating-data-structures`.\n",
    "\n",
    "As usual we'll start by importing the modules we need:"
   ]
  },
  {
   "cell_type": "code",
   "execution_count": null,
   "metadata": {},
   "outputs": [],
   "source": [
    "import os\n",
    "\n",
    "import matplotlib.pyplot as plt\n",
    "import numpy as np\n",
    "\n",
    "import mne"
   ]
  },
  {
   "cell_type": "markdown",
   "metadata": {},
   "source": [
    "### Loading continuous data\n",
    "\n",
    "Datasets in MNE-Python:\n",
    "```\n",
    "There are data_path functions for several example datasets in MNE-Python (e.g., mne.datasets.kiloword.data_path(), mne.datasets.spm_face.data_path(), etc). All of them will check the default download location first to see if the dataset is already on your computer, and only download it if necessary. The default download location is also configurable; see the documentation of any of the data_path functions for more information.\n",
    "```\n",
    "\n",
    "As mentioned in `the introductory tutorial <tut-overview>`, MNE-Python data structures are based around the `.fif` file format from Neuromag. This tutorial uses an `example dataset <sample-dataset>` in `.fif` format, so here we'll use the function `mne.io.read_raw_fif` to load the raw data; there are reader functions for `a wide variety of other data formats <data-formats>` as well.\n",
    "\n",
    "There are also `several other example datasets <datasets>` that can be downloaded with just a few lines of code. Functions for downloading example datasets are in the `mne.datasets` submodule; here we'll use `mne.datasets.sample.data_path` to download the \"`sample-dataset`\" dataset, which contains EEG, MEG, and structural MRI data from one subject performing an audiovisual experiment. When it's done downloading, `~mne.datasets.sample.data_path` will return the folder location where it put the files; you can navigate there with your file browser if you want to examine the files yourself. Once we have the file path, we can load the data with `~mne.io.read_raw_fif`. This will return a `~mne.io.Raw` object, which we'll store in a variable called ``raw``."
   ]
  },
  {
   "cell_type": "code",
   "execution_count": null,
   "metadata": {},
   "outputs": [],
   "source": [
    "sample_data_folder = mne.datasets.sample.data_path()\n",
    "sample_data_raw_file = os.path.join(\n",
    "    sample_data_folder, \"MEG\", \"sample\", \"sample_audvis_raw.fif\"\n",
    ")\n",
    "raw = mne.io.read_raw_fif(sample_data_raw_file)"
   ]
  },
  {
   "cell_type": "markdown",
   "metadata": {},
   "source": [
    "As you can see above, `~mne.io.read_raw_fif` automatically displays some information about the file it's loading. For example, here it tells us that there are three \"projection items\" in the file along with the recorded\n",
    "data; those are `SSP projectors <projector>` calculated to remove environmental noise from the MEG signals, and are discussed in a the tutorial `tut-projectors-background`. In addition to the information displayed during loading, you can get a glimpse of the basic details of a `~mne.io.Raw` object by printing it:"
   ]
  },
  {
   "cell_type": "code",
   "execution_count": null,
   "metadata": {},
   "outputs": [],
   "source": [
    "print(raw)"
   ]
  },
  {
   "cell_type": "markdown",
   "metadata": {},
   "source": [
    "By default, the `mne.io.read_raw_{*}` family of functions will *not* load the data into memory (instead the data on disk are `memory-mapped`_, meaning the data are only read from disk as-needed). Some operations (such as\n",
    "filtering) require that the data be copied into RAM; to do that we could have passed the ``preload=True`` parameter to `~mne.io.read_raw_fif`, but we can also copy the data into RAM at any time using the\n",
    "`~mne.io.Raw.load_data` method. However, since this particular tutorial doesn't do any serious analysis of the data, we'll first `~mne.io.Raw.crop` the `~mne.io.Raw` object to 60 seconds so it uses less memory and runs more smoothly on our documentation server."
   ]
  },
  {
   "cell_type": "code",
   "execution_count": null,
   "metadata": {},
   "outputs": [],
   "source": [
    "raw.crop(tmax=60)"
   ]
  },
  {
   "cell_type": "markdown",
   "metadata": {},
   "source": [
    "### Querying the Raw object\n",
    "\n",
    "Attributes vs. Methods:\n",
    "\n",
    "```\n",
    "Attributes are usually static properties of Python objects — things that are pre-computed and stored as part of the object’s representation in memory. Attributes are accessed with the . operator and do not require parentheses after the attribute name (example: raw.ch_names).\n",
    "\n",
    "Methods are like specialized functions attached to an object. Usually they require additional user input and/or need some computation to yield a result. Methods always have parentheses at the end; additional arguments (if any) go inside those parentheses (examples: raw.estimate_rank(), raw.drop_channels(['EEG 030', 'MEG 2242'])).\n",
    "```\n",
    "\n",
    "We saw above that printing the `~mne.io.Raw` object displays some basic information like the total number of channels, the number of time points at which the data were sampled, total duration, and the approximate size in memory. Much more information is available through the various *attributes* and *methods* of the `~mne.io.Raw` class. Some useful attributes of `~mne.io.Raw` objects include a list of the channel names (`~mne.io.Raw.ch_names`), an array of the sample times in seconds (`~mne.io.Raw.times`), and the total number of samples (`~mne.io.Raw.n_times`); a list of all attributes and methods is given in the documentation of the `~mne.io.Raw` class.\n",
    "\n",
    "### The ``Raw.info`` attribute\n",
    "\n",
    "There is also quite a lot of information stored in the ``raw.info`` attribute, which stores an `~mne.Info` object that is similar to a `Python dictionary <dict>` (in that it has fields accessed via named keys). Like Python dictionaries, ``raw.info`` has a ``.keys()`` method that shows all the available field names; unlike Python dictionaries, printing ``raw.info`` will print a nicely-formatted glimpse of each field's data. See `tut-info-class` for more on what is stored in `~mne.Info` objects, and how to interact with them."
   ]
  },
  {
   "cell_type": "code",
   "execution_count": null,
   "metadata": {},
   "outputs": [],
   "source": [
    "n_time_samps = raw.n_times\n",
    "time_secs = raw.times\n",
    "ch_names = raw.ch_names\n",
    "n_chan = len(ch_names)  # note: there is no raw.n_channels attribute\n",
    "print(\n",
    "    f\"the (cropped) sample data object has {n_time_samps} time samples and \"\n",
    "    f\"{n_chan} channels.\"\n",
    ")\n",
    "print(f\"The last time sample is at {time_secs[-1]} seconds.\")\n",
    "print(\"The first few channel names are {}.\".format(\", \".join(ch_names[:3])))\n",
    "print()  # insert a blank line in the output\n",
    "\n",
    "# some examples of raw.info:\n",
    "print(\"bad channels:\", raw.info[\"bads\"])  # chs marked \"bad\" during acquisition\n",
    "print(raw.info[\"sfreq\"], \"Hz\")  # sampling frequency\n",
    "print(raw.info[\"description\"], \"\\n\")  # miscellaneous acquisition info\n",
    "\n",
    "print(raw.info)"
   ]
  },
  {
   "cell_type": "markdown",
   "metadata": {},
   "source": [
    "**Note:**\n",
    "\n",
    "```\n",
    "Most of the fields of raw.info reflect metadata recorded at acquisition time, and should not be changed by the user. There are a few exceptions (such as raw.info['bads'] and raw.info['projs']), but in most cases there are dedicated MNE-Python functions or methods to update the Info object safely (such as add_proj() to update raw.info['projs']).\n",
    "```\n",
    "\n",
    "### Time, sample number, and sample index\n",
    "\n",
    "Sample numbering in VectorView data:\n",
    "\n",
    "```\n",
    "For data from VectorView systems, it is important to distinguish sample number from sample index. See first_samp for more information.\n",
    "```\n",
    "\n",
    "One method of `Raw` objects that is frequently useful is `time_as_index()`, which converts a time (in seconds) into the integer index of the sample occurring closest to that time. The method can also take a list or array of times, and will return an array of indices.\n",
    "\n",
    "It is important to remember that there may not be a data sample at exactly the time requested, so the number of samples between `time = 1` second and `time = 2` seconds may be different than the number of samples between `time = 2` and `time = 3`:"
   ]
  },
  {
   "cell_type": "code",
   "execution_count": null,
   "metadata": {},
   "outputs": [],
   "source": [
    "print(raw.time_as_index(20))\n",
    "print(raw.time_as_index([20, 30, 40]), \"\\n\")\n",
    "\n",
    "print(np.diff(raw.time_as_index([1, 2, 3])))"
   ]
  },
  {
   "cell_type": "markdown",
   "metadata": {},
   "source": [
    "### Modifying ``Raw`` objects\n",
    "\n",
    "**len(raw):**\n",
    "\n",
    "```\n",
    "Although the Raw object underlyingly stores data samples in a NumPy array of shape (n_channels, n_timepoints), the Raw object behaves differently from NumPy arrays with respect to the len() function. len(raw) will return the number of timepoints (length along data axis 1), not the number of channels (length along data axis 0). Hence in this section you’ll see len(raw.ch_names) to get the number of channels.\n",
    "```\n",
    "\n",
    "`~mne.io.Raw` objects have a number of methods that modify the `~mne.io.Raw` instance in-place and return a reference to the modified instance. This can be useful for `method chaining`_\n",
    "(e.g., ``raw.crop(...).pick(...).filter(...).plot()``) but it also poses a problem during interactive analysis: if you modify your `~mne.io.Raw` object for an exploratory plot or analysis (say, by dropping some channels), you will then need to re-load the data (and repeat any earlier processing steps) to undo the channel-dropping and try something else. For that reason, the examples in this section frequently use the `~mne.io.Raw.copy` method before the other methods being demonstrated, so that the original `~mne.io.Raw` object is still available in the variable ``raw`` for use in later examples.\n",
    "\n",
    "### Selecting, dropping, and reordering channels\n",
    "\n",
    "Altering the channels of a `~mne.io.Raw` object can be done in several ways. As a first example, we'll use the `~mne.io.Raw.pick` method to restrict the `~mne.io.Raw` object to just the EEG and EOG channels:"
   ]
  },
  {
   "cell_type": "code",
   "execution_count": null,
   "metadata": {},
   "outputs": [],
   "source": [
    "eeg_and_eog = raw.copy().pick(picks=[\"eeg\", \"eog\"])\n",
    "print(len(raw.ch_names), \"→\", len(eeg_and_eog.ch_names))"
   ]
  },
  {
   "cell_type": "markdown",
   "metadata": {},
   "source": [
    "In addition, `~mne.io.Raw.pick` can also be used to pick channels by name, and a\n",
    "corresponding `~mne.io.Raw.drop_channels` method to remove channels by\n",
    "name:"
   ]
  },
  {
   "cell_type": "code",
   "execution_count": null,
   "metadata": {},
   "outputs": [],
   "source": [
    "raw_temp = raw.copy()\n",
    "print(\"Number of channels in raw_temp:\")\n",
    "print(len(raw_temp.ch_names), end=\" → drop two → \")\n",
    "raw_temp.drop_channels([\"EEG 037\", \"EEG 059\"])\n",
    "print(len(raw_temp.ch_names), end=\" → pick three → \")\n",
    "raw_temp.pick([\"MEG 1811\", \"EEG 017\", \"EOG 061\"])\n",
    "print(len(raw_temp.ch_names))"
   ]
  },
  {
   "cell_type": "markdown",
   "metadata": {},
   "source": [
    "If you want the channels in a specific order (e.g., for plotting), `~mne.io.Raw.reorder_channels` works just like `~mne.io.Raw.pick` but also reorders the channels; for example, here we pick the EOG and frontal EEG channels, putting the EOG first and the EEG in reverse order:"
   ]
  },
  {
   "cell_type": "code",
   "execution_count": null,
   "metadata": {},
   "outputs": [],
   "source": [
    "channel_names = [\"EOG 061\", \"EEG 003\", \"EEG 002\", \"EEG 001\"]\n",
    "eog_and_frontal_eeg = raw.copy().reorder_channels(channel_names)\n",
    "print(eog_and_frontal_eeg.ch_names)"
   ]
  },
  {
   "cell_type": "markdown",
   "metadata": {},
   "source": [
    "### Changing channel name and type\n",
    "\n",
    "**Long channel names:**\n",
    "\n",
    "```\n",
    "Due to limitations in the .fif file format (which MNE-Python uses to save Raw objects), channel names are limited to a maximum of 15 characters.\n",
    "```\n",
    "\n",
    "You may have noticed that the EEG channel names in the sample data are numbered rather than labelled according to a standard nomenclature such as the `10-20` or `10-05` systems, or perhaps it bothers you that the channel names contain spaces. It is possible to rename channels using the `rename_channels()` method, which takes a Python dictionary to map old names to new names. You need not rename all channels at once; provide only the dictionary entries for the channels you want to rename. Here’s a frivolous example:"
   ]
  },
  {
   "cell_type": "code",
   "execution_count": null,
   "metadata": {},
   "outputs": [],
   "source": [
    "raw.rename_channels({\"EOG 061\": \"blink detector\"})"
   ]
  },
  {
   "cell_type": "markdown",
   "metadata": {},
   "source": [
    "This next example replaces spaces in the channel names with underscores, using a Python `dict comprehension`_:"
   ]
  },
  {
   "cell_type": "code",
   "execution_count": null,
   "metadata": {},
   "outputs": [],
   "source": [
    "print(raw.ch_names[-3:])\n",
    "channel_renaming_dict = {name: name.replace(\" \", \"_\") for name in raw.ch_names}\n",
    "raw.rename_channels(channel_renaming_dict)\n",
    "print(raw.ch_names[-3:])"
   ]
  },
  {
   "cell_type": "markdown",
   "metadata": {},
   "source": [
    "If for some reason the channel types in your `Raw` object are inaccurate, you can change the type of any channel with the `set_channel_types()` method. The method takes a `dictionary` mapping channel names to types; allowed types are `bio, chpi, csd, dbs, dipole, ecg, ecog, eeg, emg, eog, exci, eyegaze, fnirs_cw_amplitude, fnirs_fd_ac_amplitude, fnirs_fd_phase, fnirs_od, gof, gsr, hbo, hbr, ias, misc, pupil, ref_meg, resp, seeg, stim, syst, temperature` (see sensor types for more information about them). A common use case for changing channel type is when using frontal EEG electrodes as makeshift EOG channels:"
   ]
  },
  {
   "cell_type": "code",
   "execution_count": null,
   "metadata": {},
   "outputs": [],
   "source": [
    "raw.set_channel_types({\"EEG_001\": \"eog\"})\n",
    "print(raw.copy().pick(picks=\"eog\").ch_names)"
   ]
  },
  {
   "cell_type": "markdown",
   "metadata": {},
   "source": [
    "### Selection in the time domain\n",
    "\n",
    "If you want to limit the time domain of a `~mne.io.Raw` object, you can use the `~mne.io.Raw.crop` method, which modifies the `~mne.io.Raw` object in place (we've seen this already at the start of this tutorial, when we cropped the `~mne.io.Raw` object to 60 seconds to reduce memory demands). `~mne.io.Raw.crop` takes parameters ``tmin`` and ``tmax``, both in seconds (here we'll again use `~mne.io.Raw.copy` first to avoid changing the original `~mne.io.Raw` object):"
   ]
  },
  {
   "cell_type": "code",
   "execution_count": null,
   "metadata": {},
   "outputs": [],
   "source": [
    "raw_selection = raw.copy().crop(tmin=10, tmax=12.5)\n",
    "print(raw_selection)"
   ]
  },
  {
   "cell_type": "markdown",
   "metadata": {},
   "source": [
    "`~mne.io.Raw.crop` also modifies the `~mne.io.Raw.first_samp` and\n",
    "`~mne.io.Raw.times` attributes, so that the first sample of the cropped\n",
    "object now corresponds to ``time = 0``. Accordingly, if you wanted to re-crop\n",
    "``raw_selection`` from 11 to 12.5 seconds (instead of 10 to 12.5 as above)\n",
    "then the subsequent call to `~mne.io.Raw.crop` should get ``tmin=1``\n",
    "(not ``tmin=11``), and leave ``tmax`` unspecified to keep everything from\n",
    "``tmin`` up to the end of the object:"
   ]
  },
  {
   "cell_type": "code",
   "execution_count": null,
   "metadata": {},
   "outputs": [],
   "source": [
    "print(raw_selection.times.min(), raw_selection.times.max())\n",
    "raw_selection.crop(tmin=1)\n",
    "print(raw_selection.times.min(), raw_selection.times.max())"
   ]
  },
  {
   "cell_type": "markdown",
   "metadata": {},
   "source": [
    "Remember that sample times don't always align exactly with requested ``tmin``\n",
    "or ``tmax`` values (due to sampling), which is why the ``max`` values of the\n",
    "cropped files don't exactly match the requested ``tmax`` (see\n",
    "`time-as-index` for further details).\n",
    "\n",
    "If you need to select discontinuous spans of a `~mne.io.Raw` object —\n",
    "or combine two or more separate `~mne.io.Raw` objects — you can use\n",
    "the `~mne.io.Raw.append` method:"
   ]
  },
  {
   "cell_type": "code",
   "execution_count": null,
   "metadata": {},
   "outputs": [],
   "source": [
    "raw_selection1 = raw.copy().crop(tmin=30, tmax=30.1)  # 0.1 seconds\n",
    "raw_selection2 = raw.copy().crop(tmin=40, tmax=41.1)  # 1.1 seconds\n",
    "raw_selection3 = raw.copy().crop(tmin=50, tmax=51.3)  # 1.3 seconds\n",
    "raw_selection1.append([raw_selection2, raw_selection3])  # 2.5 seconds total\n",
    "print(raw_selection1.times.min(), raw_selection1.times.max())"
   ]
  },
  {
   "cell_type": "markdown",
   "metadata": {},
   "source": [
    "<div class=\"alert alert-danger\"><h4>Warning</h4><p>Be careful when concatenating :class:`~mne.io.Raw` objects from different\n",
    "    recordings, especially when saving: `~mne.io.Raw.append` only\n",
    "    preserves the ``info`` attribute of the initial `~mne.io.Raw`\n",
    "    object (the one outside the `~mne.io.Raw.append` method call).</p></div>\n",
    "    \n",
    "    \n",
    "### Extracting data from ``Raw`` objects\n",
    "\n",
    "So far we've been looking at ways to modify a `~mne.io.Raw` object.\n",
    "This section shows how to extract the data from a `~mne.io.Raw` object\n",
    "into a `NumPy array <numpy.ndarray>`, for analysis or plotting using\n",
    "functions outside of MNE-Python. To select portions of the data,\n",
    "`~mne.io.Raw` objects can be indexed using square brackets. However,\n",
    "indexing `~mne.io.Raw` works differently than indexing a `NumPy\n",
    "array <numpy.ndarray>` in two ways:\n",
    "\n",
    "1. Along with the requested sample value(s) MNE-Python also returns an array\n",
    "   of times (in seconds) corresponding to the requested samples. The data\n",
    "   array and the times array are returned together as elements of a tuple.\n",
    "\n",
    "2. The data array will always be 2-dimensional even if you request only a\n",
    "   single time sample or a single channel.\n",
    "\n",
    "\n",
    "### Extracting data by index\n",
    "\n",
    "To illustrate the above two points, let's select a couple seconds of data\n",
    "from the first channel:"
   ]
  },
  {
   "cell_type": "code",
   "execution_count": null,
   "metadata": {},
   "outputs": [],
   "source": [
    "sampling_freq = raw.info[\"sfreq\"]\n",
    "start_stop_seconds = np.array([11, 13])\n",
    "start_sample, stop_sample = (start_stop_seconds * sampling_freq).astype(int)\n",
    "channel_index = 0\n",
    "raw_selection = raw[channel_index, start_sample:stop_sample]\n",
    "print(raw_selection)"
   ]
  },
  {
   "cell_type": "markdown",
   "metadata": {},
   "source": [
    "You can see that it contains 2 arrays. This combination of data and times makes it easy to plot selections of raw data (although note that we’re transposing the data array so that each channel is a column instead of a row, to match what matplotlib expects when plotting 2-dimensional `y` against 1-dimensional `x`):"
   ]
  },
  {
   "cell_type": "code",
   "execution_count": null,
   "metadata": {},
   "outputs": [],
   "source": [
    "x = raw_selection[1]\n",
    "y = raw_selection[0].T\n",
    "plt.plot(x, y)"
   ]
  },
  {
   "cell_type": "markdown",
   "metadata": {},
   "source": [
    "### Extracting channels by name\n",
    "\n",
    "The `~mne.io.Raw` object can also be indexed with the names of\n",
    "channels instead of their index numbers. You can pass a single string to get\n",
    "just one channel, or a list of strings to select multiple channels. As with\n",
    "integer indexing, this will return a tuple of ``(data_array, times_array)``\n",
    "that can be easily plotted. Since we're plotting 2 channels this time, we'll\n",
    "add a vertical offset to one channel so it's not plotted right on top\n",
    "of the other one:"
   ]
  },
  {
   "cell_type": "code",
   "execution_count": null,
   "metadata": {},
   "outputs": [],
   "source": [
    "channel_names = [\"MEG_0712\", \"MEG_1022\"]\n",
    "two_meg_chans = raw[channel_names, start_sample:stop_sample]\n",
    "y_offset = np.array([5e-11, 0])  # just enough to separate the channel traces\n",
    "x = two_meg_chans[1]\n",
    "y = two_meg_chans[0].T + y_offset\n",
    "lines = plt.plot(x, y)\n",
    "plt.legend(lines, channel_names)"
   ]
  },
  {
   "cell_type": "markdown",
   "metadata": {},
   "source": [
    "### Extracting channels by type\n",
    "\n",
    "There are several ways to select all channels of a given type from a\n",
    "`~mne.io.Raw` object. The safest method is to use\n",
    "`mne.pick_types` to obtain the integer indices of the channels you\n",
    "want, then use those indices with the square-bracket indexing method shown\n",
    "above. The `~mne.pick_types` function uses the `~mne.Info`\n",
    "attribute of the `~mne.io.Raw` object to determine channel types, and\n",
    "takes boolean or string parameters to indicate which type(s) to retain. The\n",
    "``meg`` parameter defaults to ``True``, and all others default to ``False``,\n",
    "so to get just the EEG channels, we pass ``eeg=True`` and ``meg=False``:"
   ]
  },
  {
   "cell_type": "code",
   "execution_count": null,
   "metadata": {},
   "outputs": [],
   "source": [
    "eeg_channel_indices = mne.pick_types(raw.info, meg=False, eeg=True)\n",
    "eeg_data, times = raw[eeg_channel_indices]\n",
    "print(eeg_data.shape)"
   ]
  },
  {
   "cell_type": "markdown",
   "metadata": {},
   "source": [
    "Some of the parameters of `mne.pick_types` accept string arguments as\n",
    "well as booleans. For example, the ``meg`` parameter can take values\n",
    "``'mag'``, ``'grad'``, ``'planar1'``, or ``'planar2'`` to select only\n",
    "magnetometers, all gradiometers, or a specific type of gradiometer. See the\n",
    "docstring of `mne.pick_types` for full details.\n",
    "\n",
    "\n",
    "### The ``Raw.get_data()`` method\n",
    "\n",
    "If you only want the data (not the corresponding array of times),\n",
    "`~mne.io.Raw` objects have a `~mne.io.Raw.get_data` method. Used\n",
    "with no parameters specified, it will extract all data from all channels, in\n",
    "a (n_channels, n_timepoints) `NumPy array <numpy.ndarray>`:"
   ]
  },
  {
   "cell_type": "code",
   "execution_count": null,
   "metadata": {},
   "outputs": [],
   "source": [
    "data = raw.get_data()\n",
    "print(data.shape)"
   ]
  },
  {
   "cell_type": "markdown",
   "metadata": {},
   "source": [
    "If you want the array of times, `~mne.io.Raw.get_data` has an optional ``return_times`` parameter:"
   ]
  },
  {
   "cell_type": "code",
   "execution_count": null,
   "metadata": {},
   "outputs": [],
   "source": [
    "data, times = raw.get_data(return_times=True)\n",
    "print(data.shape)\n",
    "print(times.shape)"
   ]
  },
  {
   "cell_type": "markdown",
   "metadata": {},
   "source": [
    "The `~mne.io.Raw.get_data` method can also be used to extract specific\n",
    "channel(s) and sample ranges, via its ``picks``, ``start``, and ``stop``\n",
    "parameters. The ``picks`` parameter accepts integer channel indices, channel\n",
    "names, or channel types, and preserves the requested channel order given as\n",
    "its ``picks`` parameter."
   ]
  },
  {
   "cell_type": "code",
   "execution_count": null,
   "metadata": {},
   "outputs": [],
   "source": [
    "first_channel_data = raw.get_data(picks=0)\n",
    "eeg_and_eog_data = raw.get_data(picks=[\"eeg\", \"eog\"])\n",
    "two_meg_chans_data = raw.get_data(picks=[\"MEG_0712\", \"MEG_1022\"], start=1000, stop=2000)\n",
    "\n",
    "print(first_channel_data.shape)\n",
    "print(eeg_and_eog_data.shape)\n",
    "print(two_meg_chans_data.shape)"
   ]
  },
  {
   "cell_type": "markdown",
   "metadata": {},
   "source": [
    "### Summary of ways to extract data from ``Raw`` objects\n",
    "\n",
    "The following table summarizes the various ways of extracting data from a `Raw` object.\n",
    "\n",
    "\n",
    "######### INSERT TABLE HERE ############\n",
    "\n",
    "########################################\n",
    "\n",
    "########################################\n",
    "\n",
    "## Exporting and saving Raw objects\n",
    "\n",
    "`~mne.io.Raw` objects have a built-in `~mne.io.Raw.save` method,\n",
    "which can be used to write a partially processed `~mne.io.Raw` object\n",
    "to disk as a `.fif` file, such that it can be re-loaded later with its\n",
    "various attributes intact (but see `precision` for an important\n",
    "note about numerical precision when saving).\n",
    "\n",
    "There are a few other ways to export just the sensor data from a\n",
    "`~mne.io.Raw` object. One is to use indexing or the\n",
    "`~mne.io.Raw.get_data` method to extract the data, and use\n",
    "`numpy.save` to save the data array:"
   ]
  },
  {
   "cell_type": "code",
   "execution_count": null,
   "metadata": {},
   "outputs": [],
   "source": [
    "data = raw.get_data()\n",
    "np.save(file=\"my_data.npy\", arr=data)"
   ]
  },
  {
   "cell_type": "markdown",
   "metadata": {},
   "source": [
    "It is also possible to export the data to a `Pandas DataFrame\n",
    "<pandas.DataFrame>` object, and use the saving methods that `Pandas\n",
    "<pandas>` affords. The `~mne.io.Raw` object's\n",
    "`~mne.io.Raw.to_data_frame` method is similar to\n",
    "`~mne.io.Raw.get_data` in that it has a ``picks`` parameter for\n",
    "restricting which channels are exported, and ``start`` and ``stop``\n",
    "parameters for restricting the time domain. Note that, by default, times will\n",
    "be converted to milliseconds, rounded to the nearest millisecond, and used as\n",
    "the DataFrame index; see the ``scaling_time`` parameter in the documentation\n",
    "of `~mne.io.Raw.to_data_frame` for more details."
   ]
  },
  {
   "cell_type": "code",
   "execution_count": null,
   "metadata": {},
   "outputs": [],
   "source": [
    "sampling_freq = raw.info[\"sfreq\"]\n",
    "start_end_secs = np.array([10, 13])\n",
    "start_sample, stop_sample = (start_end_secs * sampling_freq).astype(int)\n",
    "df = raw.to_data_frame(picks=[\"eeg\"], start=start_sample, stop=stop_sample)\n",
    "# then save using df.to_csv(...), df.to_hdf(...), etc\n",
    "print(df.head())"
   ]
  },
  {
   "cell_type": "markdown",
   "metadata": {},
   "source": [
    "<div class=\"alert alert-info\"><h4>Note</h4><p>When exporting data as a `NumPy array <numpy.ndarray>` or\n",
    "    `Pandas DataFrame <pandas.DataFrame>`, be sure to properly account\n",
    "    for the `unit of representation <units>` in your subsequent\n",
    "    analyses.</p></div>"
   ]
  },
  {
   "cell_type": "code",
   "execution_count": null,
   "metadata": {},
   "outputs": [],
   "source": []
  },
  {
   "cell_type": "code",
   "execution_count": null,
   "metadata": {},
   "outputs": [],
   "source": []
  },
  {
   "cell_type": "code",
   "execution_count": null,
   "metadata": {},
   "outputs": [],
   "source": []
  },
  {
   "cell_type": "markdown",
   "metadata": {},
   "source": [
    "## 2. Working with events\n",
    "\n",
    "\n",
    "This tutorial describes event representation and how event arrays are used to\n",
    "subselect data.\n",
    "\n",
    "As usual we'll start by importing the modules we need, loading some\n",
    "`example data <sample-dataset>`, and cropping the `~mne.io.Raw`\n",
    "object to just 60 seconds before loading it into RAM to save memory:"
   ]
  },
  {
   "cell_type": "code",
   "execution_count": null,
   "metadata": {},
   "outputs": [],
   "source": [
    "import os\n",
    "\n",
    "import numpy as np\n",
    "\n",
    "import mne\n",
    "\n",
    "sample_data_folder = mne.datasets.sample.data_path()\n",
    "sample_data_raw_file = os.path.join(\n",
    "    sample_data_folder, \"MEG\", \"sample\", \"sample_audvis_raw.fif\"\n",
    ")\n",
    "raw = mne.io.read_raw_fif(sample_data_raw_file, verbose=False)\n",
    "raw.crop(tmax=60).load_data()"
   ]
  },
  {
   "cell_type": "markdown",
   "metadata": {},
   "source": [
    "The tutorial `tut-events-vs-annotations` describes in detail the\n",
    "different ways of obtaining an `Events array <events>` from a\n",
    "`~mne.io.Raw` object (see the section\n",
    "`overview-tut-events-section` for details). Since the `sample\n",
    "dataset <sample-dataset>` includes experimental events recorded on\n",
    "`stim channel` ``STI 014``, we'll start this tutorial by parsing the\n",
    "events from that channel using `mne.find_events`:"
   ]
  },
  {
   "cell_type": "code",
   "execution_count": null,
   "metadata": {},
   "outputs": [],
   "source": [
    "events = mne.find_events(raw, stim_channel=\"STI 014\")"
   ]
  },
  {
   "cell_type": "markdown",
   "metadata": {},
   "source": [
    "### Reading and writing events from/to a file\n",
    "\n",
    "Event arrays are `NumPy array <numpy.ndarray>` objects, so they could\n",
    "be saved to disk as binary `.npy` files using `numpy.save`.\n",
    "However, MNE-Python provides convenience functions `mne.read_events`\n",
    "and `mne.write_events` for reading and writing event arrays as either\n",
    "text files (common file extensions are `.eve`, `.lst`, and\n",
    "`.txt`) or binary `.fif` files. The example dataset includes the\n",
    "results of ``mne.find_events(raw)`` in a `.fif` file. Since we've\n",
    "truncated our `~mne.io.Raw` object, it will have fewer events than the\n",
    "events file loaded from disk (which contains events for the entire\n",
    "recording), but the events should match for the first 60 seconds anyway:"
   ]
  },
  {
   "cell_type": "code",
   "execution_count": null,
   "metadata": {},
   "outputs": [],
   "source": [
    "sample_data_events_file = os.path.join(\n",
    "    sample_data_folder, \"MEG\", \"sample\", \"sample_audvis_raw-eve.fif\"\n",
    ")\n",
    "events_from_file = mne.read_events(sample_data_events_file)\n",
    "assert np.array_equal(events, events_from_file[: len(events)])"
   ]
  },
  {
   "cell_type": "markdown",
   "metadata": {},
   "source": [
    "When writing event arrays to disk, the format will be inferred from the file\n",
    "extension you provide. By convention, MNE-Python expects events files to\n",
    "either have an `.eve` extension or to have a file basename ending in\n",
    "``-eve`` or ``_eve`` (e.g., `{my_experiment}_eve.fif`), and will issue\n",
    "a warning if this convention is not respected.\n",
    "\n",
    "\n",
    "### Subselecting and combining events\n",
    "\n",
    "The output of `~mne.find_events` above (repeated here) told us the\n",
    "number of events that were found, and the unique integer event IDs present:"
   ]
  },
  {
   "cell_type": "code",
   "execution_count": null,
   "metadata": {},
   "outputs": [],
   "source": [
    "mne.find_events(raw, stim_channel=\"STI 014\")"
   ]
  },
  {
   "cell_type": "markdown",
   "metadata": {},
   "source": [
    "**Including/excluding events:**\n",
    "\n",
    "```\n",
    "Just like pick_events, read_events also has include and exclude parameters.\n",
    "```\n",
    "\n",
    "If some of those events are not of interest, you can easily subselect events\n",
    "using `mne.pick_events`, which has parameters ``include`` and\n",
    "``exclude``. For example, in the sample data Event ID 32 corresponds to a\n",
    "subject button press, which could be excluded as:"
   ]
  },
  {
   "cell_type": "code",
   "execution_count": null,
   "metadata": {},
   "outputs": [],
   "source": [
    "events_no_button = mne.pick_events(events, exclude=32)"
   ]
  },
  {
   "cell_type": "markdown",
   "metadata": {},
   "source": [
    "It is also possible to combine two Event IDs using `mne.merge_events`; the following example will combine Event IDs 1, 2 and 3 into a single event labelled ``1``:"
   ]
  },
  {
   "cell_type": "code",
   "execution_count": null,
   "metadata": {},
   "outputs": [],
   "source": [
    "merged_events = mne.merge_events(events, [1, 2, 3], 1)\n",
    "print(np.unique(merged_events[:, -1]))"
   ]
  },
  {
   "cell_type": "markdown",
   "metadata": {},
   "source": [
    "Note, however, that merging events is not necessary if you simply want to\n",
    "pool trial types for analysis; the next section describes how MNE-Python uses\n",
    "*event dictionaries* to map integer Event IDs to more descriptive label\n",
    "strings.\n",
    "\n",
    "\n",
    "### Mapping Event IDs to trial descriptors\n",
    "\n",
    "So far in this tutorial we've only been dealing with integer Event IDs, which\n",
    "were assigned based on DC voltage pulse magnitude (which is ultimately\n",
    "determined by the experimenter's choices about what signals to send to the\n",
    "STIM channels). Keeping track of which Event ID corresponds to which\n",
    "experimental condition can be cumbersome, and it is often desirable to pool\n",
    "experimental conditions during analysis. You may recall that the mapping of\n",
    "integer Event IDs to meaningful descriptions for the `sample dataset\n",
    "<sample-dataset>` is given in `this table\n",
    "<sample-data-event-dict-table>` in the `introductory tutorial\n",
    "<tut-overview>`. Here we simply reproduce that mapping as an\n",
    "*event dictionary*:"
   ]
  },
  {
   "cell_type": "code",
   "execution_count": null,
   "metadata": {},
   "outputs": [],
   "source": [
    "event_dict = {\n",
    "    \"auditory/left\": 1,\n",
    "    \"auditory/right\": 2,\n",
    "    \"visual/left\": 3,\n",
    "    \"visual/right\": 4,\n",
    "    \"smiley\": 5,\n",
    "    \"buttonpress\": 32,\n",
    "}"
   ]
  },
  {
   "cell_type": "markdown",
   "metadata": {},
   "source": [
    "Event dictionaries like this one are used when extracting epochs from\n",
    "continuous data, and the resulting `~mne.Epochs` object allows pooling\n",
    "by requesting partial trial descriptors. For example, if we wanted to pool\n",
    "all auditory trials, instead of merging Event IDs 1 and 2 using the\n",
    "`~mne.merge_events` function, we can make use of the fact that the keys\n",
    "of ``event_dict`` contain multiple trial descriptors separated by ``/``\n",
    "characters: requesting ``'auditory'`` trials will select all epochs with\n",
    "Event IDs 1 and 2; requesting ``'left'`` trials will select all epochs with\n",
    "Event IDs 1 and 3. An example of this is shown later, in the\n",
    "`tut-section-subselect-epochs` section of the tutorial\n",
    "`tut-epochs-class`.\n",
    "\n",
    "\n",
    "## Plotting events\n",
    "\n",
    "Another use of event dictionaries is when plotting events, which can serve as\n",
    "a useful check that your event signals were properly sent to the STIM\n",
    "channel(s) and that MNE-Python has successfully found them. The function\n",
    "`mne.viz.plot_events` will plot each event versus its sample number\n",
    "(or, if you provide the sampling frequency, it will plot them versus time in\n",
    "seconds). It can also account for the offset between sample number and sample\n",
    "index in Neuromag systems, with the ``first_samp`` parameter. If an event\n",
    "dictionary is provided, it will be used to generate a legend:"
   ]
  },
  {
   "cell_type": "code",
   "execution_count": null,
   "metadata": {},
   "outputs": [],
   "source": [
    "fig = mne.viz.plot_events(\n",
    "    events, sfreq=raw.info[\"sfreq\"], first_samp=raw.first_samp, event_id=event_dict\n",
    ")"
   ]
  },
  {
   "cell_type": "markdown",
   "metadata": {},
   "source": [
    "### Plotting events and raw data together\n",
    "\n",
    "Events can also be plotted alongside the `~mne.io.Raw` object they\n",
    "were extracted from, by passing the Event array as the ``events`` parameter\n",
    "of `raw.plot <mne.io.Raw.plot>`:"
   ]
  },
  {
   "cell_type": "code",
   "execution_count": null,
   "metadata": {},
   "outputs": [],
   "source": [
    "raw.plot(\n",
    "    events=events,\n",
    "    start=5,\n",
    "    duration=10,\n",
    "    color=\"gray\",\n",
    "    event_color={1: \"r\", 2: \"g\", 3: \"b\", 4: \"m\", 5: \"y\", 32: \"k\"},\n",
    ")"
   ]
  },
  {
   "cell_type": "markdown",
   "metadata": {},
   "source": [
    "### Making equally-spaced Events arrays\n",
    "\n",
    "For some experiments (such as those intending to analyze resting-state\n",
    "activity) there may not be any experimental events included in the raw\n",
    "recording. In such cases, an Events array of equally-spaced events can be\n",
    "generated using `mne.make_fixed_length_events`:"
   ]
  },
  {
   "cell_type": "code",
   "execution_count": null,
   "metadata": {},
   "outputs": [],
   "source": [
    "new_events = mne.make_fixed_length_events(raw, start=5, stop=50, duration=2.0)"
   ]
  },
  {
   "cell_type": "markdown",
   "metadata": {},
   "source": [
    "By default, the events will all be given the integer Event ID of ``1``, but\n",
    "you can change that with the ``id`` parameter. It is also possible to specify\n",
    "an ``overlap`` duration — i.e., if you ultimately want `epochs` that\n",
    "are 2.5 seconds long, but you want them to overlap by 0.5 seconds, you can\n",
    "specify ``duration=2.5, overlap=0.5`` in the call to\n",
    "`~mne.make_fixed_length_events` (this will yield the same spacing of\n",
    "events as ``duration=2, overlap=0)``."
   ]
  },
  {
   "cell_type": "code",
   "execution_count": null,
   "metadata": {},
   "outputs": [],
   "source": []
  },
  {
   "cell_type": "code",
   "execution_count": null,
   "metadata": {},
   "outputs": [],
   "source": []
  },
  {
   "cell_type": "code",
   "execution_count": null,
   "metadata": {},
   "outputs": [],
   "source": []
  },
  {
   "cell_type": "markdown",
   "metadata": {},
   "source": [
    "## 3. Annotating continuous data\n",
    "\n",
    "This tutorial describes adding annotations to a `~mne.io.Raw` object,\n",
    "and how annotations are used in later stages of data processing.\n",
    "\n",
    "As usual we'll start by importing the modules we need, loading some\n",
    "`example data <sample-dataset>`, and (since we won't actually analyze the\n",
    "raw data in this tutorial) cropping the `~mne.io.Raw` object to just 60\n",
    "seconds before loading it into RAM to save memory:"
   ]
  },
  {
   "cell_type": "code",
   "execution_count": null,
   "metadata": {},
   "outputs": [],
   "source": [
    "import os\n",
    "from datetime import timedelta\n",
    "\n",
    "import mne\n",
    "\n",
    "sample_data_folder = mne.datasets.sample.data_path()\n",
    "sample_data_raw_file = os.path.join(\n",
    "    sample_data_folder, \"MEG\", \"sample\", \"sample_audvis_raw.fif\"\n",
    ")\n",
    "raw = mne.io.read_raw_fif(sample_data_raw_file, verbose=False)\n",
    "raw.crop(tmax=60).load_data()"
   ]
  },
  {
   "cell_type": "markdown",
   "metadata": {},
   "source": [
    "`~mne.Annotations` in MNE-Python are a way of storing short strings of\n",
    "information about temporal spans of a `~mne.io.Raw` object. Below the\n",
    "surface, `~mne.Annotations` are `list-like <list>` objects,\n",
    "where each element comprises three pieces of information: an ``onset`` time\n",
    "(in seconds), a ``duration`` (also in seconds), and a ``description`` (a text\n",
    "string). Additionally, the `~mne.Annotations` object itself also keeps\n",
    "track of ``orig_time``, which is a `POSIX timestamp`_ denoting a real-world\n",
    "time relative to which the annotation onsets should be interpreted.\n",
    "\n",
    "\n",
    "\n",
    "### Creating annotations programmatically\n",
    "\n",
    "If you know in advance what spans of the `~mne.io.Raw` object you want\n",
    "to annotate, `~mne.Annotations` can be created programmatically, and\n",
    "you can even pass lists or arrays to the `~mne.Annotations`\n",
    "constructor to annotate multiple spans at once:"
   ]
  },
  {
   "cell_type": "code",
   "execution_count": null,
   "metadata": {},
   "outputs": [],
   "source": [
    "my_annot = mne.Annotations(\n",
    "    onset=[3, 5, 7],  # in seconds\n",
    "    duration=[1, 0.5, 0.25],  # in seconds, too\n",
    "    description=[\"AAA\", \"BBB\", \"CCC\"],\n",
    ")\n",
    "print(my_annot)"
   ]
  },
  {
   "cell_type": "markdown",
   "metadata": {},
   "source": [
    "Notice that ``orig_time`` is ``None``, because we haven't specified it. In\n",
    "those cases, when you add the annotations to a `~mne.io.Raw` object,\n",
    "it is assumed that the ``orig_time`` matches the time of the first sample of\n",
    "the recording, so ``orig_time`` will be set to match the recording\n",
    "measurement date (``raw.info['meas_date']``)."
   ]
  },
  {
   "cell_type": "code",
   "execution_count": null,
   "metadata": {},
   "outputs": [],
   "source": [
    "raw.set_annotations(my_annot)\n",
    "print(raw.annotations)\n",
    "\n",
    "# convert meas_date (a tuple of seconds, microseconds) into a float:\n",
    "meas_date = raw.info[\"meas_date\"]\n",
    "orig_time = raw.annotations.orig_time\n",
    "print(meas_date == orig_time)"
   ]
  },
  {
   "cell_type": "markdown",
   "metadata": {},
   "source": [
    "Since the example data comes from a Neuromag system that starts counting\n",
    "sample numbers before the recording begins, adding ``my_annot`` to the\n",
    "`~mne.io.Raw` object also involved another automatic change: an offset\n",
    "equalling the time of the first recorded sample (``raw.first_samp /\n",
    "raw.info['sfreq']``) was added to the ``onset`` values of each annotation\n",
    "(see `time-as-index` for more info on ``raw.first_samp``):"
   ]
  },
  {
   "cell_type": "code",
   "execution_count": null,
   "metadata": {},
   "outputs": [],
   "source": [
    "time_of_first_sample = raw.first_samp / raw.info[\"sfreq\"]\n",
    "print(my_annot.onset + time_of_first_sample)\n",
    "print(raw.annotations.onset)"
   ]
  },
  {
   "cell_type": "markdown",
   "metadata": {},
   "source": [
    "If you know that your annotation onsets are relative to some other time, you\n",
    "can set ``orig_time`` before you call `~mne.io.Raw.set_annotations`,\n",
    "and the onset times will get adjusted based on the time difference between\n",
    "your specified ``orig_time`` and ``raw.info['meas_date']``, but without the\n",
    "additional adjustment for ``raw.first_samp``. ``orig_time`` can be specified\n",
    "in various ways (see the documentation of `~mne.Annotations` for the\n",
    "options); here we'll use an `ISO 8601`_ formatted string, and set it to be 50\n",
    "seconds later than ``raw.info['meas_date']``."
   ]
  },
  {
   "cell_type": "code",
   "execution_count": null,
   "metadata": {},
   "outputs": [],
   "source": [
    "time_format = \"%Y-%m-%d %H:%M:%S.%f\"\n",
    "new_orig_time = (meas_date + timedelta(seconds=50)).strftime(time_format)\n",
    "print(new_orig_time)\n",
    "\n",
    "later_annot = mne.Annotations(\n",
    "    onset=[3, 5, 7],\n",
    "    duration=[1, 0.5, 0.25],\n",
    "    description=[\"DDD\", \"EEE\", \"FFF\"],\n",
    "    orig_time=new_orig_time,\n",
    ")\n",
    "\n",
    "raw2 = raw.copy().set_annotations(later_annot)\n",
    "print(later_annot.onset)\n",
    "print(raw2.annotations.onset)"
   ]
  },
  {
   "cell_type": "markdown",
   "metadata": {},
   "source": [
    "<div class=\"alert alert-info\"><h4>Note</h4><p>If your annotations fall outside the range of data times in the\n",
    "    `~mne.io.Raw` object, the annotations outside the data range will\n",
    "    not be added to ``raw.annotations``, and a warning will be issued.</p></div>\n",
    "\n",
    "Now that your annotations have been added to a `~mne.io.Raw` object,\n",
    "you can see them when you visualize the `~mne.io.Raw` object:"
   ]
  },
  {
   "cell_type": "code",
   "execution_count": null,
   "metadata": {},
   "outputs": [],
   "source": [
    "fig = raw.plot(start=2, duration=6)"
   ]
  },
  {
   "cell_type": "markdown",
   "metadata": {},
   "source": [
    "The three annotations appear as differently colored rectangles because they\n",
    "have different ``description`` values (which are printed along the top\n",
    "edge of the plot area). Notice also that colored spans appear in the small\n",
    "scroll bar at the bottom of the plot window, making it easy to quickly view\n",
    "where in a `~mne.io.Raw` object the annotations are so you can easily\n",
    "browse through the data to find and examine them.\n",
    "\n",
    "\n",
    "### Annotating Raw objects interactively\n",
    "\n",
    "Annotations can also be added to a `~mne.io.Raw` object interactively\n",
    "by clicking-and-dragging the mouse in the plot window. To do this, you must\n",
    "first enter \"annotation mode\" by pressing `a` while the plot window is\n",
    "focused; this will bring up the annotation controls:"
   ]
  },
  {
   "cell_type": "code",
   "execution_count": null,
   "metadata": {},
   "outputs": [],
   "source": [
    "fig = raw.plot(start=2, duration=6)\n",
    "fig.fake_keypress(\"a\")"
   ]
  },
  {
   "cell_type": "markdown",
   "metadata": {},
   "source": [
    "The drop-down-menu on the left determines which existing label will be\n",
    "created by the next click-and-drag operation in the main plot window. New\n",
    "annotation descriptions can be added by clicking the `Add\n",
    "description` button; the new description will be added to the list of\n",
    "descriptions and automatically selected.\n",
    "The following functions relate to which description is currently selected in\n",
    "the drop-down-menu:\n",
    "With `Remove description` you can remove description\n",
    "including the annotations.\n",
    "With `Edit description` you can edit\n",
    "the description of either only one annotation (the one currently selected)\n",
    "or all annotations of a description.\n",
    "With `Set Visible` you can show or hide descriptions.\n",
    "\n",
    "During interactive annotation it is also possible to adjust the start and end\n",
    "times of existing annotations, by clicking-and-dragging on the left or right\n",
    "edges of the highlighting rectangle corresponding to that annotation. When\n",
    "an annotation is selected (the background of the label at the bottom changes\n",
    "to darker) the values for start and stop are visible in two spinboxes and\n",
    "can also be edited there.\n",
    "\n",
    "<div class=\"alert alert-danger\"><h4>Warning</h4><p>Calling :meth:`~mne.io.Raw.set_annotations` **replaces** any annotations\n",
    "    currently stored in the `~mne.io.Raw` object, so be careful when\n",
    "    working with annotations that were created interactively (you could lose\n",
    "    a lot of work if you accidentally overwrite your interactive\n",
    "    annotations). A good safeguard is to run\n",
    "    ``interactive_annot = raw.annotations`` after you finish an interactive\n",
    "    annotation session, so that the annotations are stored in a separate\n",
    "    variable outside the `~mne.io.Raw` object.</p></div>\n",
    "\n",
    "\n",
    "### How annotations affect preprocessing and analysis\n",
    "\n",
    "You may have noticed that the description for new labels in the annotation\n",
    "controls window defaults to ``BAD_``. The reason for this is that annotation\n",
    "is often used to mark bad temporal spans of data (such as movement artifacts\n",
    "or environmental interference that cannot be removed in other ways such as\n",
    "`projection <tut-projectors-background>` or filtering). Several\n",
    "MNE-Python operations\n",
    "are \"annotation aware\" and will avoid using data that is annotated with a\n",
    "description that begins with \"bad\" or \"BAD\"; such operations typically have a\n",
    "boolean ``reject_by_annotation`` parameter. Examples of such operations are\n",
    "independent components analysis (`mne.preprocessing.ICA`), functions\n",
    "for finding heartbeat and blink artifacts\n",
    "(`~mne.preprocessing.find_ecg_events`,\n",
    "`~mne.preprocessing.find_eog_events`), and creation of epoched data\n",
    "from continuous data (`mne.Epochs`). See `tut-reject-data-spans`\n",
    "for details.\n",
    "\n",
    "\n",
    "### Operations on Annotations objects\n",
    "\n",
    "`~mne.Annotations` objects can be combined by simply adding them with\n",
    "the ``+`` operator, as long as they share the same ``orig_time``:"
   ]
  },
  {
   "cell_type": "code",
   "execution_count": null,
   "metadata": {},
   "outputs": [],
   "source": [
    "new_annot = mne.Annotations(onset=3.75, duration=0.75, description=\"AAA\")\n",
    "raw.set_annotations(my_annot + new_annot)\n",
    "raw.plot(start=2, duration=6)"
   ]
  },
  {
   "cell_type": "markdown",
   "metadata": {},
   "source": [
    "Notice that it is possible to create overlapping annotations, even when they\n",
    "share the same description. This is *not* possible when annotating\n",
    "interactively; click-and-dragging to create a new annotation that overlaps\n",
    "with an existing annotation with the same description will cause the old and\n",
    "new annotations to be merged.\n",
    "\n",
    "Individual annotations can be accessed by indexing an\n",
    "`~mne.Annotations` object, and subsets of the annotations can be\n",
    "achieved by either slicing or indexing with a list, tuple, or array of\n",
    "indices:"
   ]
  },
  {
   "cell_type": "code",
   "execution_count": null,
   "metadata": {},
   "outputs": [],
   "source": [
    "print(raw.annotations[0])  # just the first annotation\n",
    "print(raw.annotations[:2])  # the first two annotations\n",
    "print(raw.annotations[(3, 2)])  # the fourth and third annotations"
   ]
  },
  {
   "cell_type": "markdown",
   "metadata": {},
   "source": [
    "You can also iterate over the annotations within an `~mne.Annotations`\n",
    "object:"
   ]
  },
  {
   "cell_type": "code",
   "execution_count": null,
   "metadata": {},
   "outputs": [],
   "source": [
    "for ann in raw.annotations:\n",
    "    descr = ann[\"description\"]\n",
    "    start = ann[\"onset\"]\n",
    "    end = ann[\"onset\"] + ann[\"duration\"]\n",
    "    print(f\"'{descr}' goes from {start} to {end}\")"
   ]
  },
  {
   "cell_type": "markdown",
   "metadata": {},
   "source": [
    "Note that iterating, indexing and slicing `~mne.Annotations` all\n",
    "return a copy, so changes to an indexed, sliced, or iterated element will not\n",
    "modify the original `~mne.Annotations` object."
   ]
  },
  {
   "cell_type": "code",
   "execution_count": null,
   "metadata": {},
   "outputs": [],
   "source": [
    "# later_annot WILL be changed, because we're modifying the first element of\n",
    "# later_annot.onset directly:\n",
    "later_annot.onset[0] = 99\n",
    "\n",
    "# later_annot WILL NOT be changed, because later_annot[0] returns a copy\n",
    "# before the 'onset' field is changed:\n",
    "later_annot[0][\"onset\"] = 77\n",
    "\n",
    "print(later_annot[0][\"onset\"])"
   ]
  },
  {
   "cell_type": "markdown",
   "metadata": {},
   "source": [
    "### Reading and writing Annotations to/from a file\n",
    "\n",
    "`~mne.Annotations` objects have a `~mne.Annotations.save` method\n",
    "which can write `.fif`, `.csv`, and `.txt` formats (the\n",
    "format to write is inferred from the file extension in the filename you\n",
    "provide). Be aware that the format of the onset information that is written\n",
    "to the file depends on the file extension. While `.csv` files store the\n",
    "onset as timestamps, `.txt` files write floats (in seconds). There is a\n",
    "corresponding `~mne.read_annotations` function to load them from disk:"
   ]
  },
  {
   "cell_type": "code",
   "execution_count": null,
   "metadata": {},
   "outputs": [],
   "source": [
    "raw.annotations.save(\"saved-annotations.csv\", overwrite=True)\n",
    "annot_from_file = mne.read_annotations(\"saved-annotations.csv\")\n",
    "print(annot_from_file)"
   ]
  },
  {
   "cell_type": "code",
   "execution_count": null,
   "metadata": {},
   "outputs": [],
   "source": []
  },
  {
   "cell_type": "code",
   "execution_count": null,
   "metadata": {},
   "outputs": [],
   "source": []
  },
  {
   "cell_type": "code",
   "execution_count": null,
   "metadata": {},
   "outputs": [],
   "source": []
  },
  {
   "cell_type": "markdown",
   "metadata": {},
   "source": [
    "## 4. Built-in plotting methods for Raw objects\n",
    "\n",
    "This tutorial shows how to plot continuous data as a time series, how to plot the\n",
    "spectral density of continuous data, and how to plot the sensor locations and projectors\n",
    "stored in `~mne.io.Raw` objects.\n",
    "\n",
    "As usual we'll start by importing the modules we need, loading some\n",
    "`example data <sample-dataset>`, and cropping the `~mne.io.Raw` object to just 60\n",
    "seconds before loading it into RAM to save memory:"
   ]
  },
  {
   "cell_type": "code",
   "execution_count": null,
   "metadata": {},
   "outputs": [],
   "source": [
    "import os\n",
    "\n",
    "import mne\n",
    "\n",
    "sample_data_folder = mne.datasets.sample.data_path()\n",
    "sample_data_raw_file = os.path.join(\n",
    "    sample_data_folder, \"MEG\", \"sample\", \"sample_audvis_raw.fif\"\n",
    ")\n",
    "raw = mne.io.read_raw_fif(sample_data_raw_file)\n",
    "raw.crop(tmax=60).load_data()"
   ]
  },
  {
   "cell_type": "markdown",
   "metadata": {},
   "source": [
    "We've seen in `a previous tutorial <tut-raw-class>` how to plot data\n",
    "from a `~mne.io.Raw` object using `matplotlib <matplotlib:index>`,\n",
    "but `~mne.io.Raw` objects also have several built-in plotting methods:\n",
    "\n",
    "- `~mne.io.Raw.plot`\n",
    "- `~mne.io.Raw.plot_sensors`\n",
    "- `~mne.io.Raw.plot_projs_topomap`\n",
    "\n",
    "The first one is discussed here in detail; the last two are shown briefly\n",
    "and covered in-depth in other tutorials. This tutorial also covers a few\n",
    "ways of plotting the spectral content of :class:`~mne.io.Raw` data.\n",
    "\n",
    "\n",
    "### Interactive data browsing with ``Raw.plot()``\n",
    "\n",
    "The `~mne.io.Raw.plot` method of `~mne.io.Raw` objects provides\n",
    "a versatile interface for exploring continuous data. For interactive viewing\n",
    "and data quality checking, it can be called with no additional parameters:"
   ]
  },
  {
   "cell_type": "code",
   "execution_count": null,
   "metadata": {},
   "outputs": [],
   "source": [
    "raw.plot()"
   ]
  },
  {
   "cell_type": "markdown",
   "metadata": {},
   "source": [
    "It may not be obvious when viewing this tutorial online, but by default, the\n",
    "`~mne.io.Raw.plot` method generates an *interactive* plot window with\n",
    "several useful features:\n",
    "\n",
    "- It spaces the channels equally along the y-axis.\n",
    "\n",
    "  - 20 channels are shown by default; you can scroll through the channels\n",
    "    using the `↑` and `↓` arrow keys, or by clicking on the\n",
    "    colored scroll bar on the right edge of the plot.\n",
    "\n",
    "  - The number of visible channels can be adjusted by the ``n_channels``\n",
    "    parameter, or changed interactively using `page up` and |`page\n",
    "    down` keys.\n",
    "\n",
    "  - You can toggle the display to \"butterfly\" mode (superimposing all\n",
    "    channels of the same type on top of one another) by pressing `b`,\n",
    "    or start in butterfly mode by passing the ``butterfly=True`` parameter.\n",
    "\n",
    "- It shows the first 10 seconds of the `~mne.io.Raw` object.\n",
    "\n",
    "  - You can shorten or lengthen the window length using `home` and\n",
    "    `end` keys, or start with a specific window duration by passing the\n",
    "    ``duration`` parameter.\n",
    "\n",
    "  - You can scroll in the time domain using the `←` and\n",
    "    `→` arrow keys, or start at a specific point by passing the\n",
    "    ``start`` parameter. Scrolling using `shift``→` or\n",
    "    `shift``←` scrolls a full window width at a time.\n",
    "\n",
    "- It allows clicking on channels to mark/unmark as \"bad\".\n",
    "\n",
    "  - When the plot window is closed, the `~mne.io.Raw` object's\n",
    "    ``info`` attribute will be updated, adding or removing the newly\n",
    "    (un)marked channels to/from the `~mne.Info` object's ``bads``\n",
    "    field (A.K.A. ``raw.info['bads']``).\n",
    "\n",
    "- It allows interactive `annotation <annotations>` of the raw data.\n",
    "\n",
    "  - This allows you to mark time spans that should be excluded from future\n",
    "    computations due to large movement artifacts, line noise, or other\n",
    "    distortions of the signal. Annotation mode is entered by pressing\n",
    "    :kbd:`a`. See `annotations-tutorial` for details.\n",
    "\n",
    "- It automatically applies any `projectors <projector>` before plotting\n",
    "  the data.\n",
    "\n",
    "  - These can be enabled/disabled interactively by clicking the ``Proj``\n",
    "    button at the lower right corner of the plot window, or disabled by\n",
    "    default by passing the ``proj=False`` parameter. See\n",
    "    `tut-projectors-background` for more info on projectors.\n",
    "\n",
    "These and other keyboard shortcuts are listed in the Help window, accessed\n",
    "through the ``Help`` button at the lower left corner of the plot window.\n",
    "Other plot properties (such as color of the channel traces, channel order and\n",
    "grouping, simultaneous plotting of `events`, scaling, clipping,\n",
    "filtering, etc.) can also be adjusted through parameters passed to the\n",
    "`~mne.io.Raw.plot` method; see the docstring for details.\n",
    "\n",
    "\n",
    "## Plotting spectral density of continuous data\n",
    "\n",
    "To visualize the frequency content of continuous data, the `~mne.io.Raw`\n",
    "object provides a `~mne.io.Raw.compute_psd` method to compute\n",
    "`spectral density`_ and the resulting `~mne.time_frequency.Spectrum`\n",
    "object has a `~mne.time_frequency.Spectrum.plot` method:"
   ]
  },
  {
   "cell_type": "code",
   "execution_count": null,
   "metadata": {},
   "outputs": [],
   "source": [
    "spectrum = raw.compute_psd()\n",
    "spectrum.plot(average=True, picks=\"data\", exclude=\"bads\", amplitude=False)"
   ]
  },
  {
   "cell_type": "markdown",
   "metadata": {},
   "source": [
    "If the data have been filtered, vertical dashed lines will automatically\n",
    "indicate filter boundaries. The spectrum for each channel type is drawn in\n",
    "its own subplot; here we've passed the ``average=True`` parameter to get a\n",
    "summary for each channel type, but it is also possible to plot each channel\n",
    "individually, with options for how the spectrum should be computed,\n",
    "color-coding the channels by location, and more. For example, here is a plot\n",
    "of just a few sensors (specified with the ``picks`` parameter), color-coded\n",
    "by spatial location (via the ``spatial_colors`` parameter, see the\n",
    "documentation of `~mne.time_frequency.Spectrum.plot` for full details):"
   ]
  },
  {
   "cell_type": "code",
   "execution_count": null,
   "metadata": {},
   "outputs": [],
   "source": [
    "midline = [\"EEG 002\", \"EEG 012\", \"EEG 030\", \"EEG 048\", \"EEG 058\", \"EEG 060\"]\n",
    "spectrum.plot(picks=midline, exclude=\"bads\", amplitude=False)"
   ]
  },
  {
   "cell_type": "markdown",
   "metadata": {},
   "source": [
    "It is also possible to plot spectral power estimates across sensors as a\n",
    "scalp topography, using the `~mne.time_frequency.Spectrum`'s\n",
    "`~mne.time_frequency.Spectrum.plot_topomap` method. The default\n",
    "parameters will plot five frequency bands (δ, θ, α, β, γ), will compute power\n",
    "based on magnetometer channels (if present), and will plot the power\n",
    "estimates on a dB-like log-scale:"
   ]
  },
  {
   "cell_type": "code",
   "execution_count": null,
   "metadata": {},
   "outputs": [],
   "source": [
    "spectrum.plot_topomap()"
   ]
  },
  {
   "cell_type": "markdown",
   "metadata": {},
   "source": [
    "Alternatively, you can plot the PSD for every sensor on its own axes, with\n",
    "the axes arranged spatially to correspond to sensor locations in space, using\n",
    "`~mne.time_frequency.Spectrum.plot_topo`:"
   ]
  },
  {
   "cell_type": "code",
   "execution_count": null,
   "metadata": {},
   "outputs": [],
   "source": [
    "spectrum.plot_topo()"
   ]
  },
  {
   "cell_type": "markdown",
   "metadata": {},
   "source": [
    "This plot is also interactive; hovering over each \"thumbnail\" plot will\n",
    "display the channel name in the bottom left of the plot window, and clicking\n",
    "on a thumbnail plot will create a second figure showing a larger version of\n",
    "the selected channel's spectral density (as if you had called\n",
    "`~mne.time_frequency.Spectrum.plot` with that channel passed as ``picks``).\n",
    "\n",
    "By default, `~mne.time_frequency.Spectrum.plot_topo` will show only the MEG\n",
    "channels if MEG channels are present; if only EEG channels are found, they\n",
    "will be plotted instead:"
   ]
  },
  {
   "cell_type": "code",
   "execution_count": null,
   "metadata": {},
   "outputs": [],
   "source": [
    "spectrum.pick(\"eeg\").plot_topo()"
   ]
  },
  {
   "cell_type": "markdown",
   "metadata": {},
   "source": [
    "<div class=\"alert alert-info\"><h4>Note</h4><p>Prior to the addition of the :class:`~mne.time_frequency.Spectrum` class,\n",
    "   the above plots were possible via::\n",
    "\n",
    "       raw.plot_psd(average=True)\n",
    "       raw.plot_psd_topo()\n",
    "       raw.pick('eeg').plot_psd_topo()\n",
    "\n",
    "   (there was no ``plot_topomap`` method for `~mne.io.Raw`). The\n",
    "   `~mne.io.Raw.plot_psd` and `~mne.io.Raw.plot_psd_topo` methods\n",
    "   of `~mne.io.Raw` objects are still provided to support legacy\n",
    "   analysis scripts, but new code should instead use the\n",
    "   `~mne.time_frequency.Spectrum` object API.</p></div>\n",
    "\n",
    "\n",
    "### Plotting sensor locations from ``Raw`` objects\n",
    "\n",
    "The channel locations in a `~mne.io.Raw` object can be easily plotted\n",
    "with the `~mne.io.Raw.plot_sensors` method. A brief example is shown\n",
    "here; notice that channels in ``raw.info['bads']`` are plotted in red. More\n",
    "details and additional examples are given in the tutorial\n",
    "`tut-sensor-locations`."
   ]
  },
  {
   "cell_type": "code",
   "execution_count": null,
   "metadata": {},
   "outputs": [],
   "source": [
    "raw.plot_sensors(ch_type=\"eeg\")"
   ]
  },
  {
   "cell_type": "markdown",
   "metadata": {},
   "source": [
    "### Plotting projectors from ``Raw`` objects\n",
    "\n",
    "As seen in the output of `mne.io.read_raw_fif` above, there are\n",
    "`projectors <projector>` included in the example `~mne.io.Raw`\n",
    "file (representing environmental noise in the signal, so it can later be\n",
    "\"projected out\" during preprocessing). You can visualize these projectors\n",
    "using the `~mne.io.Raw.plot_projs_topomap` method. By default it will\n",
    "show one figure per channel type for which projectors are present, and each\n",
    "figure will have one subplot per projector. The three projectors in this file\n",
    "were only computed for magnetometers, so one figure with three subplots is\n",
    "generated. More details on working with and plotting projectors are given in\n",
    "`tut-projectors-background` and `tut-artifact-ssp`."
   ]
  },
  {
   "cell_type": "code",
   "execution_count": null,
   "metadata": {},
   "outputs": [],
   "source": [
    "raw.plot_projs_topomap(colorbar=True)"
   ]
  },
  {
   "cell_type": "code",
   "execution_count": null,
   "metadata": {},
   "outputs": [],
   "source": []
  }
 ],
 "metadata": {
  "colab": {
   "provenance": []
  },
  "kernelspec": {
   "display_name": "Python 3 (ipykernel)",
   "language": "python",
   "name": "python3"
  },
  "language_info": {
   "codemirror_mode": {
    "name": "ipython",
    "version": 3
   },
   "file_extension": ".py",
   "mimetype": "text/x-python",
   "name": "python",
   "nbconvert_exporter": "python",
   "pygments_lexer": "ipython3",
   "version": "3.10.9"
  }
 },
 "nbformat": 4,
 "nbformat_minor": 1
}
